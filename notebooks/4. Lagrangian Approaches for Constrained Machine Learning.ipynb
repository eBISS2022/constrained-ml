{
 "cells": [
  {
   "cell_type": "code",
   "execution_count": 1,
   "metadata": {
    "slideshow": {
     "slide_type": "skip"
    }
   },
   "outputs": [],
   "source": [
    "# ============================================================\n",
    "# Notebook setup\n",
    "# ============================================================\n",
    "\n",
    "%load_ext autoreload\n",
    "%autoreload 2\n",
    "\n",
    "# Control figure size\n",
    "interactive_figures = True\n",
    "if interactive_figures:\n",
    "    # Normal behavior\n",
    "    %matplotlib widget\n",
    "    figsize=(9, 3)\n",
    "else:\n",
    "    # PDF export behavior\n",
    "    figsize=(14, 5)\n",
    "\n",
    "from util import util\n",
    "import numpy as np\n",
    "from sklearn.preprocessing import MinMaxScaler, StandardScaler\n",
    "import pandas as pd\n",
    "from sklearn.metrics import r2_score\n",
    "\n",
    "# Load data\n",
    "data_folder = '../data'"
   ]
  },
  {
   "cell_type": "markdown",
   "metadata": {
    "slideshow": {
     "slide_type": "slide"
    }
   },
   "source": [
    "# Lagrangian Approaches for Constrained ML"
   ]
  },
  {
   "cell_type": "markdown",
   "metadata": {
    "slideshow": {
     "slide_type": "subslide"
    }
   },
   "source": [
    "## Machine Learning and Hard Constraints\n",
    "\n",
    "**Sometimes, you want a ML model to respect _hard constraints_**\n",
    "\n",
    "This happens for example:\n",
    "\n",
    "* When there are physical laws that you know to be true\n",
    "* In case of safety concerns\n",
    "* When ethical aspects are involved\n",
    "\n",
    "**In principle, we could still use our $\\max$-based Lagrangian approach:**\n",
    "\n",
    "$$\n",
    "\\text{argmin}_{\\omega} \\left\\{ L(y) + \\lambda^T \\max(0, g(y)) \\right\\} \\text{ with: } y = f(\\hat{x}; \\omega)\n",
    "$$\n",
    "\n",
    "Where $g$ is the constrained quantity\n",
    "\n",
    "* Intuitively, for a large enough $\\lambda$...\n",
    "* ...It should be possible to reach _approximate_ satisfaction on the _training set_"
   ]
  },
  {
   "cell_type": "markdown",
   "metadata": {
    "slideshow": {
     "slide_type": "subslide"
    }
   },
   "source": [
    "## A Case Study: Fairness in ML Models\n",
    "\n",
    "**As a case study, say we want to estimate the risk of violent crimes**\n",
    "\n",
    "<center><img src=\"assets/minority-report.jpg\" width=800px/></center>\n",
    "\n",
    "* This is obviously a very _ethically sensitive (and questionable) task_\n",
    "* Our model may easily end up discriminating some social groups"
   ]
  },
  {
   "cell_type": "markdown",
   "metadata": {
    "slideshow": {
     "slide_type": "subslide"
    }
   },
   "source": [
    "## Loading and Preparing the Dataset\n",
    "\n",
    "**We will start by loading the [\"crime\" UCI dataset](https://archive.ics.uci.edu/ml/datasets/Communities+and+Crime)**\n",
    "\n",
    "We will use a pre-processed version:"
   ]
  },
  {
   "cell_type": "code",
   "execution_count": 2,
   "metadata": {
    "scrolled": false
   },
   "outputs": [
    {
     "data": {
      "text/html": [
       "<div>\n",
       "<style scoped>\n",
       "    .dataframe tbody tr th:only-of-type {\n",
       "        vertical-align: middle;\n",
       "    }\n",
       "\n",
       "    .dataframe tbody tr th {\n",
       "        vertical-align: top;\n",
       "    }\n",
       "\n",
       "    .dataframe thead th {\n",
       "        text-align: right;\n",
       "    }\n",
       "</style>\n",
       "<table border=\"1\" class=\"dataframe\">\n",
       "  <thead>\n",
       "    <tr style=\"text-align: right;\">\n",
       "      <th></th>\n",
       "      <th>communityname</th>\n",
       "      <th>state</th>\n",
       "      <th>fold</th>\n",
       "      <th>pop</th>\n",
       "      <th>race</th>\n",
       "      <th>pct12-21</th>\n",
       "      <th>pct12-29</th>\n",
       "      <th>pct16-24</th>\n",
       "      <th>pct65up</th>\n",
       "      <th>pctUrban</th>\n",
       "      <th>...</th>\n",
       "      <th>pctForeignBorn</th>\n",
       "      <th>pctBornStateResid</th>\n",
       "      <th>pctSameHouse-5</th>\n",
       "      <th>pctSameCounty-5</th>\n",
       "      <th>pctSameState-5</th>\n",
       "      <th>landArea</th>\n",
       "      <th>popDensity</th>\n",
       "      <th>pctUsePubTrans</th>\n",
       "      <th>pctOfficDrugUnit</th>\n",
       "      <th>violentPerPop</th>\n",
       "    </tr>\n",
       "  </thead>\n",
       "  <tbody>\n",
       "    <tr>\n",
       "      <th>1008</th>\n",
       "      <td>EastLampetertownship</td>\n",
       "      <td>PA</td>\n",
       "      <td>5</td>\n",
       "      <td>11999</td>\n",
       "      <td>0</td>\n",
       "      <td>0.1203</td>\n",
       "      <td>0.2544</td>\n",
       "      <td>0.1208</td>\n",
       "      <td>0.1302</td>\n",
       "      <td>0.5776</td>\n",
       "      <td>...</td>\n",
       "      <td>0.0288</td>\n",
       "      <td>0.8132</td>\n",
       "      <td>0.6033</td>\n",
       "      <td>0.8597</td>\n",
       "      <td>0.9219</td>\n",
       "      <td>20.7</td>\n",
       "      <td>580.7</td>\n",
       "      <td>0.0103</td>\n",
       "      <td>0.0000</td>\n",
       "      <td>147.49</td>\n",
       "    </tr>\n",
       "    <tr>\n",
       "      <th>1271</th>\n",
       "      <td>EastProvidencecity</td>\n",
       "      <td>RI</td>\n",
       "      <td>6</td>\n",
       "      <td>50380</td>\n",
       "      <td>0</td>\n",
       "      <td>0.1171</td>\n",
       "      <td>0.2459</td>\n",
       "      <td>0.1159</td>\n",
       "      <td>0.1660</td>\n",
       "      <td>1.0000</td>\n",
       "      <td>...</td>\n",
       "      <td>0.1474</td>\n",
       "      <td>0.6561</td>\n",
       "      <td>0.6557</td>\n",
       "      <td>0.8929</td>\n",
       "      <td>0.9252</td>\n",
       "      <td>13.9</td>\n",
       "      <td>3629.0</td>\n",
       "      <td>0.0357</td>\n",
       "      <td>0.0000</td>\n",
       "      <td>150.88</td>\n",
       "    </tr>\n",
       "    <tr>\n",
       "      <th>1936</th>\n",
       "      <td>Betheltown</td>\n",
       "      <td>CT</td>\n",
       "      <td>9</td>\n",
       "      <td>17541</td>\n",
       "      <td>0</td>\n",
       "      <td>0.1356</td>\n",
       "      <td>0.2507</td>\n",
       "      <td>0.1138</td>\n",
       "      <td>0.0804</td>\n",
       "      <td>0.8514</td>\n",
       "      <td>...</td>\n",
       "      <td>0.0853</td>\n",
       "      <td>0.4878</td>\n",
       "      <td>0.5953</td>\n",
       "      <td>0.8485</td>\n",
       "      <td>0.8689</td>\n",
       "      <td>17.4</td>\n",
       "      <td>1008.2</td>\n",
       "      <td>0.0252</td>\n",
       "      <td>0.0000</td>\n",
       "      <td>95.47</td>\n",
       "    </tr>\n",
       "    <tr>\n",
       "      <th>1601</th>\n",
       "      <td>Crowleycity</td>\n",
       "      <td>LA</td>\n",
       "      <td>8</td>\n",
       "      <td>13983</td>\n",
       "      <td>0</td>\n",
       "      <td>0.1506</td>\n",
       "      <td>0.2587</td>\n",
       "      <td>0.1234</td>\n",
       "      <td>0.1302</td>\n",
       "      <td>0.0000</td>\n",
       "      <td>...</td>\n",
       "      <td>0.0029</td>\n",
       "      <td>0.9314</td>\n",
       "      <td>0.5898</td>\n",
       "      <td>0.9219</td>\n",
       "      <td>0.9769</td>\n",
       "      <td>4.7</td>\n",
       "      <td>2957.5</td>\n",
       "      <td>0.0098</td>\n",
       "      <td>0.0000</td>\n",
       "      <td>1029.02</td>\n",
       "    </tr>\n",
       "    <tr>\n",
       "      <th>293</th>\n",
       "      <td>Pawtucketcity</td>\n",
       "      <td>RI</td>\n",
       "      <td>2</td>\n",
       "      <td>72644</td>\n",
       "      <td>0</td>\n",
       "      <td>0.1230</td>\n",
       "      <td>0.2725</td>\n",
       "      <td>0.1276</td>\n",
       "      <td>0.1464</td>\n",
       "      <td>1.0000</td>\n",
       "      <td>...</td>\n",
       "      <td>0.1771</td>\n",
       "      <td>0.6363</td>\n",
       "      <td>0.5807</td>\n",
       "      <td>0.8805</td>\n",
       "      <td>0.8906</td>\n",
       "      <td>9.1</td>\n",
       "      <td>8027.0</td>\n",
       "      <td>0.0318</td>\n",
       "      <td>0.1103</td>\n",
       "      <td>458.28</td>\n",
       "    </tr>\n",
       "  </tbody>\n",
       "</table>\n",
       "<p>5 rows × 101 columns</p>\n",
       "</div>"
      ],
      "text/plain": [
       "             communityname state  fold    pop  race  pct12-21  pct12-29  \\\n",
       "1008  EastLampetertownship    PA     5  11999     0    0.1203    0.2544   \n",
       "1271    EastProvidencecity    RI     6  50380     0    0.1171    0.2459   \n",
       "1936            Betheltown    CT     9  17541     0    0.1356    0.2507   \n",
       "1601           Crowleycity    LA     8  13983     0    0.1506    0.2587   \n",
       "293          Pawtucketcity    RI     2  72644     0    0.1230    0.2725   \n",
       "\n",
       "      pct16-24  pct65up  pctUrban  ...  pctForeignBorn  pctBornStateResid  \\\n",
       "1008    0.1208   0.1302    0.5776  ...          0.0288             0.8132   \n",
       "1271    0.1159   0.1660    1.0000  ...          0.1474             0.6561   \n",
       "1936    0.1138   0.0804    0.8514  ...          0.0853             0.4878   \n",
       "1601    0.1234   0.1302    0.0000  ...          0.0029             0.9314   \n",
       "293     0.1276   0.1464    1.0000  ...          0.1771             0.6363   \n",
       "\n",
       "      pctSameHouse-5  pctSameCounty-5  pctSameState-5  landArea  popDensity  \\\n",
       "1008          0.6033           0.8597          0.9219      20.7       580.7   \n",
       "1271          0.6557           0.8929          0.9252      13.9      3629.0   \n",
       "1936          0.5953           0.8485          0.8689      17.4      1008.2   \n",
       "1601          0.5898           0.9219          0.9769       4.7      2957.5   \n",
       "293           0.5807           0.8805          0.8906       9.1      8027.0   \n",
       "\n",
       "      pctUsePubTrans  pctOfficDrugUnit  violentPerPop  \n",
       "1008          0.0103            0.0000         147.49  \n",
       "1271          0.0357            0.0000         150.88  \n",
       "1936          0.0252            0.0000          95.47  \n",
       "1601          0.0098            0.0000        1029.02  \n",
       "293           0.0318            0.1103         458.28  \n",
       "\n",
       "[5 rows x 101 columns]"
      ]
     },
     "execution_count": 2,
     "metadata": {},
     "output_type": "execute_result"
    }
   ],
   "source": [
    "data = util.load_communities_data(data_folder)\n",
    "attributes = data.columns[3:-1]\n",
    "target = data.columns[-1]\n",
    "data.head()"
   ]
  },
  {
   "cell_type": "markdown",
   "metadata": {},
   "source": [
    "The target is \"violentPerPop\" (number of violent offenders per 100K people)"
   ]
  },
  {
   "cell_type": "markdown",
   "metadata": {
    "slideshow": {
     "slide_type": "subslide"
    }
   },
   "source": [
    "## Loading and Preparing the Dataset\n",
    "\n",
    "**We prepare for normalizing all numeric attributes**\n",
    "\n",
    "* The only categorical input is \"race\" (0 = primarily \"white\", 1 = primarily \"black\")\n",
    "* Incidentally, \"race\" is _a natural focus to check for discrimination_\n",
    "\n",
    "**We define the train-test divide and we identify the numerical inputs**"
   ]
  },
  {
   "cell_type": "code",
   "execution_count": 3,
   "metadata": {},
   "outputs": [],
   "source": [
    "tr_frac = 0.8 # 80% data for training\n",
    "tr_sep = int(len(data) * tr_frac)\n",
    "nf = [a for a in attributes if a != 'race'] + [target]"
   ]
  },
  {
   "cell_type": "markdown",
   "metadata": {},
   "source": [
    "We normalize the data and convert to float32 (to make TensorFlow happier)"
   ]
  },
  {
   "cell_type": "code",
   "execution_count": 4,
   "metadata": {},
   "outputs": [],
   "source": [
    "tmp = data.iloc[:tr_sep]\n",
    "scale = tmp[nf].max()\n",
    "sdata = data.copy()\n",
    "sdata[nf] /= scale[nf]\n",
    "\n",
    "sdata[attributes] = sdata[attributes].astype(np.float32)\n",
    "sdata[target] = sdata[target].astype(np.float32)"
   ]
  },
  {
   "cell_type": "markdown",
   "metadata": {
    "slideshow": {
     "slide_type": "subslide"
    }
   },
   "source": [
    "## Loading and Preparing the Dataset\n",
    "\n",
    "**Finally we can separate the training and test set**"
   ]
  },
  {
   "cell_type": "code",
   "execution_count": 5,
   "metadata": {},
   "outputs": [
    {
     "data": {
      "text/html": [
       "<div>\n",
       "<style scoped>\n",
       "    .dataframe tbody tr th:only-of-type {\n",
       "        vertical-align: middle;\n",
       "    }\n",
       "\n",
       "    .dataframe tbody tr th {\n",
       "        vertical-align: top;\n",
       "    }\n",
       "\n",
       "    .dataframe thead th {\n",
       "        text-align: right;\n",
       "    }\n",
       "</style>\n",
       "<table border=\"1\" class=\"dataframe\">\n",
       "  <thead>\n",
       "    <tr style=\"text-align: right;\">\n",
       "      <th></th>\n",
       "      <th>fold</th>\n",
       "      <th>pop</th>\n",
       "      <th>race</th>\n",
       "      <th>pct12-21</th>\n",
       "      <th>pct12-29</th>\n",
       "      <th>pct16-24</th>\n",
       "      <th>pct65up</th>\n",
       "      <th>pctUrban</th>\n",
       "      <th>medIncome</th>\n",
       "      <th>pctWwage</th>\n",
       "      <th>...</th>\n",
       "      <th>pctForeignBorn</th>\n",
       "      <th>pctBornStateResid</th>\n",
       "      <th>pctSameHouse-5</th>\n",
       "      <th>pctSameCounty-5</th>\n",
       "      <th>pctSameState-5</th>\n",
       "      <th>landArea</th>\n",
       "      <th>popDensity</th>\n",
       "      <th>pctUsePubTrans</th>\n",
       "      <th>pctOfficDrugUnit</th>\n",
       "      <th>violentPerPop</th>\n",
       "    </tr>\n",
       "  </thead>\n",
       "  <tbody>\n",
       "    <tr>\n",
       "      <th>count</th>\n",
       "      <td>1594.000000</td>\n",
       "      <td>1594.000000</td>\n",
       "      <td>1594.000000</td>\n",
       "      <td>1594.000000</td>\n",
       "      <td>1594.000000</td>\n",
       "      <td>1594.000000</td>\n",
       "      <td>1594.000000</td>\n",
       "      <td>1594.000000</td>\n",
       "      <td>1594.000000</td>\n",
       "      <td>1594.000000</td>\n",
       "      <td>...</td>\n",
       "      <td>1594.000000</td>\n",
       "      <td>1594.000000</td>\n",
       "      <td>1594.000000</td>\n",
       "      <td>1594.000000</td>\n",
       "      <td>1594.000000</td>\n",
       "      <td>1594.000000</td>\n",
       "      <td>1594.000000</td>\n",
       "      <td>1594.000000</td>\n",
       "      <td>1594.000000</td>\n",
       "      <td>1594.000000</td>\n",
       "    </tr>\n",
       "    <tr>\n",
       "      <th>mean</th>\n",
       "      <td>5.515056</td>\n",
       "      <td>0.007309</td>\n",
       "      <td>0.031995</td>\n",
       "      <td>0.266962</td>\n",
       "      <td>0.398600</td>\n",
       "      <td>0.230577</td>\n",
       "      <td>0.226739</td>\n",
       "      <td>0.695383</td>\n",
       "      <td>0.272795</td>\n",
       "      <td>0.808877</td>\n",
       "      <td>...</td>\n",
       "      <td>0.126063</td>\n",
       "      <td>0.649191</td>\n",
       "      <td>0.651699</td>\n",
       "      <td>0.796561</td>\n",
       "      <td>0.886649</td>\n",
       "      <td>0.009499</td>\n",
       "      <td>0.062829</td>\n",
       "      <td>0.057092</td>\n",
       "      <td>0.021317</td>\n",
       "      <td>0.118508</td>\n",
       "    </tr>\n",
       "    <tr>\n",
       "      <th>std</th>\n",
       "      <td>2.912637</td>\n",
       "      <td>0.030287</td>\n",
       "      <td>0.176042</td>\n",
       "      <td>0.084005</td>\n",
       "      <td>0.090329</td>\n",
       "      <td>0.098553</td>\n",
       "      <td>0.091256</td>\n",
       "      <td>0.445105</td>\n",
       "      <td>0.108972</td>\n",
       "      <td>0.081297</td>\n",
       "      <td>...</td>\n",
       "      <td>0.144243</td>\n",
       "      <td>0.183083</td>\n",
       "      <td>0.135358</td>\n",
       "      <td>0.112796</td>\n",
       "      <td>0.077034</td>\n",
       "      <td>0.028955</td>\n",
       "      <td>0.065060</td>\n",
       "      <td>0.092881</td>\n",
       "      <td>0.061344</td>\n",
       "      <td>0.123444</td>\n",
       "    </tr>\n",
       "    <tr>\n",
       "      <th>min</th>\n",
       "      <td>1.000000</td>\n",
       "      <td>0.001368</td>\n",
       "      <td>0.000000</td>\n",
       "      <td>0.084191</td>\n",
       "      <td>0.134635</td>\n",
       "      <td>0.075644</td>\n",
       "      <td>0.031457</td>\n",
       "      <td>0.000000</td>\n",
       "      <td>0.104413</td>\n",
       "      <td>0.327882</td>\n",
       "      <td>...</td>\n",
       "      <td>0.003182</td>\n",
       "      <td>0.072472</td>\n",
       "      <td>0.150586</td>\n",
       "      <td>0.289367</td>\n",
       "      <td>0.332187</td>\n",
       "      <td>0.000335</td>\n",
       "      <td>0.000226</td>\n",
       "      <td>0.000000</td>\n",
       "      <td>0.000000</td>\n",
       "      <td>0.001097</td>\n",
       "    </tr>\n",
       "    <tr>\n",
       "      <th>25%</th>\n",
       "      <td>3.000000</td>\n",
       "      <td>0.001943</td>\n",
       "      <td>0.000000</td>\n",
       "      <td>0.225230</td>\n",
       "      <td>0.350689</td>\n",
       "      <td>0.185238</td>\n",
       "      <td>0.167614</td>\n",
       "      <td>0.000000</td>\n",
       "      <td>0.190973</td>\n",
       "      <td>0.759677</td>\n",
       "      <td>...</td>\n",
       "      <td>0.035541</td>\n",
       "      <td>0.525016</td>\n",
       "      <td>0.566446</td>\n",
       "      <td>0.743167</td>\n",
       "      <td>0.854675</td>\n",
       "      <td>0.002754</td>\n",
       "      <td>0.026280</td>\n",
       "      <td>0.006672</td>\n",
       "      <td>0.000000</td>\n",
       "      <td>0.032800</td>\n",
       "    </tr>\n",
       "    <tr>\n",
       "      <th>50%</th>\n",
       "      <td>5.000000</td>\n",
       "      <td>0.003035</td>\n",
       "      <td>0.000000</td>\n",
       "      <td>0.250919</td>\n",
       "      <td>0.385173</td>\n",
       "      <td>0.205575</td>\n",
       "      <td>0.223138</td>\n",
       "      <td>1.000000</td>\n",
       "      <td>0.249509</td>\n",
       "      <td>0.813755</td>\n",
       "      <td>...</td>\n",
       "      <td>0.075352</td>\n",
       "      <td>0.669369</td>\n",
       "      <td>0.658096</td>\n",
       "      <td>0.819391</td>\n",
       "      <td>0.905697</td>\n",
       "      <td>0.005099</td>\n",
       "      <td>0.045234</td>\n",
       "      <td>0.022823</td>\n",
       "      <td>0.000000</td>\n",
       "      <td>0.076430</td>\n",
       "    </tr>\n",
       "    <tr>\n",
       "      <th>75%</th>\n",
       "      <td>8.000000</td>\n",
       "      <td>0.005922</td>\n",
       "      <td>0.000000</td>\n",
       "      <td>0.283824</td>\n",
       "      <td>0.419908</td>\n",
       "      <td>0.235735</td>\n",
       "      <td>0.275298</td>\n",
       "      <td>1.000000</td>\n",
       "      <td>0.334641</td>\n",
       "      <td>0.866125</td>\n",
       "      <td>...</td>\n",
       "      <td>0.155517</td>\n",
       "      <td>0.798529</td>\n",
       "      <td>0.744017</td>\n",
       "      <td>0.875764</td>\n",
       "      <td>0.938556</td>\n",
       "      <td>0.009667</td>\n",
       "      <td>0.074085</td>\n",
       "      <td>0.064651</td>\n",
       "      <td>0.000000</td>\n",
       "      <td>0.159716</td>\n",
       "    </tr>\n",
       "    <tr>\n",
       "      <th>max</th>\n",
       "      <td>10.000000</td>\n",
       "      <td>1.000000</td>\n",
       "      <td>1.000000</td>\n",
       "      <td>1.000000</td>\n",
       "      <td>1.000000</td>\n",
       "      <td>1.000000</td>\n",
       "      <td>1.000000</td>\n",
       "      <td>1.000000</td>\n",
       "      <td>1.000000</td>\n",
       "      <td>1.000000</td>\n",
       "      <td>...</td>\n",
       "      <td>1.000000</td>\n",
       "      <td>1.000000</td>\n",
       "      <td>1.000000</td>\n",
       "      <td>1.000000</td>\n",
       "      <td>1.000000</td>\n",
       "      <td>1.000000</td>\n",
       "      <td>1.000000</td>\n",
       "      <td>1.000000</td>\n",
       "      <td>1.000000</td>\n",
       "      <td>1.000000</td>\n",
       "    </tr>\n",
       "  </tbody>\n",
       "</table>\n",
       "<p>8 rows × 99 columns</p>\n",
       "</div>"
      ],
      "text/plain": [
       "              fold          pop         race     pct12-21     pct12-29  \\\n",
       "count  1594.000000  1594.000000  1594.000000  1594.000000  1594.000000   \n",
       "mean      5.515056     0.007309     0.031995     0.266962     0.398600   \n",
       "std       2.912637     0.030287     0.176042     0.084005     0.090329   \n",
       "min       1.000000     0.001368     0.000000     0.084191     0.134635   \n",
       "25%       3.000000     0.001943     0.000000     0.225230     0.350689   \n",
       "50%       5.000000     0.003035     0.000000     0.250919     0.385173   \n",
       "75%       8.000000     0.005922     0.000000     0.283824     0.419908   \n",
       "max      10.000000     1.000000     1.000000     1.000000     1.000000   \n",
       "\n",
       "          pct16-24      pct65up     pctUrban    medIncome     pctWwage  ...  \\\n",
       "count  1594.000000  1594.000000  1594.000000  1594.000000  1594.000000  ...   \n",
       "mean      0.230577     0.226739     0.695383     0.272795     0.808877  ...   \n",
       "std       0.098553     0.091256     0.445105     0.108972     0.081297  ...   \n",
       "min       0.075644     0.031457     0.000000     0.104413     0.327882  ...   \n",
       "25%       0.185238     0.167614     0.000000     0.190973     0.759677  ...   \n",
       "50%       0.205575     0.223138     1.000000     0.249509     0.813755  ...   \n",
       "75%       0.235735     0.275298     1.000000     0.334641     0.866125  ...   \n",
       "max       1.000000     1.000000     1.000000     1.000000     1.000000  ...   \n",
       "\n",
       "       pctForeignBorn  pctBornStateResid  pctSameHouse-5  pctSameCounty-5  \\\n",
       "count     1594.000000        1594.000000     1594.000000      1594.000000   \n",
       "mean         0.126063           0.649191        0.651699         0.796561   \n",
       "std          0.144243           0.183083        0.135358         0.112796   \n",
       "min          0.003182           0.072472        0.150586         0.289367   \n",
       "25%          0.035541           0.525016        0.566446         0.743167   \n",
       "50%          0.075352           0.669369        0.658096         0.819391   \n",
       "75%          0.155517           0.798529        0.744017         0.875764   \n",
       "max          1.000000           1.000000        1.000000         1.000000   \n",
       "\n",
       "       pctSameState-5     landArea   popDensity  pctUsePubTrans  \\\n",
       "count     1594.000000  1594.000000  1594.000000     1594.000000   \n",
       "mean         0.886649     0.009499     0.062829        0.057092   \n",
       "std          0.077034     0.028955     0.065060        0.092881   \n",
       "min          0.332187     0.000335     0.000226        0.000000   \n",
       "25%          0.854675     0.002754     0.026280        0.006672   \n",
       "50%          0.905697     0.005099     0.045234        0.022823   \n",
       "75%          0.938556     0.009667     0.074085        0.064651   \n",
       "max          1.000000     1.000000     1.000000        1.000000   \n",
       "\n",
       "       pctOfficDrugUnit  violentPerPop  \n",
       "count       1594.000000    1594.000000  \n",
       "mean           0.021317       0.118508  \n",
       "std            0.061344       0.123444  \n",
       "min            0.000000       0.001097  \n",
       "25%            0.000000       0.032800  \n",
       "50%            0.000000       0.076430  \n",
       "75%            0.000000       0.159716  \n",
       "max            1.000000       1.000000  \n",
       "\n",
       "[8 rows x 99 columns]"
      ]
     },
     "execution_count": 5,
     "metadata": {},
     "output_type": "execute_result"
    }
   ],
   "source": [
    "tr = sdata.iloc[:tr_sep]\n",
    "ts = sdata.iloc[tr_sep:]\n",
    "tr.describe()"
   ]
  },
  {
   "cell_type": "markdown",
   "metadata": {
    "slideshow": {
     "slide_type": "subslide"
    }
   },
   "source": [
    "## Baseline\n",
    "\n",
    "**Let's establish a baseline by tackling the task via Linear Regression**"
   ]
  },
  {
   "cell_type": "code",
   "execution_count": 6,
   "metadata": {},
   "outputs": [
    {
     "name": "stderr",
     "output_type": "stream",
     "text": [
      "2022-07-03 17:47:54.680084: I tensorflow/core/platform/cpu_feature_guard.cc:151] This TensorFlow binary is optimized with oneAPI Deep Neural Network Library (oneDNN) to use the following CPU instructions in performance-critical operations:  AVX2 FMA\n",
      "To enable them in other operations, rebuild TensorFlow with the appropriate compiler flags.\n"
     ]
    },
    {
     "data": {
      "application/vnd.jupyter.widget-view+json": {
       "model_id": "73e3135da10848759d59d166c7fab212",
       "version_major": 2,
       "version_minor": 0
      },
      "image/png": "[encoded data removed]",
      "text/html": [
       "\n",
       "            <div style=\"display: inline-block;\">\n",
       "                <div class=\"jupyter-widgets widget-label\" style=\"text-align: center;\">\n",
       "                    Figure\n",
       "                </div>\n",
       "                <img src='data:image/png;base64,iVBORw0KGgoAAAANSUhEUgAAA4QAAAEsCAYAAACbnn2RAAAAOXRFWHRTb2Z0d2FyZQBNYXRwbG90bGliIHZlcnNpb24zLjUuMiwgaHR0cHM6Ly9tYXRwbG90bGliLm9yZy8qNh9FAAAACXBIWXMAAA9hAAAPYQGoP6dpAABW9klEQVR4nO3de1xUZeI/8M/ch9sw3AcQBRXvCImKaJu5smG5lZsluraaWW1901Ta1svX1NrdL7V9bd1Wy61XW+1vc3Xdb7mtuRaiXSEvIJU38gooDHdmYIC5nt8fI8cmUFFmmAE+79frvMRznnPmOcfDOJ95nvM8EkEQBBAREREREVG/I/V2BYiIiIiIiMg7GAiJiIiIiIj6KQZCIiIiIiKifoqBkIiIiIiIqJ9iICQiIiIiIuqnGAiJiIiIiIj6KQZCIiIiIiKifoqBkIiIiIiIqJ9iICQiIiIiIuqnGAiJiIiIiIj6KQZCIiIiIiKifoqBkIiIiIiIqJ9iICQiIiIiIuqn5N6ugDc5HA5UVFQgKCgIEonE29UhIiIiIiK6IYIgoKmpCTExMZBKb7y9r18HwoqKCsTFxXm7GkRERERERN1SXl6OAQMG3PB+/ToQBgUFAXBePI1G4+XaEBERERER3Rij0Yi4uDgx29yofh0I27uJajQaBkIiIiIiIuq1bvYROA4qQ0RERERE1E8xEBIREREREfVTbguEW7ZsQXx8PNRqNdLS0nDo0KFrlt+5cydGjBgBtVqNpKQk7Nmz56plH3/8cUgkEmzatMllfX19PebPnw+NRgOtVovFixejubnZHadDRERERETU57nlGcIdO3YgOzsbW7duRVpaGjZt2oTMzEyUlJQgMjKyQ/n8/HzMmzcPOTk5+OlPf4pt27Zh1qxZKCoqwpgxY1zKvv/++/jqq68QExPT4Tjz589HZWUlcnNzYbVasWjRIjz22GPYtm2bO06LiIiIiIg8yG63w2q1ersaPk2hUEAmk3ns+BJBEITuHiQtLQ0TJkzA5s2bATjn94uLi8PSpUuxatWqDuWzsrJgMpmwe/ducd2kSZOQkpKCrVu3iusuXbqEtLQ0fPTRR5g5cyaWL1+O5cuXAwBOnjyJUaNG4fDhwxg/fjwAYO/evbjrrrtw8eLFTgPkDxmNRgQHB8NgMHBQGSIiIiKiHiIIAvR6PRobG71dlV5Bq9VCp9N1OnBMdzNNt1sILRYLCgsLsXr1anGdVCpFRkYGCgoKOt2noKAA2dnZLusyMzOxa9cu8e8OhwO/+MUv8Mwzz2D06NGdHkOr1YphEAAyMjIglUpx8OBB/OxnP+vmmRERERERkSe0h8HIyEj4+/vf9AiZfZ0gCGhpaUF1dTUAIDo62u2v0e1AWFtbC7vdjqioKJf1UVFROHXqVKf76PX6Tsvr9Xrx7y+++CLkcjmeeuqpqx7jh91R5XI5QkNDXY7zfWazGWazWfy70Wi8+ol5yT8Ol2NX8SVkjtZh4eR4b1eHiIiIiMit7Ha7GAbDwsK8XR2f5+fnBwCorq5GZGSk27uP+uQoo4WFhfjjH/+It99+263fFuTk5CA4OFhc4uLi3HZsdylvaEH+2TqcreHgOERERETU97Q/M+jv7+/lmvQe7dfKE89bdjsQhoeHQyaToaqqymV9VVUVdDpdp/vodLprlv/8889RXV2NgQMHQi6XQy6Xo7S0FE8//TTi4+PFY7Q3nbaz2Wyor6+/6uuuXr0aBoNBXMrLy2/mlD1KKXP+k1hsDi/XhIiIiIjIc9hNtOs8ea26HQiVSiVSU1ORl5cnrnM4HMjLy0N6enqn+6Snp7uUB4Dc3Fyx/C9+8Qt88803KC4uFpeYmBg888wz+Oijj8RjNDY2orCwUDzG/v374XA4kJaW1unrqlQqaDQal8XXKOUMhERERERE1DPcMu1EdnY2Fi5ciPHjx2PixInYtGkTTCYTFi1aBABYsGABYmNjkZOTAwBYtmwZpk6dio0bN2LmzJnYvn07jhw5gtdffx0AEBYW1qE/sUKhgE6nw/DhwwEAI0eOxIwZM/Doo49i69atsFqtWLJkCebOndulEUZ9VXsgNNsZCImIiIiIfMntt9+OlJSUDvOj92ZuCYRZWVmoqanBunXroNfrkZKSgr1794oDx5SVlUEqvdIYOXnyZGzbtg1r167FmjVrkJiYiF27dnWYg/B63n33XSxZsgTTp0+HVCrF7Nmz8corr7jjlLymPRBa2UJIREREREQe5pZACABLlizBkiVLOt32ySefdFj3wAMP4IEHHujy8S9cuNBhXWhoaJ+bhF58hpAthERERERE5GE+Ocpof8ZnCImIiIiIfF9DQwMWLFiAkJAQ+Pv7484778Tp06fF7aWlpbj77rsREhKCgIAAjB49Gnv27BH3nT9/PiIiIuDn54fExES89dZbXjkPt7UQknuoGAiJiIiIqJ8RBAGtVrtXXttPIbupUTwfeughnD59Gh988AE0Gg1WrlyJu+66CydOnIBCocCTTz4Ji8WCzz77DAEBAThx4gQCAwMBAM8++yxOnDiB//znPwgPD8eZM2fQ2trq7lPrEgZCHyO2ELLLKBERERH1E61WO0at+8grr33i+Uz4K28sFrUHwS+//BKTJ08G4BzfJC4uDrt27cIDDzyAsrIyzJ49G0lJSQCAwYMHi/uXlZXhlltuwfjx4wFAnFrPG9hl1McoZTIAbCEkIiIiIvJVJ0+ehFwud5nuLiwsDMOHD8fJkycBAE899RR++9vfYsqUKVi/fj2++eYbsewTTzyB7du3IyUlBb/+9a+Rn5/f4+fQji2EPobPEBIRERFRf+OnkOHE85lee21PeOSRR5CZmYkPP/wQH3/8MXJycrBx40YsXboUd955J0pLS7Fnzx7k5uZi+vTpePLJJ/G///u/HqnLtbCF0MeI8xAyEBIRERFRPyGRSOCvlHtluZnnB0eOHAmbzYaDBw+K6+rq6lBSUoJRo0aJ6+Li4vD444/jvffew9NPP4033nhD3BYREYGFCxfib3/7GzZt2iTOyd7T2ELoYzjtBBERERGRb0tMTMS9996LRx99FH/+858RFBSEVatWITY2Fvfeey8AYPny5bjzzjsxbNgwNDQ04MCBAxg5ciQAYN26dUhNTcXo0aNhNpuxe/ducVtPYwuhj2GXUSIiIiIi3/fWW28hNTUVP/3pT5Geng5BELBnzx4oFAoAgN1ux5NPPomRI0dixowZGDZsGF599VUAgFKpxOrVqzF27FjcdtttkMlk2L59u1fOQyIIguCVV/YBRqMRwcHBMBgM0Gg03q4OAKC8vgU/+v0B+ClkOPmbGd6uDhERERGRW7W1teH8+fNISEiAWq32dnV6hWtds+5mGrYQ+hgFu4wSEREREVEPYSD0Me1dRu0OAXZHv228JSIiIiKiHsBA6GPaAyHA5wiJiIiIiMizGAh9TPsoowADIREREREReRYDoY9RyK7Mg2K2271YEyIiIiIiz+nHY1veME9eKwZCHyORSMRuo1Y7f0mIiIiIqG9pn5ahpaXFyzXpPdqvVfu1cydOTO+DVDIpLDYHu4wSERERUZ8jk8mg1WpRXV0NAPD394dEIrnOXv2TIAhoaWlBdXU1tFotZDKZ21+DgdAHKeVSwMxnCImIiIiob9LpdAAghkK6Nq1WK14zd2Mg9EHtXUYZCImIiIioL5JIJIiOjkZkZCSsVqu3q+PTFAqFR1oG2zEQ+iAxEHJQGSIiIiLqw2QymUfDDl2f2waV2bJlC+Lj46FWq5GWloZDhw5ds/zOnTsxYsQIqNVqJCUlYc+ePS7bN2zYgBEjRiAgIAAhISHIyMjAwYMHXcrEx8dDIpG4LC+88IK7Tslr2qeeMLOFkIiIiIiIPMgtgXDHjh3Izs7G+vXrUVRUhOTkZGRmZl61T3B+fj7mzZuHxYsX4+jRo5g1axZmzZqFY8eOiWWGDRuGzZs349tvv8UXX3yB+Ph43HHHHaipqXE51vPPP4/KykpxWbp0qTtOyavYZZSIiIiIiHqCRHDDpBZpaWmYMGECNm/eDABwOByIi4vD0qVLsWrVqg7ls7KyYDKZsHv3bnHdpEmTkJKSgq1bt3b6GkajEcHBwdi3bx+mT58OwNlCuHz5cixfvvym6t1+TIPBAI1Gc1PH8ISfvfoljpY14vVfpOKO0Z55eJSIiIiIiHq/7maabrcQWiwWFBYWIiMj48pBpVJkZGSgoKCg030KCgpcygNAZmbmVctbLBa8/vrrCA4ORnJyssu2F154AWFhYbjlllvw0ksvwWazdfOMvK+9y6jFzhZCIiIiIiLynG4PKlNbWwu73Y6oqCiX9VFRUTh16lSn++j1+k7L6/V6l3W7d+/G3Llz0dLSgujoaOTm5iI8PFzc/tRTT2HcuHEIDQ1Ffn4+Vq9ejcrKSrz88sudvq7ZbIbZbBb/bjQab+hcewq7jBIRERERUU/w6VFGp02bhuLiYtTW1uKNN97AnDlzcPDgQURGRgIAsrOzxbJjx46FUqnEL3/5S+Tk5EClUnU4Xk5ODp577rkeq//NUjEQEhERERFRD+h2l9Hw8HDIZDJUVVW5rK+qqrrq5Ik6na5L5QMCAjB06FBMmjQJb775JuRyOd58882r1iUtLQ02mw0XLlzodPvq1athMBjEpby8vAtn2PMU7DJKREREREQ9oNuBUKlUIjU1FXl5eeI6h8OBvLw8pKend7pPenq6S3kAyM3NvWr57x/3+10+f6i4uBhSqVRsQfwhlUoFjUbjsvgidhklIiIiIqKe4JYuo9nZ2Vi4cCHGjx+PiRMnYtOmTTCZTFi0aBEAYMGCBYiNjUVOTg4AYNmyZZg6dSo2btyImTNnYvv27Thy5Ahef/11AIDJZMLvfvc73HPPPYiOjkZtbS22bNmCS5cu4YEHHgDgHJjm4MGDmDZtGoKCglBQUIAVK1bgwQcfREhIiDtOy2s4DyEREREREfUEtwTCrKws1NTUYN26ddDr9UhJScHevXvFgWPKysoglV5pjJw8eTK2bduGtWvXYs2aNUhMTMSuXbswZswYAIBMJsOpU6fwzjvvoLa2FmFhYZgwYQI+//xzjB49GoCztW/79u3YsGEDzGYzEhISsGLFCpfnCnsrthASEREREVFPcMs8hL2Vr85D+Ny/j+OtLy/giduHYOWMEd6uDhERERER+Sivz0NI7tfeQmhlCyEREREREXkQA6EPUnGUUSIiIiIi6gEMhD6IzxASEREREVFPYCD0QQyERERERETUExgIfZA47QS7jBIRERERkQcxEPogpVwGgC2ERERERETkWQyEPohdRomIiIiIqCcwEPogBkIiIiIiIuoJDIQ+SMlpJ4iIiIiIqAcwEPogFVsIiYiIiIioBzAQ+iB2GSUiIiIiop7AQOiDFOwySkREREREPYCB0AexhZCIiIiIiHoCA6EPEiemZyAkIiIiIiIPYiD0QVdaCO1ergkREREREfVlDIQ+qH2UUatd8HJNiIiIiIioL2Mg9EFiCyEHlSEiIiIiIg9iIPRB7c8Q2h0C7A62EhIRERERkWcwEPqg9hZCgCONEhERERGR57gtEG7ZsgXx8fFQq9VIS0vDoUOHrll+586dGDFiBNRqNZKSkrBnzx6X7Rs2bMCIESMQEBCAkJAQZGRk4ODBgy5l6uvrMX/+fGg0Gmi1WixevBjNzc3uOiWvYSAkIiIiIqKe4JZAuGPHDmRnZ2P9+vUoKipCcnIyMjMzUV1d3Wn5/Px8zJs3D4sXL8bRo0cxa9YszJo1C8eOHRPLDBs2DJs3b8a3336LL774AvHx8bjjjjtQU1Mjlpk/fz6OHz+O3Nxc7N69G5999hkee+wxd5ySV8mlEkgkzp/Ndo40SkREREREniERBKHbD6mlpaVhwoQJ2Lx5MwDA4XAgLi4OS5cuxapVqzqUz8rKgslkwu7du8V1kyZNQkpKCrZu3drpaxiNRgQHB2Pfvn2YPn06Tp48iVGjRuHw4cMYP348AGDv3r246667cPHiRcTExFy33u3HNBgM0Gg0N3PqHjN87X9gtjnwxcppGBDi7+3qEBERERGRD+pupul2C6HFYkFhYSEyMjKuHFQqRUZGBgoKCjrdp6CgwKU8AGRmZl61vMViweuvv47g4GAkJyeLx9BqtWIYBICMjAxIpdIOXUvbmc1mGI1Gl8VXXZmLkF1GiYiIiIjIM7odCGtra2G32xEVFeWyPioqCnq9vtN99Hp9l8rv3r0bgYGBUKvV+MMf/oDc3FyEh4eLx4iMjHQpL5fLERoaetXXzcnJQXBwsLjExcXd0Ln2JBWnniAiIiIiIg/z6VFGp02bhuLiYuTn52PGjBmYM2fOVZ9L7IrVq1fDYDCIS3l5uRtr617tU0+whZCIiIiIiDyl24EwPDwcMpkMVVVVLuurqqqg0+k63Uen03WpfEBAAIYOHYpJkybhzTffhFwux5tvvike44fh0Gazob6+/qqvq1KpoNFoXBZfxS6jRERERETkad0OhEqlEqmpqcjLyxPXORwO5OXlIT09vdN90tPTXcoDQG5u7lXLf/+4ZrNZPEZjYyMKCwvF7fv374fD4UBaWtrNno7PYCAkIiIiIiJPk7vjINnZ2Vi4cCHGjx+PiRMnYtOmTTCZTFi0aBEAYMGCBYiNjUVOTg4AYNmyZZg6dSo2btyImTNnYvv27Thy5Ahef/11AIDJZMLvfvc73HPPPYiOjkZtbS22bNmCS5cu4YEHHgAAjBw5EjNmzMCjjz6KrVu3wmq1YsmSJZg7d26XRhj1dYrLXUbNfIaQiIiIiIg8xC2BMCsrCzU1NVi3bh30ej1SUlKwd+9eceCYsrIySKVXGiMnT56Mbdu2Ye3atVizZg0SExOxa9cujBkzBgAgk8lw6tQpvPPOO6itrUVYWBgmTJiAzz//HKNHjxaP8+6772LJkiWYPn06pFIpZs+ejVdeecUdp+R1bCEkIiIiIiJPc8s8hL2VL89DmPXnAhw8X48/zbsFdyf3/hZPIiIiIiJyP6/PQ0iewRZCIiIiIiLyNAZCH9U+D6GVzxASEREREZGHMBD6KCUnpiciIiIiIg9jIPRRnJieiIiIiIg8jYHQR7W3EJoZCImIiIiIyEMYCH0UB5UhIiIiIiJPYyD0UUqZDACfISQiIiIiIs9hIPRRbCEkIiIiIiJPYyD0UQyERERERETkaQyEPkrFQEhERERERB7GQOijxGkn+AwhERERERF5CAOhj2KXUSIiIiIi8jQGQh/FeQiJiIiIiMjTGAh9lIJdRomIiIiIyMMYCH3UlS6jdi/XhIiIiIiI+ioGQh8lDirDLqNEREREROQhDIQ+Spx2gl1GiYiIiIjIQxgIfVR7l1GrTfByTYiIiIiIqK9yWyDcsmUL4uPjoVarkZaWhkOHDl2z/M6dOzFixAio1WokJSVhz5494jar1YqVK1ciKSkJAQEBiImJwYIFC1BRUeFyjPj4eEgkEpflhRdecNcpeZWSLYRERERERORhbgmEO3bsQHZ2NtavX4+ioiIkJycjMzMT1dXVnZbPz8/HvHnzsHjxYhw9ehSzZs3CrFmzcOzYMQBAS0sLioqK8Oyzz6KoqAjvvfceSkpKcM8993Q41vPPP4/KykpxWbp0qTtOyev4DCEREREREXmaRBCEbvdJTEtLw4QJE7B582YAgMPhQFxcHJYuXYpVq1Z1KJ+VlQWTyYTdu3eL6yZNmoSUlBRs3bq109c4fPgwJk6ciNLSUgwcOBCAs4Vw+fLlWL58+U3V22g0Ijg4GAaDARqN5qaO4SknK42484+fIzxQhSNrM7xdHSIiIiIi8kHdzTTdbiG0WCwoLCxERsaV0CKVSpGRkYGCgoJO9ykoKHApDwCZmZlXLQ8ABoMBEokEWq3WZf0LL7yAsLAw3HLLLXjppZdgs9lu/mR8CKedICIiIiIiT5N39wC1tbWw2+2IiopyWR8VFYVTp051uo9er++0vF6v77R8W1sbVq5ciXnz5rmk3qeeegrjxo1DaGgo8vPzsXr1alRWVuLll1/u9Dhmsxlms1n8u9Fo7NI5eoOSE9MTEREREZGHdTsQeprVasWcOXMgCAJee+01l23Z2dniz2PHjoVSqcQvf/lL5OTkQKVSdThWTk4OnnvuOY/X2R3EaSf4DCEREREREXlIt7uMhoeHQyaToaqqymV9VVUVdDpdp/vodLoulW8Pg6WlpcjNzb1un9i0tDTYbDZcuHCh0+2rV6+GwWAQl/Ly8uucnfe0dxl1CICNrYREREREROQB3Q6ESqUSqampyMvLE9c5HA7k5eUhPT29033S09NdygNAbm6uS/n2MHj69Gns27cPYWFh161LcXExpFIpIiMjO92uUqmg0WhcFl/VHggBdhslIiIiIiLPcEuX0ezsbCxcuBDjx4/HxIkTsWnTJphMJixatAgAsGDBAsTGxiInJwcAsGzZMkydOhUbN27EzJkzsX37dhw5cgSvv/46AGcYvP/++1FUVITdu3fDbreLzxeGhoZCqVSioKAABw8exLRp0xAUFISCggKsWLECDz74IEJCQtxxWl7V/gwh4Ow26q/0YmWIiIiIiKhPcksgzMrKQk1NDdatWwe9Xo+UlBTs3btXHDimrKwMUumVgDN58mRs27YNa9euxZo1a5CYmIhdu3ZhzJgxAIBLly7hgw8+AACkpKS4vNaBAwdw++23Q6VSYfv27diwYQPMZjMSEhKwYsUKl+cKezO5TAqpxNlllM8REhERERGRJ7hlHsLeypfnIQSAEc/+B21WBz7/9TTEhfp7uzpERERERORjvD4PIXmOglNPEBERERGRBzEQ+jBOPUFERERERJ7EQOjDxMnpGQiJiIiIiMgDGAh9WPvUE1Z2GSUiIiIiIg9gIPRhSnYZJSIiIiIiD2Ig9GHtgdDMFkIiIiIiIvIABkIfxmcIiYiIiIjIkxgIfRi7jBIRERERkScxEPowpVwGgIGQiIiIiIg8g4HQhyk5MT0REREREXkQA6EP48T0RERERETkSQyEPozPEBIRERERkScxEPowdhklIiIiIiJPYiD0YeI8hGwhJCIiIiIiD2Ag9GHsMkpERERERJ7EQOjDGAiJiIiIiMiTGAh9mEJ8htDu5ZoQEREREVFfxEDowzjtBBEREREReRIDoQ8TRxllICQiIiIiIg9wWyDcsmUL4uPjoVarkZaWhkOHDl2z/M6dOzFixAio1WokJSVhz5494jar1YqVK1ciKSkJAQEBiImJwYIFC1BRUeFyjPr6esyfPx8ajQZarRaLFy9Gc3Ozu07J69qfIbTaBS/XhIiIiIiI+iK3BMIdO3YgOzsb69evR1FREZKTk5GZmYnq6upOy+fn52PevHlYvHgxjh49ilmzZmHWrFk4duwYAKClpQVFRUV49tlnUVRUhPfeew8lJSW45557XI4zf/58HD9+HLm5udi9ezc+++wzPPbYY+44JZ/AaSeIiIiIiMiTJIIgdLv5KS0tDRMmTMDmzZsBAA6HA3FxcVi6dClWrVrVoXxWVhZMJhN2794trps0aRJSUlKwdevWTl/j8OHDmDhxIkpLSzFw4ECcPHkSo0aNwuHDhzF+/HgAwN69e3HXXXfh4sWLiImJuW69jUYjgoODYTAYoNFobubUPer/Ci/i6Z1f47ZhEfjrwxO9XR0iIiIiIvIx3c003W4htFgsKCwsREZGxpWDSqXIyMhAQUFBp/sUFBS4lAeAzMzMq5YHAIPBAIlEAq1WKx5Dq9WKYRAAMjIyIJVKcfDgwU6PYTabYTQaXRZfdmXaCY4ySkRERERE7tftQFhbWwu73Y6oqCiX9VFRUdDr9Z3uo9frb6h8W1sbVq5ciXnz5ompV6/XIzIy0qWcXC5HaGjoVY+Tk5OD4OBgcYmLi+vSOXoL5yEkIiIiIiJP8vlRRq1WK+bMmQNBEPDaa69161irV6+GwWAQl/LycjfV0jPEQGhnICQiIiIiIveTd/cA4eHhkMlkqKqqcllfVVUFnU7X6T46na5L5dvDYGlpKfbv3+/SJ1an03UYtMZms6G+vv6qr6tSqaBSqbp8bt6m4rQTRERERETkQd1uIVQqlUhNTUVeXp64zuFwIC8vD+np6Z3uk56e7lIeAHJzc13Kt4fB06dPY9++fQgLC+twjMbGRhQWForr9u/fD4fDgbS0tO6elk9gl1EiIiIiIvKkbrcQAkB2djYWLlyI8ePHY+LEidi0aRNMJhMWLVoEAFiwYAFiY2ORk5MDAFi2bBmmTp2KjRs3YubMmdi+fTuOHDmC119/HYAzDN5///0oKirC7t27YbfbxecCQ0NDoVQqMXLkSMyYMQOPPvootm7dCqvViiVLlmDu3LldGmG0N2AgJCIiIiIiT3JLIMzKykJNTQ3WrVsHvV6PlJQU7N27Vxw4pqysDFLplcbIyZMnY9u2bVi7di3WrFmDxMRE7Nq1C2PGjAEAXLp0CR988AEAICUlxeW1Dhw4gNtvvx0A8O6772LJkiWYPn06pFIpZs+ejVdeecUdp+QT+AwhERERERF5klvmIeytfH0ewnM1zfjxxk8RpJbj2w2Z3q4OERERERH5GK/PQ0iewy6jRERERETkSQyEPuz7XUb7cUMuERERERF5CAOhD1NennZCEACbg4GQiIiIiIjci4HQh7W3EALsNkpERERERO7HQOjD2lsIAQZCIiIiIiJyPwZCHyaXSSGVOH+2cuoJIiIiIiJyMwZCH9febdTMFkIiIiIiInIzBkIf195tlJPTExERERGRuzEQ+jilXAaAzxASEREREZH7MRD6OBUnpyciIiIiIg9hIPRx35+cnoiIiIiIyJ0YCH2c+AwhWwiJiIiIiMjNGAh9nJJdRomIiIiIyEMYCH2cWuH8JzK2Wb1cEyIiIiIi6msYCH3cqGgNAKCwtMHLNSEiIiIior6GgdDHTRkaDgD44kytl2tCRERERER9DQOhj5s0JAxSCXCuxoSKxlZvV4eIiIiIiPoQBkIfp1ErkBynBQB8yVZCIiIiIiJyI7cFwi1btiA+Ph5qtRppaWk4dOjQNcvv3LkTI0aMgFqtRlJSEvbs2eOy/b333sMdd9yBsLAwSCQSFBcXdzjG7bffDolE4rI8/vjj7joln3Hr5W6jDIRERERERORObgmEO3bsQHZ2NtavX4+ioiIkJycjMzMT1dXVnZbPz8/HvHnzsHjxYhw9ehSzZs3CrFmzcOzYMbGMyWTCrbfeihdffPGar/3oo4+isrJSXH7/+9+745R8ypXnCOsgCIKXa0NERERERH2FRHBDwkhLS8OECROwefNmAIDD4UBcXByWLl2KVatWdSiflZUFk8mE3bt3i+smTZqElJQUbN261aXshQsXkJCQgKNHjyIlJcVl2+23346UlBRs2rTppuptNBoRHBwMg8EAjUZzU8foCWabHSnP5aLVasdHy2/DcF2Qt6tEREREREQ+oLuZptsthBaLBYWFhcjIyLhyUKkUGRkZKCgo6HSfgoICl/IAkJmZedXy1/Luu+8iPDwcY8aMwerVq9HS0nLDx/B1KrkMExNCAXC0USIiIiIich95dw9QW1sLu92OqKgol/VRUVE4depUp/vo9fpOy+v1+ht67Z///OcYNGgQYmJi8M0332DlypUoKSnBe++912l5s9kMs9ks/t1oNN7Q63nTrUPD8el3NfjyTC0W35rg7eoQEREREVEf0O1A6E2PPfaY+HNSUhKio6Mxffp0nD17FkOGDOlQPicnB88991xPVtFt2p8j/OpcHax2BxQyDhBLRERERETd0+1UER4eDplMhqqqKpf1VVVV0Ol0ne6j0+luqHxXpaWlAQDOnDnT6fbVq1fDYDCIS3l5ebderyeN0AUhLECJFosdxeWN3q4OERERERH1Ad0OhEqlEqmpqcjLyxPXORwO5OXlIT09vdN90tPTXcoDQG5u7lXLd1X71BTR0dGdblepVNBoNC5LbyGVSjC5fbTR03yOkIiIiIiIus8t/Q6zs7Pxxhtv4J133sHJkyfxxBNPwGQyYdGiRQCABQsWYPXq1WL5ZcuWYe/evdi4cSNOnTqFDRs24MiRI1iyZIlYpr6+HsXFxThx4gQAoKSkBMXFxeJzhmfPnsVvfvMbFBYW4sKFC/jggw+wYMEC3HbbbRg7dqw7Tsvn3Do0DADnIyQiIiIiIvdwyzOEWVlZqKmpwbp166DX65GSkoK9e/eKA8eUlZVBKr2SPSdPnoxt27Zh7dq1WLNmDRITE7Fr1y6MGTNGLPPBBx+IgRIA5s6dCwBYv349NmzYAKVSiX379mHTpk0wmUyIi4vD7NmzsXbtWneckk9qf47waHkjGlss0PorvVwjIiIiIiLqzdwyD2Fv1VvmIfy+u/74OU5UGrHh7lF4aApHGyUiIiIi6s+8Pg8h9aysCXEAgO2Hy9GPszwREREREbkBA2EvMyslFkq5FKf0Tfj2ksHb1SEiIiIiol6MgbCXCfZX4M4xzuk5th/uPdNmEBERERGR72Eg7IXau43+u7gCLRabl2tDRERERES9FQNhLzQpIQwDQ/3RZLZhz7d6b1eHiIiIiIh6KQbCXkgqlYithDsOl3m5NkRERERE1FsxEPZSs8cNgFQCHL7QgLM1zd6uDhERERER9UIMhL2ULliNacMjAQA7OLgMERERERHdBAbCXqy92+jfvirFpcZWL9eGiIiIiIh6GwbCXixjZBRSB4WgxWLHul3HOFE9ERERERHdEAbCXkwqlSDnviQoZBLknarGf45xxFEiIiIiIuo6BsJeblhUEJ6YOgQAsP6D4zC0Wr1cIyIiIiIi6i0YCPuA/5o2FIPDA1DTZMbv957ydnWIiIiIiKiXYCDsA9QKGf7nviQAwLsHy/DVuTov14iIiIiIiHoDBsI+YtLgMGSNd446+sTfCjk3IRERERERXRcDYR+y7u5RSB4QjIYWKxa8eQh6Q5u3q0RERERERD6MgbAPCVDJ8ZeHJmBweAAuNbZi4V8OcZAZIiIiIiK6KgbCPiYsUIV3Hp6IyCAVSqqa8Og7R9BmtXu7WkRERERE5IMYCPuguFB/vPPwRASp5Dh0oR5r3vuWk9YTEREREVEHbguEW7ZsQXx8PNRqNdLS0nDo0KFrlt+5cydGjBgBtVqNpKQk7Nmzx2X7e++9hzvuuANhYWGQSCQoLi7ucIy2tjY8+eSTCAsLQ2BgIGbPno2qqip3nVKvNjJag62/SIVMKsF7Ry/hzS/Oe7tKRERERETkY9wSCHfs2IHs7GysX78eRUVFSE5ORmZmJqqrqzstn5+fj3nz5mHx4sU4evQoZs2ahVmzZuHYsWNiGZPJhFtvvRUvvvjiVV93xYoV+Pe//42dO3fi008/RUVFBe677z53nFKfMGVoONbOHAkA+J89J/HZdzVerhEREREREfkSieCGvoRpaWmYMGECNm/eDABwOByIi4vD0qVLsWrVqg7ls7KyYDKZsHv3bnHdpEmTkJKSgq1bt7qUvXDhAhISEnD06FGkpKSI6w0GAyIiIrBt2zbcf//9AIBTp05h5MiRKCgowKRJk65bb6PRiODgYBgMBmg0mps5dZ8nCAJ+/c9vsLPwIjRqOT5YciviwwO8XS0iIiIiInKD7maabrcQWiwWFBYWIiMj48pBpVJkZGSgoKCg030KCgpcygNAZmbmVct3prCwEFar1eU4I0aMwMCBA2/oOH2dRCLBb382BrcM1MLYZsPD7xxGRWOrt6tFREREREQ+oNuBsLa2Fna7HVFRUS7ro6KioNfrO91Hr9ffUPmrHUOpVEKr1Xb5OGazGUaj0WXpD1RyGf78YCqig9U4V2PCz179EscrDN6uFhEREREReVm/GmU0JycHwcHB4hIXF+ftKvWYSI0aOx9Px7CoQFQZzZiztQAHSjp/xpOIiIiIiPqHbgfC8PBwyGSyDqN7VlVVQafTdbqPTqe7ofJXO4bFYkFjY2OXj7N69WoYDAZxKS8v7/Lr9QUDQvzxzycmY8rQMJgsdjzyzhG8+skZmG2cp5CIiIiIqD/qdiBUKpVITU1FXl6euM7hcCAvLw/p6emd7pOenu5SHgByc3OvWr4zqampUCgULscpKSlBWVnZVY+jUqmg0Whclv5Go1bgrYcm4v7UAbA7BPx+bwmmb/wU/yq+BIeDcxUSEREREfUncnccJDs7GwsXLsT48eMxceJEbNq0CSaTCYsWLQIALFiwALGxscjJyQEALFu2DFOnTsXGjRsxc+ZMbN++HUeOHMHrr78uHrO+vh5lZWWoqKgA4Ax7gLNlUKfTITg4GIsXL0Z2djZCQ0Oh0WiwdOlSpKend2mE0f5MKZfipfvHYmJCKDZ+XIKLDa1Ytr0Yb35xHk/9OBE/HhEJqVTi7WoSEREREZGHuSUQZmVloaamBuvWrYNer0dKSgr27t0rDhxTVlYGqfRKY+TkyZOxbds2rF27FmvWrEFiYiJ27dqFMWPGiGU++OADMVACwNy5cwEA69evx4YNGwAAf/jDHyCVSjF79myYzWZkZmbi1Vdfdccp9XkSiQRzxsfhp2Oj8ZcvzmPrp+fwzUUDHvnrEQyNDMSjP0rAvSmxUCtk3q4qERERERF5iFvmIeyt+sM8hF1V22zGG5+dw7aDZWgy2wAAEUEqPDU9EXMnxEEh61fjDxERERER9QrdzTQMhAyELprarNh+qBx/+fI8Kg1tAIDB4QH49YzhyBytg0TCrqRERERERL6CgbAbGAivzmJz4O+HyvBK3mnUmSwAgMTIQEwaHIbUQSFIHRSCASF+DIhERERERF7EQNgNDITX19RmxRufncMbn59Hq9V1eoqUOC3W3DUSExNCvVQ7IiIiIqL+jYGwGxgIu67eZMFX5+pQWNqAwtIGHK8wwGp33jo/GRWFlTNGYGhkoJdrSURERETUvzAQdgMD4c2rbmrDH/edxvbD5bA7BEglwNgBWkyID8H4+FCMHxSCsECVt6tJRERERNSnMRB2AwNh952pbsKLe0uQe6Kqw7YRuiDcOjQcUxLDMTE+FAEqt8xyQkRERERElzEQdgMDofuU17fgSGk9Dl9owJEL9fiuqtllu1wqwbiBIZgyNBxThoZhTGww5zgkIiIiIuomBsJuYCD0nNpmM/LP1iH/TC0+P12LS42tLtslEmBAiB8GhwdiSEQgBkcEYEhEIIZEBCAiSMXRS4mIiIiIuoCBsBsYCHuGIAgoq2/Bl2fq8OWZWhScq0P95aksOqP1V2DykDD8KDECP0oMx4AQ/x6sLRERERFR78FA2A0MhN4hCAJqmy04V9OMszWmy38241ytCeX1LXD84I7UadQYGOqPASF+GBDqj1HRGkyI56A1REREREQMhN3AQOh7zDY7jl0y4PPTzq6mxeWNsP8wIV42JCIAE+JDkRAegBit3+VFjcggNWRS1y6ngiDA2GaDwyFAKZdCJZdCLpP2xCkREREREXkMA2E3MBD6PmObFWeqm3GxoRUXG1pQWtuCo+UNHQat+T65VIIojRqxWj9IJECVsQ16YxvarA6XckqZFBMTQpE5Ogp3jNYhSqP29OkQEREREbkVA2E3MBD2Xg0mC46UNuDr8kZcamzFpcZWVDS2Qm9og+0qLYrXMypag4SIAAzQ+iE2xA86jRrhQSqEB6gQFqjktBlERERE5HMYCLuBgbDvsTsE1DSZxYDoEAToNGrogtWI0qghl0pgsTtgsTlQ22zGvpPV+Pi4HkVljdc9dqzWDykDtbglTosxscGw2QU0tlrQ2GJFi8UGhczZDVUpkyA0QIXEyEDEhfp36L5KREREROQuDITdwEBI7aqMbTha1oiLDS241NiKiw2tqDa2obbZgtpmM8w2x/UP0gmVXIohEYEYFhWIxKggDI0MxODwADgEwGSxocVsh8Vuh1wqhUImhUImgVohQ5BajkCVHIFqOVTy68/XKAgCvqtqhlQCDI0M5LQdRERERP1EdzMN+8ARAYjSqDFjjK7TbYIgoMlsw7FLBhwta8TRskaUVBnhr5Aj2F+BEH8F/JVy2BwCrDYHLHYH9IY2nK1phtnmwIlKI05UGm+6bnGhfhg/KBSpg0KQEqdF4Pe6rl5saEXuCT32nawW53pMjAzErFticU9yDOJCOWUHEREREV0dWwjZQkgeYncIKK9vwenqZnxX1YQzl/8sq2+BUiaFv0oGf4UcSrnUGSbtDljtDrRZ7Whus8Fksd/Q66kVUjgcgMV+pTUzVuvnnK4jxB/RwWoIEGC2OmC2OSBAgNZPCa2/AsF+CqgVMjgEwbk4AH+lDBo/BTRqBWRSCY5XGHC03BmI601mpA4KweQh4Zg8JAwxWj/UNJlR3WRGXbMZMVo/jIzWdOgu63AIaGqzOf8iASQSwGpzoMViR7PZhhaLHWqFFFp/JYL9FAhQytjaSURERHQN7DLaDQyE5MvsDgHGViuOVRhw+EIDCkvrcbzCCJv9yq9soEqO24aF4yejdLh1aDgsdgc+OqbHruJLKDhXB2/+dgep5Bg3KARJscGoNLThdLUzFLfcQNBVyCSIDHKOGButVSNAJUeVoQ2XGltRaWiDn0KGlDgtxg3S4paBIRgcHoAQfyWkl4OoodWKorIGHLlQj0sNrQgLVCEiSIWIQBXkMgmMrVYY22wwtlphvty6a7ncPXhktAbjB4VgVIwGii5MUeJwCPj6YiOOVRiRPCAYSbHBNx1mBUHA1xcNOF/bjAnxoRgQ4trSe66mGZ99V4MKQxvqmi2oN5nRbLZhUFgARkZrMFIXhOG6IIQGKHtloD5b04wtB85AJZdi1YyRCPZXuGwvKmvAe0UXcd+4ARg3MMRLtSQiIvINDITdwEBIfVm9yYLztSZcbGjBxQbnCKwyqQQqhdT5XOLluRkbWixoaLHCanNAKgWkEgkkEglaLTYYW20wtlnRarVjWGQQbhmoxS0DtQjxV+LQ+Xp8ebYWRaWNsNgdUMmliAhSITRAifM1JjSZbV2uq59ChgCVDH5KGdqsDhharC4tnTdCJpUgPFAJf6UcF+pM3Q7FfgoZhkUFQi6TQgJnq2aASo7oYD/EBDtHoi0ua0TeqWrUNpvF/WKC1bhjtA6pg0JcBjpqs9rhr5LDXyFDgEqOASHO1tQRuiD4K+X44OtL+H9fleLYpSvdjIdGBuL2YRFwCMD+U1W4UNfSpboH+ykQHx6AweEBiAv1R0ywGtFaZ73jQv2hVrg+n+pwCLhQZ0JDiwVDI4MQ7Ke4ypGvzeEQ0GK1o8Vig90hQAIJJJdbhANVcvgpOm/51Rva8Me87/CPIxfF+UdjtX7449wUjI8PhcXmwCt5p/HqJ2fgEJzHe3hKAn51x3D4Ka/9rK3dIeBiQwvO1jSjrK4FVruzNdwuOFvNG1osqDdZ0NBiQViAChmjojBteASC1Dd3DajnWe0O/ONIOXJPVOHBtEHIGBV13X1MZhv8FDLxSyRPOVvTjDarHaOiNb3ySxoi8m0+Ewi3bNmCl156CXq9HsnJyfjTn/6EiRMnXrX8zp078eyzz+LChQtITEzEiy++iLvuukvcLggC1q9fjzfeeAONjY2YMmUKXnvtNSQmJopl4uPjUVpa6nLcnJwcrFq1qkt1ZiAk6r42qx1mmwMatVz8oGN3CDhZacThC/Uo0TchOthPHFgnLtQPUokEggAIECCXSjt0LRUEAW1WB+pbLNAbWlHR2IZKQyuazXboNGrEaNWI0fqhscXZAni0rAHF5Y2oMpo71C8+zB/j40MxJCIQjS0WsWur3SEg2E8BjZ8cQWoF/JWyywP7SGG1O/B1eSOOlDbA0Grt8rUIVMmRFBuMry823lBLaDuFTALr5RZgpVyKYVGBOFFhxA9nUlHIJEhLCMMIXRBCA5UIC1DCTynH2epmnNIbcbLS2TX5WiQSZ9gaHBEInUaFczUmnKw0unRVjtX6YVSMBuGBKpitdrTZ7GizOqCUSRGgkiNQJYNSLkV1kxmVjc6W2zqTucOcnz+klEkRfLmrslwqgVQigVQKnK5qFgdwmj4iEmdqmlFa1wKpBHj0tsH48kytGJRHx2hwvML588BQf6y5ayQigpSwO5z3X3VTG87WmHC2uhlna5pxrtYktv7eyL/H5CHhiAv1gwQSSCWATCpFiL/COSVNoArhgUqEX255VitksDsEVDS24lytCWX1LQhUyTAgxB8DQvwQFaT2ePD4PrPNjvL6VtQ0mTE4IqDLc63a7A6YzHbnwFcWOwRBgABAEJxdyQeE+HUaaupNFgBAkFrepVb1G+FwCKhqasOF2haU1Zsgk0oxPCoIiVGBUMqk2P1tJV7+uMTly5L7Uwdg3d2joLkc6gVBwIlKI45ccL5nHC1vRGldC8IDlZg6LBI/HhGJHw0LF8t//3oUljbgs9M1AICJCWGYEB8Cf+X1h2G4UGvC7z86hT3f6gE479Wfjo3G3ckxGKEL6nY4bP+iw2S2o9VqQ6vFAbVCiqQBwV0akOz7aprMaGixYGAnXxZ526XGVuw/VY0Dp6pxosKIEdFBmDQ4DJMGh2FMjAbyLtxv5fUtKC5vRFpCKCJvYt5hm92BYxVG5J+tRcHZOpyrMcFqd4iPfPgpZIjUOHugRAapkTooBD8ZFYWQAOXNnHKfcbGhBfUmS7d6zdD1+UQg3LFjBxYsWICtW7ciLS0NmzZtws6dO1FSUoLIyMgO5fPz83HbbbchJycHP/3pT7Ft2za8+OKLKCoqwpgxYwAAL774InJycvDOO+8gISEBzz77LL799lucOHECarXzFzk+Ph6LFy/Go48+Kh47KCgIAQEBXao3AyFR32K1O1DXbEF1UxuMrTYM0wUiMujG/+Nv53AIYphwvlMKcAiAsdWKCkMbKhtbUdVkRkKYP34ySoeJCaFQyqVos9rx+ela7D2mx/naZuiCnd1eY7R+CFDK0WJxPiPabLbhfI0Jp/RGlNa3QBCcgwg9mDYID4yPQ2iAEoYWK744U4vPvnN+GJ02IgK3Jka4DC7UmVaLHaX1JpyvMeF8nQkXG5wtlJWNbahobL1qC65KLkWIvxJ6Y9tNX7d2Egkgl7aHf8AhCNdtsZ0YH4qVdw5H6qBQNJttWLfrGN47ekncrvVX4HezkjBzbDQOnKrGmve/RaWha3VVyqUYHB6A+LAA+CllkEicLeJKuRSh/kqEBCgR4q/A6epmfHRcj3M1phs630CVHJbLXY87I5dKEOynuPxFhAIBKhkkcH5AckYuuFwfl58hXGX9D38A7IIAvaENFYZWl7IRQSokxQYjITwANrvzWWKLzQFDqxW1Jgtqm8xdCvQh/grcMjAEt8RpAQDfXDLg24sGl3vGXymDRq1ApMb54ThKo0JYgBJKuVT84sUhCDDbHJcX++Xnm51/tlrtMLRaYWi1orHFetXRniUSIMRfKYbRsAAlfpQYjn99XQFBcH6p8dhtg/HNRQM+O12DmqaOXxp9n1QCRAc756IdEOIHs82Bz7+rgbHN9fdFLpUgOU6LhPAAhAYoEXr53lErZFDJnb0wPv2uBn/7qhQ2hwCJxPm79f1rGxGkQvIAZ6+LUTEaQABaLM6WdQHOFn6tnwJafyVkUqDV4rwuzWYrvr1oxJHSehSXNXb6u6xWSDEhPhRThoYjMkgFvbENekMbqo1mKORSaC/fhzKpBKf0Rnxz0SD+HkklQHxYAIZGBmJAiD+C1HIEqeUIUMlR2diKMzXNOF3VDL2hDYMjA5E8IBhjB2gRGaTCuZpmnK52Lm1WOwKUzv2C1HLEaNVICA/E4IgADAjxg8lsd7bKmyxoNjt7E7Q/x97QYsWly+9ZF+pMOHud30XnlzUSyKQSxGr9cPtwZ8BPHRSCgnN1+H8FpThQUg1BcH7Rc3dyDB6ekoAxscEw2+w4X2vCmepmOC7fM7FaP4QHKlFS1YSCs3UoOFuHg+fr0XwDPV8AZ50mDQ7FjNE6jB2gRWJUoMsXCYZWK8rrW2Ay2y5PWyWFXCaB3SG4jC1gs7f/LEAulUAXrEZ0sBqhAUrUNltQcK4OBWdrUVxuwIAQP9w+PAK3D49ErNYPgiCg3mRBWX0LWi1255gCWrX4pU37wHk1TWYEKOUIC1SK2/SGNhy6UI/D5+tR22zGgBA/DAoLwKAwf5jMdpysNOJkpRFna5oRHxaAaSOc1z1Ko8b+U9V492ApPv2uBoLgHPDu0R8Nxr23xLh8WdH+nukcv0C4fB9AvBcqDW04fL4ehy/Uo6isEQEqGe4cE42ZSdEYO6DzkNlmdd5b9SbnSPHtP/sr5UiMCsSwyKAOjyL8kN0hoLnN2UvK0GoVe/S4+8sud/GJQJiWloYJEyZg8+bNAACHw4G4uDgsXbq009a6rKwsmEwm7N69W1w3adIkpKSkYOvWrRAEATExMXj66afxq1/9CgBgMBgQFRWFt99+G3PnzgXgDITLly/H8uXLb6reDIRE5CtMZhuqjG2IDwvweCuSIAioM1lwrsaEczXNqDS0IT7cH6NjgjE4PABymRSGFitOXP7PvqnNBj+lVPywa7E50Gy2w2S2wWyzIzxQhRitH2K0akQGqeGvlMFfKYdaIXX5z1oQBLRa7WhosaKxxQJDqxUOhzPAOAQBIf5KJHfyH/z7Ry/idx+eREpcCP7nZ2Ncvt1varNi48ff4UBJNQBAJpFAKpVA66fA0MhADIkIFP+MDfG7oXlBz1Q345OSajS12cRWMovdgQaTRZySprbJjNpmi0sIVMqlGBTqL35outjYgorGNrEbbE8KUMoQFqjCxYaWDi3N1yOXSuCnlEEudXYjlwBoarPddHfu7pJJJYgL8cPAsABYbHaU6JvQ0OJswQ9SyfHYbYPx8K0JCFDJceh8PX618+sOLeX+ShkmxIde7v4egtExGnynb8KBkmrsP1V91eAR4q/A1GERkEml+OpcnTiqc1fcPjwCq+4cgYGh/sg7WY3d31TgQEnNDbdYX41KLoXGTwE/hQx+ChnqLn8IvlESCRColN9Qd/+eIpUA4waGYNqISNwyUIuTlU346lwdDp2vv2YvDplU4vJ7Fx/m79KKHBOsht7Y1uXfDY1ajkmDwzB5SBiSBmihVji/3JBLJWix2FHd1IaaJjPK61uRd6oaJzsZYTwu1A+h/kqU1beI9+/NUl5+P76aWK0fGlssHQapk0kliNGqIZNIUGU0o9Xquj00QAmlTHrTXwwGqeVXBpCD8wuK9i9DnF+EOMcW0BvaUHf5y5ybEav1Q6RG5QyVNgfabHbUN3c8385EBKmg9VNApbgcxKVSNJmdYwoYW62d/h7IpRIMDPVHQngAxg0KwZPTht503d3N64HQYrHA398f//znPzFr1ixx/cKFC9HY2Ih//etfHfYZOHAgsrOzXYLc+vXrsWvXLnz99dc4d+4chgwZgqNHjyIlJUUsM3XqVKSkpOCPf/wjAGcgbGtrg9VqxcCBA/Hzn/8cK1asgFze+TfnZrMZZvOVN0mj0Yi4uDgGQiIiHycIgs92NxIuP49b22yGUiZFjLZj8LTZHahpNqOxxflhw9BqRYvFjs5O6fvnKXFZ/72fv7elff33y0ZqVBgUFoCwywMLtVhsOFlpxLcXDagwtF1uxZJCKZciUKVAeKASYZe7wGrUCvirZJ12OTTb7DhZ2SR20waApFhnC9HoGA2Ucqn4rXpjixU1TWZUNbWhymhGg8kCq/3K4E0yqURsTVPJr3zhoFI4f9aoFQj2d7aShQWoXFo12q97bbMFpXUmJHbyjb/JbMPGj7/D1xcbkTooBLcPi0BqfMg1u1LWNJlRfvm564sNLbDZBUwZGo6UOK3Lv2l5fQsOX6hHpaENDaYrz5+2t7qabQ5o/RV4fOoQTBka3uF12qx258jNZY0oLm/EmepmKGRSZ6i73HptaLXC0GJFY6sVdocAf6Uz8KkVMgyJDMT4QSFIHRSCEbogly6TgiDgdHUzvjhdi/yzdWi12qDT+EEXrEKURg2rXYDh8ofeVosdiVGB4r+fv1KGmiYzvqtyjopd3WRGU5sVTW02NJttiAxSYWiks/t/lEaF76qa8U15I765aECdyYzBEYFIjAxEYlQgNGoFms02mMx2NLVZUVbf4vwSqrYZVUYzAlVyhAQoEOqvRJBaAalUAtnlVvsgtRyxIX6I1fojRqtG8gBtp10vHQ4B9S0WZ8uSIMBqE3CswoADp6pxoKQGtc1maNRyPDA+DvPTBmJwRCCKyxvx1pfn8eE3lbBdToJBajmGRgZCIZXiUmMr9EbnFzgBShkmJoRi8pBwpA8J63T07GsprTNh7zE9Pv2uBt9VNaG2uWP4CQ9UQaOWw+pobwkUIJNCbEmXSyWQX56nWCFzBsBKQ5sY+iUSYFS0BumDwzA+PgRna0w4cKoaRWUNLkFXp3F+WXexsbXTEBmglKHN5nAJ0FIJMCpGgwnxoYgL8cfFhlaU1plQWt8ClVzqHMQsWoPBEQE4UWHE/lPVOHr5dUP8FZgzPg4/TxuIkAAlth8qw1++uNDlkCmTOrvpa9QKjBsUggnxIRgfH4pqYxt2f1OJ/aeqr/lohlwqEVvvwwKVCA1QwdhqxemqJlR0sVcJ4BxHoD3gfj84/ygxHP9vcVqXj+NpXg+EFRUViI2NRX5+PtLT08X1v/71r/Hpp5/i4MGDHfZRKpV45513MG/ePHHdq6++iueeew5VVVXIz8/HlClTUFFRgejoaLHMnDlzIJFIsGPHDgDAyy+/jHHjxiE0NBT5+flYvXo1Fi1ahJdffrnTum7YsAHPPfdch/UMhEREREQ9w+4QbihY3QyHQ0BZfQuiNOpOB52qMrbhfK0Jg8MDEBGkcvkixmZ3oM5kQWiA0q1dBOtNFnxX1QRDqxVxIf4YGOZ/3e7/V2OxOVBlbBO/OPmhxhYLTlY2IVKjQqzWT3wu1OEQUN1kRll9CwRBgC7Y2bPDTymDwyGgocWCmmYzTGYbhkUF3fDAWg0mC87WNGNMbHCHZ1Gtdgf2nahCncmCGK368hcV6ssDO13u4XG5l8f1tFrsOHi+DhabA8rLX26p5DIxBH5/XIMfamqz4nytCc1tNpgvf0FlswsIVMudXfrVcmj8FAhSy8UvkNqfYz5fY8LZWhPCA5S4Mym60+N7Q7+emD47O1v8eezYsVAqlfjlL3+JnJwcqFSqDuVXr17tsk97CyERERER9QxPh0EAkEoliA+/+pgSURr1VQdaksukXR6E6UaEBigxaXCYW46llEsRF+p/1e1afyXSh3R8LenlZxB1wR3PTyqVICxQhbDAjp+huyokQInxAaGdblPIpG4LUX5KGW4f3nGckq4IUiswdoD2hvaRSiWIDvZDdLAfJnfS6t/bdftrj/DwcMhkMlRVVbmsr6qqgk6n63QfnU53zfLtf97IMQHns4w2mw0XLlzodLtKpYJGo3FZiIiIiIiI+qtuB0KlUonU1FTk5eWJ6xwOB/Ly8ly6kH5fenq6S3kAyM3NFcsnJCRAp9O5lDEajTh48OBVjwkAxcXFkEqlnY5sSkRERERERK7c0mU0OzsbCxcuxPjx4zFx4kRs2rQJJpMJixYtAgAsWLAAsbGxyMnJAQAsW7YMU6dOxcaNGzFz5kxs374dR44cweuvvw7A+UD98uXL8dvf/haJiYnitBMxMTHiwDUFBQU4ePAgpk2bhqCgIBQUFGDFihV48MEHERIS4o7TIiIiIiIi6tPcEgizsrJQU1ODdevWQa/XIyUlBXv37kVUVBQAoKysDFLplcbIyZMnY9u2bVi7di3WrFmDxMRE7Nq1S5yDEHAOSmMymfDYY4+hsbERt956K/bu3SvOQahSqbB9+3Zs2LABZrMZCQkJWLFihcszgkRERERERHR1bpmHsLfiPIRERERERNSbdTfTuG8sXSIiIiIiIupVGAiJiIiIiIj6qV49D2F3tfeWNRqNXq4JERERERHRjWvPMjf7JGC/DoRNTU0AwMnpiYiIiIioV2tqakJwcPAN79evB5VxOByoqKhAUFAQJBKJt6sjMhqNiIuLQ3l5OQe76SG85t7B6+4dvO49j9fcO3jdvYPX3Tt43Xuer1xzQRDQ1NSEmJgYl5kduqpftxBKpVIMGDDA29W4Ko1Gw1/oHsZr7h287t7B697zeM29g9fdO3jdvYPXvef5wjW/mZbBdhxUhoiIiIiIqJ9iICQiIiIiIuqnGAh9kEqlwvr166FSqbxdlX6D19w7eN29g9e95/Gaewevu3fwunsHr3vP6yvXvF8PKkNERERERNSfsYWQiIiIiIion2IgJCIiIiIi6qcYCImIiIiIiPopBkIfs2XLFsTHx0OtViMtLQ2HDh3ydpX6lJycHEyYMAFBQUGIjIzErFmzUFJS4lLm9ttvh0QicVkef/xxL9W499uwYUOH6zlixAhxe1tbG5588kmEhYUhMDAQs2fPRlVVlRdr3DfEx8d3uO4SiQRPPvkkAN7n7vLZZ5/h7rvvRkxMDCQSCXbt2uWyXRAErFu3DtHR0fDz80NGRgZOnz7tUqa+vh7z58+HRqOBVqvF4sWL0dzc3INn0ftc67pbrVasXLkSSUlJCAgIQExMDBYsWICKigqXY3T2O/LCCy/08Jn0Hte71x966KEO13PGjBkuZXiv37jrXffO3uclEgleeuklsQzv9RvTlc+KXfnsUlZWhpkzZ8Lf3x+RkZF45plnYLPZevJUuoyB0Ifs2LED2dnZWL9+PYqKipCcnIzMzExUV1d7u2p9xqeffoonn3wSX331FXJzc2G1WnHHHXfAZDK5lHv00UdRWVkpLr///e+9VOO+YfTo0S7X84svvhC3rVixAv/+97+xc+dOfPrpp6ioqMB9993nxdr2DYcPH3a55rm5uQCABx54QCzD+7z7TCYTkpOTsWXLlk63//73v8crr7yCrVu34uDBgwgICEBmZiba2trEMvPnz8fx48eRm5uL3bt347PPPsNjjz3WU6fQK13rure0tKCoqAjPPvssioqK8N5776GkpAT33HNPh7LPP/+8y+/A0qVLe6L6vdL17nUAmDFjhsv1/Pvf/+6ynff6jbvedf/+9a6srMRf/vIXSCQSzJ4926Uc7/Wu68pnxet9drHb7Zg5cyYsFgvy8/Pxzjvv4O2338a6deu8cUrXJ5DPmDhxovDkk0+Kf7fb7UJMTIyQk5PjxVr1bdXV1QIA4dNPPxXXTZ06VVi2bJn3KtXHrF+/XkhOTu50W2Njo6BQKISdO3eK606ePCkAEAoKCnqohv3DsmXLhCFDhggOh0MQBN7nngBAeP/998W/OxwOQafTCS+99JK4rrGxUVCpVMLf//53QRAE4cSJEwIA4fDhw2KZ//znP4JEIhEuXbrUY3XvzX543Ttz6NAhAYBQWloqrhs0aJDwhz/8wbOV66M6u+YLFy4U7r333qvuw3u9+7pyr997773Cj3/8Y5d1vNe754efFbvy2WXPnj2CVCoV9Hq9WOa1114TNBqNYDabe/YEuoAthD7CYrGgsLAQGRkZ4jqpVIqMjAwUFBR4sWZ9m8FgAACEhoa6rH/33XcRHh6OMWPGYPXq1WhpafFG9fqM06dPIyYmBoMHD8b8+fNRVlYGACgsLITVanW570eMGIGBAwfyvncji8WCv/3tb3j44YchkUjE9bzPPev8+fPQ6/Uu93dwcDDS0tLE+7ugoABarRbjx48Xy2RkZEAqleLgwYM9Xue+ymAwQCKRQKvVuqx/4YUXEBYWhltuuQUvvfSSz3bn6i0++eQTREZGYvjw4XjiiSdQV1cnbuO97nlVVVX48MMPsXjx4g7beK/fvB9+VuzKZ5eCggIkJSUhKipKLJOZmQmj0Yjjx4/3YO27Ru7tCpBTbW0t7Ha7y40DAFFRUTh16pSXatW3ORwOLF++HFOmTMGYMWPE9T//+c8xaNAgxMTE4JtvvsHKlStRUlKC9957z4u17b3S0tLw9ttvY/jw4aisrMRzzz2HH/3oRzh27Bj0ej2USmWHD2lRUVHQ6/XeqXAftGvXLjQ2NuKhhx4S1/E+97z2e7iz9/X2bXq9HpGRkS7b5XI5QkND+TvgJm1tbVi5ciXmzZsHjUYjrn/qqacwbtw4hIaGIj8/H6tXr0ZlZSVefvllL9a295oxYwbuu+8+JCQk4OzZs1izZg3uvPNOFBQUQCaT8V7vAe+88w6CgoI6PHbBe/3mdfZZsSufXfR6fafv/e3bfA0DIfVbTz75JI4dO+byPBsAl+cZkpKSEB0djenTp+Ps2bMYMmRIT1ez17vzzjvFn8eOHYu0tDQMGjQI//jHP+Dn5+fFmvUfb775Ju68807ExMSI63ifU39gtVoxZ84cCIKA1157zWVbdna2+PPYsWOhVCrxy1/+Ejk5OVCpVD1d1V5v7ty54s9JSUkYO3YshgwZgk8++QTTp0/3Ys36j7/85S+YP38+1Gq1y3re6zfvap8V+xp2GfUR4eHhkMlkHUYoqqqqgk6n81Kt+q4lS5Zg9+7dOHDgAAYMGHDNsmlpaQCAM2fO9ETV+jytVothw4bhzJkz0Ol0sFgsaGxsdCnD+959SktLsW/fPjzyyCPXLMf73P3a7+Frva/rdLoOA4fZbDbU19fzd6Cb2sNgaWkpcnNzXVoHO5OWlgabzYYLFy70TAX7uMGDByM8PFx8T+G97lmff/45SkpKrvteD/Be76qrfVbsymcXnU7X6Xt/+zZfw0DoI5RKJVJTU5GXlyeuczgcyMvLQ3p6uhdr1rcIgoAlS5bg/fffx/79+5GQkHDdfYqLiwEA0dHRHq5d/9Dc3IyzZ88iOjoaqampUCgULvd9SUkJysrKeN+7yVtvvYXIyEjMnDnzmuV4n7tfQkICdDqdy/1tNBpx8OBB8f5OT09HY2MjCgsLxTL79++Hw+EQQzrduPYwePr0aezbtw9hYWHX3ae4uBhSqbRDt0a6ORcvXkRdXZ34nsJ73bPefPNNpKamIjk5+bplea9f2/U+K3bls0t6ejq+/fZbly9B2r+YGjVqVM+cyI3w8qA29D3bt28XVCqV8PbbbwsnTpwQHnvsMUGr1bqMUETd88QTTwjBwcHCJ598IlRWVopLS0uLIAiCcObMGeH5558Xjhw5Ipw/f17417/+JQwePFi47bbbvFzz3uvpp58WPvnkE+H8+fPCl19+KWRkZAjh4eFCdXW1IAiC8PjjjwsDBw4U9u/fLxw5ckRIT08X0tPTvVzrvsFutwsDBw4UVq5c6bKe97n7NDU1CUePHhWOHj0qABBefvll4ejRo+Joli+88IKg1WqFf/3rX8I333wj3HvvvUJCQoLQ2toqHmPGjBnCLbfcIhw8eFD44osvhMTERGHevHneOqVe4VrX3WKxCPfcc48wYMAAobi42OW9vn10v/z8fOEPf/iDUFxcLJw9e1b429/+JkRERAgLFizw8pn5rmtd86amJuFXv/qVUFBQIJw/f17Yt2+fMG7cOCExMVFoa2sTj8F7/cZd7z1GEATBYDAI/v7+wmuvvdZhf97rN+56nxUF4fqfXWw2mzBmzBjhjjvuEIqLi4W9e/cKERERwurVq71xStfFQOhj/vSnPwkDBw4UlEqlMHHiROGrr77ydpX6FACdLm+99ZYgCIJQVlYm3HbbbUJoaKigUqmEoUOHCs8884xgMBi8W/FeLCsrS4iOjhaUSqUQGxsrZGVlCWfOnBG3t7a2Cv/1X/8lhISECP7+/sLPfvYzobKy0os17js++ugjAYBQUlLisp73ufscOHCg0/eUhQsXCoLgnHri2WefFaKiogSVSiVMnz69w79HXV2dMG/ePCEwMFDQaDTCokWLhKamJi+cTe9xret+/vz5q77XHzhwQBAEQSgsLBTS0tKE4OBgQa1WCyNHjhT+53/+xyW8kKtrXfOWlhbhjjvuECIiIgSFQiEMGjRIePTRRzt8oc17/cZd7z1GEAThz3/+s+Dn5yc0NjZ22J/3+o273mdFQejaZ5cLFy4Id955p+Dn5yeEh4cLTz/9tGC1Wnv4bLpGIgiC4KHGRyIiIiIiIvJhfIaQiIiIiIion2IgJCIiIiIi6qcYCImIiIiIiPopBkIiIiIiIqJ+ioGQiIiIiIion2IgJCIiIiIi6qcYCImIiIiIiPopBkIiIiIiIqJ+ioGQiIjIB3zyySeQSCRobGz0dlWIiKgfYSAkIiIiIiLqpxgIiYiIiIiI+ikGQiIiIgAOhwM5OTlISEiAn58fkpOT8c9//hPAle6cH374IcaOHQu1Wo1Jkybh2LFjLsf4v//7P4wePRoqlQrx8fHYuHGjy3az2YyVK1ciLi4OKpUKQ4cOxZtvvulSprCwEOPHj4e/vz8mT56MkpIScdvXX3+NadOmISgoCBqNBqmpqThy5IiHrggREfUHDIREREQAcnJy8Ne//hVbt27F8ePHsWLFCjz44IP49NNPxTLPPPMMNm7ciMOHDyMiIgJ33303rFYrAGeQmzNnDubOnYtvv/0WGzZswLPPPou3335b3H/BggX4+9//jldeeQUnT57En//8ZwQGBrrU47//+7+xceNGHDlyBHK5HA8//LC4bf78+RgwYAAOHz6MwsJCrFq1CgqFwrMXhoiI+jSJIAiCtytBRETkTWazGaGhodi3bx/S09PF9Y888ghaWlrw2GOPYdq0adi+fTuysrIAAPX19RgwYADefvttzJkzB/Pnz0dNTQ0+/vhjcf9f//rX+PDDD3H8+HF89913GD58OHJzc5GRkdGhDp988gmmTZuGffv2Yfr06QCAPXv2YObMmWhtbYVarYZGo8Gf/vQnLFy40MNXhIiI+gu2EBIRUb935swZtLS04Cc/+QkCAwPF5a9//SvOnj0rlvt+WAwNDcXw4cNx8uRJAMDJkycxZcoUl+NOmTIFp0+fht1uR3FxMWQyGaZOnXrNuowdO1b8OTo6GgBQXV0NAMjOzsYjjzyCjIwMvPDCCy51IyIiuhkMhERE1O81NzcDAD788EMUFxeLy4kTJ8TnCLvLz8+vS+W+3wVUIpEAcD7fCAAbNmzA8ePHMXPmTOzfvx+jRo3C+++/75b6ERFR/8RASERE/d6oUaOgUqlQVlaGoUOHuixxcXFiua+++kr8uaGhAd999x1GjhwJABg5ciS+/PJLl+N++eWXGDZsGGQyGZKSkuBwOFyeSbwZw4YNw4oVK/Dxxx/jvvvuw1tvvdWt4xERUf8m93YFiIiIvC0oKAi/+tWvsGLFCjgcDtx6660wGAz48ssvodFoMGjQIADA888/j7CwMERFReG///u/ER4ejlmzZgEAnn76aUyYMAG/+c1vkJWVhYKCAmzevBmvvvoqACA+Ph4LFy7Eww8/jFdeeQXJyckoLS1FdXU15syZc906tra24plnnsH999+PhIQEXLx4EYcPH8bs2bM9dl2IiKjvYyAkIiIC8Jvf/AYRERHIycnBuXPnoNVqMW7cOKxZs0bssvnCCy9g2bJlOH36NFJSUvDvf/8bSqUSADBu3Dj84x//wLp16/Cb3/wG0dHReP755/HQQw+Jr/Haa69hzZo1+K//+i/U1dVh4MCBWLNmTZfqJ5PJUFdXhwULFqCqqgrh4eG477778Nxzz7n9WhARUf/BUUaJiIiuo30E0IaGBmi1Wm9Xh4iIyG34DCEREREREVE/xUBIRERERETUT7HLKBERERERUT/FFkIiIiIiIqJ+ioGQiIiIiIion2IgJCIiIiIi6qcYCImIiIiIiPopBkIiIiIiIqJ+ioGQiIiIiIion2IgJCIiIiIi6qcYCImIiIiIiPopBkIiIiIiIqJ+ioGQiIiIiIion2IgJCIiIiIi6qcYCImIiIiIiPopBkIiIiIiIqJ+ioGQiIiIiIion/r/00A7MwK4nf0AAAAASUVORK5CYII=' width=900.0/>\n",
       "            </div>\n",
       "        "
      ],
      "text/plain": [
       "Canvas(toolbar=Toolbar(toolitems=[('Home', 'Reset original view', 'home', 'home'), ('Back', 'Back to previous …"
      ]
     },
     "metadata": {},
     "output_type": "display_data"
    },
    {
     "name": "stdout",
     "output_type": "stream",
     "text": [
      "Model loss: 0.0051 (training)\n"
     ]
    }
   ],
   "source": [
    "nn = util.build_ml_model(input_size=len(attributes), output_size=1, hidden=[])\n",
    "history = util.train_ml_model(nn, tr[attributes], tr[target], validation_split=0.,\n",
    "                              epochs=200)\n",
    "util.plot_training_history(history, figsize=figsize)"
   ]
  },
  {
   "cell_type": "markdown",
   "metadata": {
    "slideshow": {
     "slide_type": "subslide"
    }
   },
   "source": [
    "## Baseline Evaluation\n",
    "\n",
    "**...And let's check the results**"
   ]
  },
  {
   "cell_type": "code",
   "execution_count": 7,
   "metadata": {},
   "outputs": [
    {
     "name": "stdout",
     "output_type": "stream",
     "text": [
      "R2 score: 0.67 (training), 0.60 (test)\n"
     ]
    }
   ],
   "source": [
    "tr_pred = nn.predict(tr[attributes])\n",
    "r2_tr = r2_score(tr[target], tr_pred)\n",
    "\n",
    "ts_pred = nn.predict(ts[attributes])\n",
    "r2_ts = r2_score(ts[target], ts_pred)\n",
    "\n",
    "print(f'R2 score: {r2_tr:.2f} (training), {r2_ts:.2f} (test)')"
   ]
  },
  {
   "cell_type": "markdown",
   "metadata": {},
   "source": [
    "* They are not super (definitely not [PreCrime](https://en.wikipedia.org/wiki/The_Minority_Report) level), but not alwful either\n",
    "* Some improvements (not much) can be obtained with a Deeper model\n",
    "\n",
    "**We will keep Linear Regression as a baseline**"
   ]
  },
  {
   "cell_type": "markdown",
   "metadata": {
    "slideshow": {
     "slide_type": "subslide"
    }
   },
   "source": [
    "## Discrimination Indexes\n",
    "\n",
    "**Discrimination can be linked to _disparate treatment_**\n",
    "\n",
    "* \"race\" _may not be even among the input attributes_\n",
    "* ...And yet it may be taken into account implicitly (i.e. via correlates)\n",
    "\n",
    "**But we can check whether the model _treats differently different groups_:**\n"
   ]
  },
  {
   "cell_type": "code",
   "execution_count": 8,
   "metadata": {},
   "outputs": [
    {
     "data": {
      "application/vnd.jupyter.widget-view+json": {
       "model_id": "36515a63355d4bdbba50ce5c75b6007e",
       "version_major": 2,
       "version_minor": 0
      },
      "image/png": "[encoded data removed]",
      "text/html": [
       "\n",
       "            <div style=\"display: inline-block;\">\n",
       "                <div class=\"jupyter-widgets widget-label\" style=\"text-align: center;\">\n",
       "                    Figure\n",
       "                </div>\n",
       "                <img src='data:image/png;base64,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' width=900.0/>\n",
       "            </div>\n",
       "        "
      ],
      "text/plain": [
       "Canvas(toolbar=Toolbar(toolitems=[('Home', 'Reset original view', 'home', 'home'), ('Back', 'Back to previous …"
      ]
     },
     "metadata": {},
     "output_type": "display_data"
    }
   ],
   "source": [
    "protected = {'race': (0, 1)}\n",
    "util.plot_pred_by_protected(tr, tr_pred, protected, figsize=(figsize[0], 0.6*figsize[1]))"
   ]
  },
  {
   "cell_type": "markdown",
   "metadata": {},
   "source": [
    "Indeed, our model has a significant degree of discrimination"
   ]
  },
  {
   "cell_type": "markdown",
   "metadata": {
    "slideshow": {
     "slide_type": "subslide"
    }
   },
   "source": [
    "## Discrimination Indexes\n",
    "\n",
    "**A number of _discrimination indexes_ attempt to measure discrimination**\n",
    "\n",
    "* Whether ethics itself can be measured is _highly debatable_!\n",
    "* ...But even if imperfect, this currently the best we can do\n",
    "\n",
    "**We will use the [Disparate Impact Discrimination Index](https://www.aaai.org/ojs/index.php/AAAI/article/download/3943/3821)**\n",
    "\n",
    "* Given a set of categorical _protected attribute (indexes) $J_p$_\n",
    "* ...The regression for of the regression form of the index ($\\text{DIDI}_r$) is given by:\n",
    "\n",
    "$$\n",
    "\\sum_{j \\in J_p} \\sum_{v \\in D_{j}} \\left|\\frac{1}{m} \\sum_{i=1}^m y_i - \\frac{1}{|I_{j,v}|} \\sum_{i \\in I_{j,v}} y_{i}\\right|\n",
    "$$\n",
    "\n",
    "* Where $D_j$ is the domain of attribute $j$\n",
    "* ...And $I_{j,v}$ is the set of example such that attribute $j$ has value $v$\n",
    "\n",
    "\n"
   ]
  },
  {
   "cell_type": "markdown",
   "metadata": {
    "slideshow": {
     "slide_type": "subslide"
    }
   },
   "source": [
    "## DIDI\n",
    "\n",
    "**Let's make some intuitive sense of the $\\text{DIDI}_r$ formula**\n",
    "\n",
    "$$\n",
    "\\sum_{j \\in J_p} \\sum_{v \\in D_{j}} \\left|\\frac{1}{m} \\sum_{i=1}^m y_i - \\frac{1}{|I_{j,v}|} \\sum_{i \\in I_{j,v}} y_{i}\\right|\n",
    "$$\n",
    "\n",
    "* $\\frac{1}{m} \\sum_{i=1}^m y_i$ is just the average predicted value\n",
    "* The protected attribute defines social groups\n",
    "* $\\frac{1}{|I_{j,v}|} \\sum_{i \\in I_{j,v}} y_{i}$ is the average prediction for a social group\n",
    "\n",
    "**We penalize _deviations from the global average_**\n",
    "\n",
    "* Obviously this is not necessarily the best definition, but it is something\n",
    "* In general, different tasks will call for different discrimination indexes\n",
    "\n",
    "...And don't forget the whole \"can we actually measure ethics\" issue ;-)"
   ]
  },
  {
   "cell_type": "markdown",
   "metadata": {
    "slideshow": {
     "slide_type": "subslide"
    }
   },
   "source": [
    "## DIDI\n",
    "\n",
    "**We can compute the DIDI via the following function**\n",
    "\n",
    "```python\n",
    "def DIDI_r(data, pred, protected):\n",
    "    res, avg = 0, np.mean(pred)\n",
    "    for aname, dom in protected.items():\n",
    "        for val in dom:\n",
    "            mask = (data[aname] == val)\n",
    "            res += abs(avg - np.mean(pred[mask]))\n",
    "    return res\n",
    "```\n",
    "\n",
    "* `protected` contains the protected attribute names with their domain\n",
    "\n",
    "**For our original Linear Regression model, we get**"
   ]
  },
  {
   "cell_type": "code",
   "execution_count": 9,
   "metadata": {},
   "outputs": [
    {
     "name": "stdout",
     "output_type": "stream",
     "text": [
      "DIDI: 0.26 (training), 0.28 (test)\n"
     ]
    }
   ],
   "source": [
    "tr_DIDI = util.DIDI_r(tr, tr_pred, protected)\n",
    "ts_DIDI = util.DIDI_r(ts, ts_pred, protected)\n",
    "print(f'DIDI: {tr_DIDI:.2f} (training), {ts_DIDI:.2f} (test)')"
   ]
  },
  {
   "cell_type": "markdown",
   "metadata": {
    "slideshow": {
     "slide_type": "subslide"
    }
   },
   "source": [
    "## Fairness Constraints\n",
    "\n",
    "**Discrimination indexes can be used to state fairness constraints**\n",
    "\n",
    "For example, we may require:\n",
    "$$\n",
    "\\text{DIDI}_r(y) \\leq \\theta\n",
    "$$\n",
    "\n",
    "**If the chosen index is _differentiable_...**\n",
    "\n",
    "...Then we may try to inject the constraint in a NN via a _semantic regularizer_\n",
    "\n",
    "* For example, we may use a loss function in the form:\n",
    "$$\n",
    "L(y, \\hat{y}) + \\lambda \\max(0, \\text{DIDI}_r(y) - \\theta)\n",
    "$$\n",
    "\n",
    "For non-differentiable indexes (e.g. those found in classification), we can:\n",
    "\n",
    "* Use a differentiable approximation (with some care!)\n",
    "* Use an approach that does not require differentiability, e.g. [this](https://arxiv.org/abs/2002.10766) or [that](https://link.springer.com/content/pdf/10.1007/s10115-011-0463-8.pdf)\n",
    "\n"
   ]
  },
  {
   "cell_type": "markdown",
   "metadata": {
    "slideshow": {
     "slide_type": "subslide"
    }
   },
   "source": [
    "## Fairness as a Semantic Regularizer\n",
    "\n",
    "**We can once again use a custom Keras model**\n",
    "\n",
    "```python\n",
    "class CstDIDIRegressor(keras.Model):\n",
    "    def __init__(self, base_pred, attributes, protected, alpha, thr): ...\n",
    "\n",
    "    def train_step(self, data): ...\n",
    "\n",
    "    @property\n",
    "    def metrics(self): ...\n",
    "```\n",
    "\n",
    "The full code can be found in the support module\n",
    "\n",
    "* We subclass `keras.Model` and we provide a custom training step\n",
    "* `alpha` is the regularizer weight\n",
    "* `thr` is the DIDI threshold\n",
    "\n",
    "In this case, we do not need a custom batch generator"
   ]
  },
  {
   "cell_type": "markdown",
   "metadata": {
    "slideshow": {
     "slide_type": "subslide"
    }
   },
   "source": [
    "## Fairness as a Semantic Regularizer\n",
    "\n",
    "**The main logic is in the first half of the `train_step` method:**\n",
    "\n",
    "```python\n",
    "def train_step(self, data):\n",
    "    x, y_true = data # unpacking the mini-batch\n",
    "    with tf.GradientTape() as tape:\n",
    "        y_pred = self.based_pred(x, training=True) # obtain predictions\n",
    "        mse = self.compiled_loss(y_true, y_pred) # base loss (kept external)\n",
    "        ymean = k.mean(y_pred) # avg prediction\n",
    "        didi = 0 # DIDI computation\n",
    "        for aidx, dom in self.protected.items():\n",
    "            for val in dom:\n",
    "                mask = (x[:, aidx] == val)\n",
    "                didi += k.abs(ymean - k.mean(y_pred[mask]))\n",
    "        cst = k.maximum(0.0, didi - self.thr) # Regularizer\n",
    "        loss = mse + self.alpha * cst\n",
    "```\n",
    "\n",
    "* The main loss is defined when calling `compile`"
   ]
  },
  {
   "cell_type": "markdown",
   "metadata": {
    "slideshow": {
     "slide_type": "subslide"
    }
   },
   "source": [
    "## Training the Constrained Model\n",
    "\n",
    "**Let's try and train the model, trying to _roughly halve_ the DIDI**\n",
    "\n",
    "* Important: it will be a good idea to need to keep all examples in every batch\n",
    "* Mini-batches can be used, but make constraint satisfaction (more) stochastic"
   ]
  },
  {
   "cell_type": "code",
   "execution_count": 10,
   "metadata": {},
   "outputs": [
    {
     "data": {
      "application/vnd.jupyter.widget-view+json": {
       "model_id": "022b6743029f4f61b5bb9f49b4e8bdf1",
       "version_major": 2,
       "version_minor": 0
      },
      "image/png": "[encoded data removed]",
      "text/html": [
       "\n",
       "            <div style=\"display: inline-block;\">\n",
       "                <div class=\"jupyter-widgets widget-label\" style=\"text-align: center;\">\n",
       "                    Figure\n",
       "                </div>\n",
       "                <img src='data:image/png;base64,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' width=900.0/>\n",
       "            </div>\n",
       "        "
      ],
      "text/plain": [
       "Canvas(toolbar=Toolbar(toolitems=[('Home', 'Reset original view', 'home', 'home'), ('Back', 'Back to previous …"
      ]
     },
     "metadata": {},
     "output_type": "display_data"
    },
    {
     "name": "stdout",
     "output_type": "stream",
     "text": [
      "Model loss: 0.0107 (training)\n"
     ]
    }
   ],
   "source": [
    "didi_thr = 0.13\n",
    "base_pred = util.build_ml_model(input_size=len(attributes), output_size=1, hidden=[])\n",
    "nn2 = util.CstDIDIModel(base_pred, attributes, protected, alpha=5, thr=didi_thr)\n",
    "history = util.train_ml_model(nn2, tr[attributes], tr[target], validation_split=0., epochs=2000, batch_size=len(tr))\n",
    "util.plot_training_history(history, figsize=figsize)"
   ]
  },
  {
   "cell_type": "markdown",
   "metadata": {
    "slideshow": {
     "slide_type": "subslide"
    }
   },
   "source": [
    "## Constrained Model Evaluation\n",
    "\n",
    "**Let's check both the prediction quality and the DIDI**"
   ]
  },
  {
   "cell_type": "code",
   "execution_count": 11,
   "metadata": {},
   "outputs": [
    {
     "name": "stdout",
     "output_type": "stream",
     "text": [
      "R2 score: 0.30 (training), 0.29 (test)\n",
      "DIDI: 0.08 (training), 0.04 (test)\n"
     ]
    }
   ],
   "source": [
    "tr_pred2 = nn2.predict(tr[attributes])\n",
    "r2_tr2 = r2_score(tr[target], tr_pred2)\n",
    "ts_pred2 = nn2.predict(ts[attributes])\n",
    "r2_ts2 = r2_score(ts[target], ts_pred2)\n",
    "tr_DIDI2 = util.DIDI_r(tr, tr_pred2, protected)\n",
    "ts_DIDI2 = util.DIDI_r(ts, ts_pred2, protected)\n",
    "\n",
    "print(f'R2 score: {r2_tr2:.2f} (training), {r2_ts2:.2f} (test)')\n",
    "print(f'DIDI: {tr_DIDI2:.2f} (training), {ts_DIDI2:.2f} (test)')"
   ]
  },
  {
   "cell_type": "markdown",
   "metadata": {},
   "source": [
    "The constraint is satisfied _with some slack_, leading to reduced performance\n",
    "\n",
    "* A large $\\lambda$ (what we have here) slows down training \n",
    "* ...But a small $\\lambda$ may lead to significant constraint violation"
   ]
  },
  {
   "cell_type": "markdown",
   "metadata": {
    "slideshow": {
     "slide_type": "slide"
    }
   },
   "source": [
    "# Lagrangian Dual Framework"
   ]
  },
  {
   "cell_type": "markdown",
   "metadata": {
    "slideshow": {
     "slide_type": "subslide"
    }
   },
   "source": [
    "## Penalty Method\n",
    "\n",
    "**We can think of increasing $\\lambda$ gradually**\n",
    "\n",
    "...Which leads to the classical _penalty method_\n",
    "\n",
    "* $\\lambda^{(0)} = 1$\n",
    "* $\\omega^{(0)} = \\arg\\min_{\\omega} \\left\\{ L(y) + \\lambda^{(0)T} \\max(0, g(y)) \\right\\} \\text{ with: } y = f(\\hat{x}; \\omega)$\n",
    "* For $k = 1..n$\n",
    "  - If $g(y) \\leq 0$, stop\n",
    "  - Otherwise $\\lambda^{(k)} = r\\lambda^{(k)}$, with $r \\in (1, \\infty)$\n",
    "  - $\\omega^{(k)} = \\arg\\min_{\\omega} \\left\\{ L(y) + \\lambda^{(k)T} \\max(0, g(y)) \\right\\} \\text{ with: } y = f(\\hat{x}; \\omega)$\n",
    "\n",
    "**This is a simple, but flexible approach for constrained (numeric) optimization**\n",
    "\n",
    "* It works even with non differentiable constraints\n",
    "* ...If your training engine can handle them, that is"
   ]
  },
  {
   "cell_type": "markdown",
   "metadata": {
    "slideshow": {
     "slide_type": "subslide"
    }
   },
   "source": [
    "## Drawbacks of the Penalty Method\n",
    "\n",
    "**The penalty method can be quite effective, but it has some _drawbacks_:**\n",
    "\n",
    "1. You need an optimal solver\n",
    "   * Without one, you only get approximate results (no guarantees)\n",
    "2. The $\\max$ (or square) is important\n",
    "   * Without that, penalties turn into rewards for satisfied constraints\n",
    "3. You may need arbitrarily large weights (and there is no way around this)\n",
    "\n",
    "<center><img src=\"assets/pm_fail.png\" width=\"550px\"/></center>"
   ]
  },
  {
   "cell_type": "markdown",
   "metadata": {
    "slideshow": {
     "slide_type": "subslide"
    }
   },
   "source": [
    "## Lagrangian Dual Approach\n",
    "\n",
    "**A nice compromise is provided by the [Lagrangian Dual approach](https://arxiv.org/pdf/2001.09394)**\n",
    "\n",
    "We start from the fact that solving:\n",
    "$$\n",
    "\\min_{\\omega} \\left\\{ L(y) + \\lambda^T \\max(0, g(y)) \\right\\} \\text{ with: } y = f(\\hat{x}; \\omega)\n",
    "$$\n",
    "...Always provides a _lower bound_ on the true constrained optimum\n",
    "\n",
    "* The reason is that on the original feasible space, all penalty terms are 0\n",
    "* ...And therefore the minimum cannot be worse than the original one\n",
    "\n",
    "**Therefore, it makes sense to pick $\\lambda$ so as to _maximize this bound_**\n",
    "\n",
    "$$\n",
    "\\text{argmax}_{\\lambda} \\min_{\\omega} \\left\\{ L(y) + \\lambda^T \\max(0, g(y)) \\right\\} \\text{ with: } y = f(\\hat{x}; \\omega)\n",
    "$$\n",
    "\n",
    "Solving this problem given the best possible lower bound"
   ]
  },
  {
   "cell_type": "markdown",
   "metadata": {
    "slideshow": {
     "slide_type": "subslide"
    }
   },
   "source": [
    "## Lagrangian Dual Approach\n",
    "\n",
    "**Now, let's look more carefully at our problem:**\n",
    "\n",
    "$$\\begin{align}\n",
    "& \\text{argmax}_{\\lambda} \\min_\\omega \\mathcal{L(\\lambda, \\omega)} \\\\\n",
    "\\text{where: } & \\mathcal{L(\\lambda, \\omega)} = L(y) + \\lambda^T \\max(0, g(y)) \\\\\n",
    "\\text{ with: } & y = f(\\hat{x}; \\omega)\n",
    "\\end{align}$$\n",
    "\n",
    "**This is a _bi-level optimization problem_**\n",
    "\n",
    "It can be proved that it is _concave in $\\lambda$_\n",
    "\n",
    "* Therefore, it can be solved via _sub-gradient_ descent\n",
    "* ...Even for non-differentiable $L$, $g$, and $f$\n",
    "\n",
    "**By doing so, we increase $\\lambda$ only _when and where_ it is needed**\n",
    "\n",
    "* It is a _strong mitigation_ for the issues of the penalty method \n"
   ]
  },
  {
   "cell_type": "markdown",
   "metadata": {
    "slideshow": {
     "slide_type": "subslide"
    }
   },
   "source": [
    "## Lagrangian Dual Approach\n",
    "\n",
    "**If additionally $\\mathcal{L}(\\lambda, \\omega)$ is differentiable in $\\omega$**\n",
    "\n",
    "...Then we can solve the problem via alternate _gradient descent/ascent_:\n",
    "\n",
    "* $\\lambda^{(0)} = 0$\n",
    "* $\\omega^{(0)} = \\arg \\min_\\theta \\mathcal{L}(\\lambda^{(0)}, \\omega)$\n",
    "* For $k = 1..n$ (or until convergence):\n",
    "  - Obtain $\\lambda^{(k)}$ via an ascent step with sub-gradient $\\nabla_{\\lambda} \\mathcal{L}(\\lambda, \\omega^{(k-1)})$\n",
    "  - Obtain $\\omega^{(k)}$ via a descent step with sub-gradient $\\nabla_{\\omega} \\mathcal{L}(\\lambda^{(k)}, \\omega)$\n",
    "\n",
    "**The approach is easy to implement in tensorflow/PyTorch**\n",
    "\n",
    "We just need to use two optimization steps\n",
    "\n",
    "* It works since small changes to $\\lambda$\n",
    "* ...Usually require small changes to $\\omega$\n",
    "* Hence, we can maintain the two vectors approximately optimal "
   ]
  },
  {
   "cell_type": "markdown",
   "metadata": {
    "slideshow": {
     "slide_type": "subslide"
    }
   },
   "source": [
    "## Implementing the Lagrangian Dual Approach\n",
    "\n",
    "**We will implement the Lagrangian dual approach via another custom model**\n",
    "\n",
    "```python\n",
    "class LagDualDIDIRegressor(MLPRegressor):\n",
    "    def __init__(self, base_pred, attributes, protected, thr):\n",
    "        super(LagDualDIDIRegressor, self).__init__()\n",
    "        self.alpha = tf.Variable(0., name='alpha')\n",
    "        ...\n",
    "\n",
    "    def __custom_loss(self, x, y_true, sign=1): ...\n",
    "\n",
    "    def train_step(self, data): ...\n",
    "        \n",
    "    def metrics(self): ...\n",
    "```\n",
    "\n",
    "* We no longer pass a fixed `alpha` weight/multiplier\n",
    "* Instead we use a _trainable variable_"
   ]
  },
  {
   "cell_type": "markdown",
   "metadata": {
    "slideshow": {
     "slide_type": "subslide"
    }
   },
   "source": [
    "## Implementing the Lagrangian Dual Approach\n",
    "\n",
    "**In the `__custom_loss` method we compute the Lagrangian/regularized loss**\n",
    "\n",
    "```python\n",
    "def __custom_loss(self, x, y_true, sign=1):\n",
    "    y_pred = self.base_pred(x, training=True) # obtain the predictions\n",
    "    mse = self.compiled_loss(y_true, y_pred) # main loss\n",
    "    ymean = tf.math.reduce_mean(y_pred) # average prediction\n",
    "    didi = 0 # DIDI computation\n",
    "    for aidx, dom in self.protected.items():\n",
    "        for val in dom:\n",
    "            mask = (x[:, aidx] == val)\n",
    "            didi += tf.math.abs(ymean - tf.math.reduce_mean(y_pred[mask]))\n",
    "    cst = tf.math.maximum(0.0, didi - self.thr) # regularizer\n",
    "    loss = mse + self.alpha * cst\n",
    "    return sign*loss, mse, cst\n",
    "```\n",
    "\n",
    "* The code is the same as before\n",
    "* ...Except that we can flip the loss sign via a function argument (i.e. `sign`)"
   ]
  },
  {
   "cell_type": "markdown",
   "metadata": {
    "slideshow": {
     "slide_type": "subslide"
    }
   },
   "source": [
    "## Implementing the Lagrangian Dual Approach\n",
    "\n",
    "**In the training method, we make _two distinct gradient steps:_**\n",
    "\n",
    "```python\n",
    "    def train_step(self, data):\n",
    "        x, y_true = data # unpacking\n",
    "        with tf.GradientTape() as tape: # first loss (minimization)\n",
    "            loss, mse, cst = self.__custom_loss(x, y_true, sign=1)\n",
    "        tr_vars = self.trainable_variables\n",
    "        wgt_vars = tr_vars[:-1] # network weights\n",
    "        mul_vars = tr_vars[-1:] # multiplier\n",
    "        grads = tape.gradient(loss, wgt_vars) # adjust the network weights\n",
    "        self.optimizer.apply_gradients(zip(grads, wgt_vars))\n",
    "        with tf.GradientTape() as tape: # second loss (maximization)\n",
    "            loss, mse, cst = self.__custom_loss(x, y_true, sign=-1)\n",
    "        grads = tape.gradient(loss, mul_vars) # adjust lambda\n",
    "        self.optimizer.apply_gradients(zip(grads, mul_vars))\n",
    "```\n",
    "\n",
    "* In principle, we could even have used two distinct optimizers\n",
    "* That would allow to keep (e.g.) separate momentum vectors"
   ]
  },
  {
   "cell_type": "markdown",
   "metadata": {
    "slideshow": {
     "slide_type": "subslide"
    }
   },
   "source": [
    "## Training the Lagrangian Dual Approach\n",
    "\n",
    "**The new approach leads less oscillations at training time**"
   ]
  },
  {
   "cell_type": "code",
   "execution_count": 12,
   "metadata": {},
   "outputs": [
    {
     "data": {
      "application/vnd.jupyter.widget-view+json": {
       "model_id": "7867f957a18e46d99a8e2bc8b8d75161",
       "version_major": 2,
       "version_minor": 0
      },
      "image/png": "[encoded data removed]",
      "text/html": [
       "\n",
       "            <div style=\"display: inline-block;\">\n",
       "                <div class=\"jupyter-widgets widget-label\" style=\"text-align: center;\">\n",
       "                    Figure\n",
       "                </div>\n",
       "                <img src='data:image/png;base64,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' width=900.0/>\n",
       "            </div>\n",
       "        "
      ],
      "text/plain": [
       "Canvas(toolbar=Toolbar(toolitems=[('Home', 'Reset original view', 'home', 'home'), ('Back', 'Back to previous …"
      ]
     },
     "metadata": {},
     "output_type": "display_data"
    },
    {
     "name": "stdout",
     "output_type": "stream",
     "text": [
      "Model loss: -0.0058 (training)\n"
     ]
    }
   ],
   "source": [
    "base_pred = util.build_ml_model(input_size=len(attributes), output_size=1, hidden=[])\n",
    "nn3 = util.LagDualDIDIModel(base_pred, attributes, protected, thr=didi_thr)\n",
    "history = util.train_ml_model(nn3, tr[attributes], tr[target], validation_split=0.,\n",
    "                              epochs=2000, batch_size=len(tr))\n",
    "util.plot_training_history(history, figsize=figsize)"
   ]
  },
  {
   "cell_type": "markdown",
   "metadata": {
    "slideshow": {
     "slide_type": "subslide"
    }
   },
   "source": [
    "## Lagrangian Dual Evaluation\n",
    "\n",
    "**Let's check the new results**"
   ]
  },
  {
   "cell_type": "code",
   "execution_count": 13,
   "metadata": {},
   "outputs": [
    {
     "name": "stdout",
     "output_type": "stream",
     "text": [
      "R2 score: 0.62 (training), 0.56 (test)\n",
      "DIDI: 0.13 (training), 0.14 (test)\n"
     ]
    }
   ],
   "source": [
    "tr_pred3 = nn3.predict(tr[attributes])\n",
    "r2_tr3 = r2_score(tr[target], tr_pred3)\n",
    "ts_pred3 = nn3.predict(ts[attributes])\n",
    "r2_ts3 = r2_score(ts[target], ts_pred3)\n",
    "tr_DIDI3 = util.DIDI_r(tr, tr_pred3, protected)\n",
    "ts_DIDI3 = util.DIDI_r(ts, ts_pred3, protected)\n",
    "\n",
    "\n",
    "print(f'R2 score: {r2_tr3:.2f} (training), {r2_ts3:.2f} (test)')\n",
    "print(f'DIDI: {tr_DIDI3:.2f} (training), {ts_DIDI3:.2f} (test)')"
   ]
  },
  {
   "cell_type": "markdown",
   "metadata": {},
   "source": [
    "* The DIDI has the desired value (on the test set, this is only roughly true)\n",
    "* ...And the prediction quality is _much higher than before_!"
   ]
  },
  {
   "cell_type": "markdown",
   "metadata": {
    "slideshow": {
     "slide_type": "subslide"
    }
   },
   "source": [
    "## Some References\n",
    "\n",
    "* Boyd, Stephen, Stephen P. Boyd, and Lieven Vandenberghe. Convex optimization. Cambridge university press, 2004.\n",
    "* Andrew Cotter, Heinrich Jiang, Maya R. Gupta, Serena Wang, Taman Narayan, Seungil You, Karthik Sridharan: Optimization with Non-Differentiable Constraints with Applications to Fairness, Recall, Churn, and Other Goals. J. Mach. Learn. Res. 20: 172:1-172:59 (2019)\n",
    "* Ferdinando Fioretto, Pascal Van Hentenryck, Terrence W. K. Mak, Cuong Tran, Federico Baldo, Michele Lombardi: Lagrangian Duality for Constrained Deep Learning. ECML/PKDD (5) 2020: 118-135\n",
    "* Berk, R.; Heidari, H.; Jabbari, S.; Joseph, M.; Kearns, M. J.; Morgenstern, J.; Neel, S.; and Roth, A. 2017. A Convex Framework for Fair Regression. CoRR abs/1706.02409. URL http://arxiv.org/abs/1706.02409"
   ]
  }
 ],
 "metadata": {
  "celltoolbar": "Slideshow",
  "kernelspec": {
   "display_name": "Python 3 (ipykernel)",
   "language": "python",
   "name": "python3"
  },
  "language_info": {
   "codemirror_mode": {
    "name": "ipython",
    "version": 3
   },
   "file_extension": ".py",
   "mimetype": "text/x-python",
   "name": "python",
   "nbconvert_exporter": "python",
   "pygments_lexer": "ipython3",
   "version": "3.8.10"
  },
  "rise": {
   "center": false,
   "transition": "fade"
  }
 },
 "nbformat": 4,
 "nbformat_minor": 4
}
