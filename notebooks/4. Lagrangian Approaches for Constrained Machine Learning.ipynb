{
 "cells": [
  {
   "cell_type": "code",
   "execution_count": 1,
   "metadata": {
    "slideshow": {
     "slide_type": "skip"
    }
   },
   "outputs": [],
   "source": [
    "# ============================================================\n",
    "# Notebook setup\n",
    "# ============================================================\n",
    "\n",
    "%load_ext autoreload\n",
    "%autoreload 2\n",
    "\n",
    "# Control figure size\n",
    "interactive_figures = True\n",
    "if interactive_figures:\n",
    "    # Normal behavior\n",
    "    %matplotlib widget\n",
    "    figsize=(9, 3)\n",
    "else:\n",
    "    # PDF export behavior\n",
    "    figsize=(14, 5)\n",
    "\n",
    "from util import util\n",
    "import numpy as np\n",
    "from sklearn.preprocessing import MinMaxScaler, StandardScaler\n",
    "import pandas as pd\n",
    "from sklearn.metrics import r2_score\n",
    "\n",
    "# Load data\n",
    "data_folder = '../data'"
   ]
  },
  {
   "cell_type": "markdown",
   "metadata": {
    "slideshow": {
     "slide_type": "slide"
    }
   },
   "source": [
    "# Lagrangian Approaches for Constrained ML"
   ]
  },
  {
   "cell_type": "markdown",
   "metadata": {
    "slideshow": {
     "slide_type": "subslide"
    }
   },
   "source": [
    "## Machine Learning and Hard Constraints\n",
    "\n",
    "**Sometimes, you want a ML model to respect _hard constraints_**\n",
    "\n",
    "This happens for example:\n",
    "\n",
    "* When there are physical laws that you know to be true\n",
    "* In case of safety concerns\n",
    "* When ethical aspects are involved\n",
    "\n",
    "**In principle, we could still use our $\\max$-based Lagrangian approach:**\n",
    "\n",
    "$$\n",
    "\\text{argmin}_{\\omega} \\left\\{ L(y) + \\lambda^T \\max(0, g(y)) \\right\\} \\text{ with: } y = f(\\hat{x}; \\omega)\n",
    "$$\n",
    "\n",
    "Where $g$ is the constrained quantity\n",
    "\n",
    "* Intuitively, for a large enough $\\lambda$...\n",
    "* ...It should be possible to reach _approximate_ satisfaction on the _training set_"
   ]
  },
  {
   "cell_type": "markdown",
   "metadata": {
    "slideshow": {
     "slide_type": "subslide"
    }
   },
   "source": [
    "## A Case Study: Fairness in ML Models\n",
    "\n",
    "**As a case study, say we want to estimate the risk of violent crimes**\n",
    "\n",
    "<center><img src=\"assets/minority-report.jpg\" width=800px/></center>\n",
    "\n",
    "* This is obviously a very _ethically sensitive (and questionable) task_\n",
    "* Our model may easily end up discriminating some social groups"
   ]
  },
  {
   "cell_type": "markdown",
   "metadata": {
    "slideshow": {
     "slide_type": "subslide"
    }
   },
   "source": [
    "## Loading and Preparing the Dataset\n",
    "\n",
    "**We will start by loading the [\"crime\" UCI dataset](https://archive.ics.uci.edu/ml/datasets/Communities+and+Crime)**\n",
    "\n",
    "We will use a pre-processed version:"
   ]
  },
  {
   "cell_type": "code",
   "execution_count": 2,
   "metadata": {
    "scrolled": false
   },
   "outputs": [
    {
     "data": {
      "text/html": [
       "<div>\n",
       "<style scoped>\n",
       "    .dataframe tbody tr th:only-of-type {\n",
       "        vertical-align: middle;\n",
       "    }\n",
       "\n",
       "    .dataframe tbody tr th {\n",
       "        vertical-align: top;\n",
       "    }\n",
       "\n",
       "    .dataframe thead th {\n",
       "        text-align: right;\n",
       "    }\n",
       "</style>\n",
       "<table border=\"1\" class=\"dataframe\">\n",
       "  <thead>\n",
       "    <tr style=\"text-align: right;\">\n",
       "      <th></th>\n",
       "      <th>communityname</th>\n",
       "      <th>state</th>\n",
       "      <th>fold</th>\n",
       "      <th>pop</th>\n",
       "      <th>race</th>\n",
       "      <th>pct12-21</th>\n",
       "      <th>pct12-29</th>\n",
       "      <th>pct16-24</th>\n",
       "      <th>pct65up</th>\n",
       "      <th>pctUrban</th>\n",
       "      <th>...</th>\n",
       "      <th>pctForeignBorn</th>\n",
       "      <th>pctBornStateResid</th>\n",
       "      <th>pctSameHouse-5</th>\n",
       "      <th>pctSameCounty-5</th>\n",
       "      <th>pctSameState-5</th>\n",
       "      <th>landArea</th>\n",
       "      <th>popDensity</th>\n",
       "      <th>pctUsePubTrans</th>\n",
       "      <th>pctOfficDrugUnit</th>\n",
       "      <th>violentPerPop</th>\n",
       "    </tr>\n",
       "  </thead>\n",
       "  <tbody>\n",
       "    <tr>\n",
       "      <th>1008</th>\n",
       "      <td>EastLampetertownship</td>\n",
       "      <td>PA</td>\n",
       "      <td>5</td>\n",
       "      <td>11999</td>\n",
       "      <td>0</td>\n",
       "      <td>0.1203</td>\n",
       "      <td>0.2544</td>\n",
       "      <td>0.1208</td>\n",
       "      <td>0.1302</td>\n",
       "      <td>0.5776</td>\n",
       "      <td>...</td>\n",
       "      <td>0.0288</td>\n",
       "      <td>0.8132</td>\n",
       "      <td>0.6033</td>\n",
       "      <td>0.8597</td>\n",
       "      <td>0.9219</td>\n",
       "      <td>20.7</td>\n",
       "      <td>580.7</td>\n",
       "      <td>0.0103</td>\n",
       "      <td>0.0000</td>\n",
       "      <td>147.49</td>\n",
       "    </tr>\n",
       "    <tr>\n",
       "      <th>1271</th>\n",
       "      <td>EastProvidencecity</td>\n",
       "      <td>RI</td>\n",
       "      <td>6</td>\n",
       "      <td>50380</td>\n",
       "      <td>0</td>\n",
       "      <td>0.1171</td>\n",
       "      <td>0.2459</td>\n",
       "      <td>0.1159</td>\n",
       "      <td>0.1660</td>\n",
       "      <td>1.0000</td>\n",
       "      <td>...</td>\n",
       "      <td>0.1474</td>\n",
       "      <td>0.6561</td>\n",
       "      <td>0.6557</td>\n",
       "      <td>0.8929</td>\n",
       "      <td>0.9252</td>\n",
       "      <td>13.9</td>\n",
       "      <td>3629.0</td>\n",
       "      <td>0.0357</td>\n",
       "      <td>0.0000</td>\n",
       "      <td>150.88</td>\n",
       "    </tr>\n",
       "    <tr>\n",
       "      <th>1936</th>\n",
       "      <td>Betheltown</td>\n",
       "      <td>CT</td>\n",
       "      <td>9</td>\n",
       "      <td>17541</td>\n",
       "      <td>0</td>\n",
       "      <td>0.1356</td>\n",
       "      <td>0.2507</td>\n",
       "      <td>0.1138</td>\n",
       "      <td>0.0804</td>\n",
       "      <td>0.8514</td>\n",
       "      <td>...</td>\n",
       "      <td>0.0853</td>\n",
       "      <td>0.4878</td>\n",
       "      <td>0.5953</td>\n",
       "      <td>0.8485</td>\n",
       "      <td>0.8689</td>\n",
       "      <td>17.4</td>\n",
       "      <td>1008.2</td>\n",
       "      <td>0.0252</td>\n",
       "      <td>0.0000</td>\n",
       "      <td>95.47</td>\n",
       "    </tr>\n",
       "    <tr>\n",
       "      <th>1601</th>\n",
       "      <td>Crowleycity</td>\n",
       "      <td>LA</td>\n",
       "      <td>8</td>\n",
       "      <td>13983</td>\n",
       "      <td>0</td>\n",
       "      <td>0.1506</td>\n",
       "      <td>0.2587</td>\n",
       "      <td>0.1234</td>\n",
       "      <td>0.1302</td>\n",
       "      <td>0.0000</td>\n",
       "      <td>...</td>\n",
       "      <td>0.0029</td>\n",
       "      <td>0.9314</td>\n",
       "      <td>0.5898</td>\n",
       "      <td>0.9219</td>\n",
       "      <td>0.9769</td>\n",
       "      <td>4.7</td>\n",
       "      <td>2957.5</td>\n",
       "      <td>0.0098</td>\n",
       "      <td>0.0000</td>\n",
       "      <td>1029.02</td>\n",
       "    </tr>\n",
       "    <tr>\n",
       "      <th>293</th>\n",
       "      <td>Pawtucketcity</td>\n",
       "      <td>RI</td>\n",
       "      <td>2</td>\n",
       "      <td>72644</td>\n",
       "      <td>0</td>\n",
       "      <td>0.1230</td>\n",
       "      <td>0.2725</td>\n",
       "      <td>0.1276</td>\n",
       "      <td>0.1464</td>\n",
       "      <td>1.0000</td>\n",
       "      <td>...</td>\n",
       "      <td>0.1771</td>\n",
       "      <td>0.6363</td>\n",
       "      <td>0.5807</td>\n",
       "      <td>0.8805</td>\n",
       "      <td>0.8906</td>\n",
       "      <td>9.1</td>\n",
       "      <td>8027.0</td>\n",
       "      <td>0.0318</td>\n",
       "      <td>0.1103</td>\n",
       "      <td>458.28</td>\n",
       "    </tr>\n",
       "  </tbody>\n",
       "</table>\n",
       "<p>5 rows × 101 columns</p>\n",
       "</div>"
      ],
      "text/plain": [
       "             communityname state  fold    pop  race  pct12-21  pct12-29  \\\n",
       "1008  EastLampetertownship    PA     5  11999     0    0.1203    0.2544   \n",
       "1271    EastProvidencecity    RI     6  50380     0    0.1171    0.2459   \n",
       "1936            Betheltown    CT     9  17541     0    0.1356    0.2507   \n",
       "1601           Crowleycity    LA     8  13983     0    0.1506    0.2587   \n",
       "293          Pawtucketcity    RI     2  72644     0    0.1230    0.2725   \n",
       "\n",
       "      pct16-24  pct65up  pctUrban  ...  pctForeignBorn  pctBornStateResid  \\\n",
       "1008    0.1208   0.1302    0.5776  ...          0.0288             0.8132   \n",
       "1271    0.1159   0.1660    1.0000  ...          0.1474             0.6561   \n",
       "1936    0.1138   0.0804    0.8514  ...          0.0853             0.4878   \n",
       "1601    0.1234   0.1302    0.0000  ...          0.0029             0.9314   \n",
       "293     0.1276   0.1464    1.0000  ...          0.1771             0.6363   \n",
       "\n",
       "      pctSameHouse-5  pctSameCounty-5  pctSameState-5  landArea  popDensity  \\\n",
       "1008          0.6033           0.8597          0.9219      20.7       580.7   \n",
       "1271          0.6557           0.8929          0.9252      13.9      3629.0   \n",
       "1936          0.5953           0.8485          0.8689      17.4      1008.2   \n",
       "1601          0.5898           0.9219          0.9769       4.7      2957.5   \n",
       "293           0.5807           0.8805          0.8906       9.1      8027.0   \n",
       "\n",
       "      pctUsePubTrans  pctOfficDrugUnit  violentPerPop  \n",
       "1008          0.0103            0.0000         147.49  \n",
       "1271          0.0357            0.0000         150.88  \n",
       "1936          0.0252            0.0000          95.47  \n",
       "1601          0.0098            0.0000        1029.02  \n",
       "293           0.0318            0.1103         458.28  \n",
       "\n",
       "[5 rows x 101 columns]"
      ]
     },
     "execution_count": 2,
     "metadata": {},
     "output_type": "execute_result"
    }
   ],
   "source": [
    "data = util.load_communities_data(data_folder)\n",
    "attributes = data.columns[3:-1]\n",
    "target = data.columns[-1]\n",
    "data.head()"
   ]
  },
  {
   "cell_type": "markdown",
   "metadata": {},
   "source": [
    "The target is \"violentPerPop\" (number of violent offenders per 100K people)"
   ]
  },
  {
   "cell_type": "markdown",
   "metadata": {
    "slideshow": {
     "slide_type": "subslide"
    }
   },
   "source": [
    "## Loading and Preparing the Dataset\n",
    "\n",
    "**We prepare for normalizing all numeric attributes**\n",
    "\n",
    "* The only categorical input is \"race\" (0 = primarily \"white\", 1 = primarily \"black\")\n",
    "* Incidentally, \"race\" is _a natural focus to check for discrimination_\n",
    "\n",
    "**We define the train-test divide and we identify the numerical inputs**"
   ]
  },
  {
   "cell_type": "code",
   "execution_count": 3,
   "metadata": {},
   "outputs": [],
   "source": [
    "tr_frac = 0.8 # 80% data for training\n",
    "tr_sep = int(len(data) * tr_frac)\n",
    "nf = [a for a in attributes if a != 'race'] + [target]"
   ]
  },
  {
   "cell_type": "markdown",
   "metadata": {},
   "source": [
    "We normalize the data and convert to float32 (to make TensorFlow happier)"
   ]
  },
  {
   "cell_type": "code",
   "execution_count": 4,
   "metadata": {},
   "outputs": [],
   "source": [
    "tmp = data.iloc[:tr_sep]\n",
    "scale = tmp[nf].max()\n",
    "sdata = data.copy()\n",
    "sdata[nf] /= scale[nf]\n",
    "\n",
    "sdata[attributes] = sdata[attributes].astype(np.float32)\n",
    "sdata[target] = sdata[target].astype(np.float32)"
   ]
  },
  {
   "cell_type": "markdown",
   "metadata": {
    "slideshow": {
     "slide_type": "subslide"
    }
   },
   "source": [
    "## Loading and Preparing the Dataset\n",
    "\n",
    "**Finally we can separate the training and test set**"
   ]
  },
  {
   "cell_type": "code",
   "execution_count": 5,
   "metadata": {},
   "outputs": [
    {
     "data": {
      "text/html": [
       "<div>\n",
       "<style scoped>\n",
       "    .dataframe tbody tr th:only-of-type {\n",
       "        vertical-align: middle;\n",
       "    }\n",
       "\n",
       "    .dataframe tbody tr th {\n",
       "        vertical-align: top;\n",
       "    }\n",
       "\n",
       "    .dataframe thead th {\n",
       "        text-align: right;\n",
       "    }\n",
       "</style>\n",
       "<table border=\"1\" class=\"dataframe\">\n",
       "  <thead>\n",
       "    <tr style=\"text-align: right;\">\n",
       "      <th></th>\n",
       "      <th>fold</th>\n",
       "      <th>pop</th>\n",
       "      <th>race</th>\n",
       "      <th>pct12-21</th>\n",
       "      <th>pct12-29</th>\n",
       "      <th>pct16-24</th>\n",
       "      <th>pct65up</th>\n",
       "      <th>pctUrban</th>\n",
       "      <th>medIncome</th>\n",
       "      <th>pctWwage</th>\n",
       "      <th>...</th>\n",
       "      <th>pctForeignBorn</th>\n",
       "      <th>pctBornStateResid</th>\n",
       "      <th>pctSameHouse-5</th>\n",
       "      <th>pctSameCounty-5</th>\n",
       "      <th>pctSameState-5</th>\n",
       "      <th>landArea</th>\n",
       "      <th>popDensity</th>\n",
       "      <th>pctUsePubTrans</th>\n",
       "      <th>pctOfficDrugUnit</th>\n",
       "      <th>violentPerPop</th>\n",
       "    </tr>\n",
       "  </thead>\n",
       "  <tbody>\n",
       "    <tr>\n",
       "      <th>count</th>\n",
       "      <td>1594.000000</td>\n",
       "      <td>1594.000000</td>\n",
       "      <td>1594.000000</td>\n",
       "      <td>1594.000000</td>\n",
       "      <td>1594.000000</td>\n",
       "      <td>1594.000000</td>\n",
       "      <td>1594.000000</td>\n",
       "      <td>1594.000000</td>\n",
       "      <td>1594.000000</td>\n",
       "      <td>1594.000000</td>\n",
       "      <td>...</td>\n",
       "      <td>1594.000000</td>\n",
       "      <td>1594.000000</td>\n",
       "      <td>1594.000000</td>\n",
       "      <td>1594.000000</td>\n",
       "      <td>1594.000000</td>\n",
       "      <td>1594.000000</td>\n",
       "      <td>1594.000000</td>\n",
       "      <td>1594.000000</td>\n",
       "      <td>1594.000000</td>\n",
       "      <td>1594.000000</td>\n",
       "    </tr>\n",
       "    <tr>\n",
       "      <th>mean</th>\n",
       "      <td>5.515056</td>\n",
       "      <td>0.007309</td>\n",
       "      <td>0.031995</td>\n",
       "      <td>0.266962</td>\n",
       "      <td>0.398600</td>\n",
       "      <td>0.230577</td>\n",
       "      <td>0.226739</td>\n",
       "      <td>0.695383</td>\n",
       "      <td>0.272795</td>\n",
       "      <td>0.808877</td>\n",
       "      <td>...</td>\n",
       "      <td>0.126063</td>\n",
       "      <td>0.649191</td>\n",
       "      <td>0.651699</td>\n",
       "      <td>0.796561</td>\n",
       "      <td>0.886649</td>\n",
       "      <td>0.009499</td>\n",
       "      <td>0.062829</td>\n",
       "      <td>0.057092</td>\n",
       "      <td>0.021317</td>\n",
       "      <td>0.118508</td>\n",
       "    </tr>\n",
       "    <tr>\n",
       "      <th>std</th>\n",
       "      <td>2.912637</td>\n",
       "      <td>0.030287</td>\n",
       "      <td>0.176042</td>\n",
       "      <td>0.084005</td>\n",
       "      <td>0.090329</td>\n",
       "      <td>0.098553</td>\n",
       "      <td>0.091256</td>\n",
       "      <td>0.445105</td>\n",
       "      <td>0.108972</td>\n",
       "      <td>0.081297</td>\n",
       "      <td>...</td>\n",
       "      <td>0.144243</td>\n",
       "      <td>0.183083</td>\n",
       "      <td>0.135358</td>\n",
       "      <td>0.112796</td>\n",
       "      <td>0.077034</td>\n",
       "      <td>0.028955</td>\n",
       "      <td>0.065060</td>\n",
       "      <td>0.092881</td>\n",
       "      <td>0.061344</td>\n",
       "      <td>0.123444</td>\n",
       "    </tr>\n",
       "    <tr>\n",
       "      <th>min</th>\n",
       "      <td>1.000000</td>\n",
       "      <td>0.001368</td>\n",
       "      <td>0.000000</td>\n",
       "      <td>0.084191</td>\n",
       "      <td>0.134635</td>\n",
       "      <td>0.075644</td>\n",
       "      <td>0.031457</td>\n",
       "      <td>0.000000</td>\n",
       "      <td>0.104413</td>\n",
       "      <td>0.327882</td>\n",
       "      <td>...</td>\n",
       "      <td>0.003182</td>\n",
       "      <td>0.072472</td>\n",
       "      <td>0.150586</td>\n",
       "      <td>0.289367</td>\n",
       "      <td>0.332187</td>\n",
       "      <td>0.000335</td>\n",
       "      <td>0.000226</td>\n",
       "      <td>0.000000</td>\n",
       "      <td>0.000000</td>\n",
       "      <td>0.001097</td>\n",
       "    </tr>\n",
       "    <tr>\n",
       "      <th>25%</th>\n",
       "      <td>3.000000</td>\n",
       "      <td>0.001943</td>\n",
       "      <td>0.000000</td>\n",
       "      <td>0.225230</td>\n",
       "      <td>0.350689</td>\n",
       "      <td>0.185238</td>\n",
       "      <td>0.167614</td>\n",
       "      <td>0.000000</td>\n",
       "      <td>0.190973</td>\n",
       "      <td>0.759677</td>\n",
       "      <td>...</td>\n",
       "      <td>0.035541</td>\n",
       "      <td>0.525016</td>\n",
       "      <td>0.566446</td>\n",
       "      <td>0.743167</td>\n",
       "      <td>0.854675</td>\n",
       "      <td>0.002754</td>\n",
       "      <td>0.026280</td>\n",
       "      <td>0.006672</td>\n",
       "      <td>0.000000</td>\n",
       "      <td>0.032800</td>\n",
       "    </tr>\n",
       "    <tr>\n",
       "      <th>50%</th>\n",
       "      <td>5.000000</td>\n",
       "      <td>0.003035</td>\n",
       "      <td>0.000000</td>\n",
       "      <td>0.250919</td>\n",
       "      <td>0.385173</td>\n",
       "      <td>0.205575</td>\n",
       "      <td>0.223138</td>\n",
       "      <td>1.000000</td>\n",
       "      <td>0.249509</td>\n",
       "      <td>0.813755</td>\n",
       "      <td>...</td>\n",
       "      <td>0.075352</td>\n",
       "      <td>0.669369</td>\n",
       "      <td>0.658096</td>\n",
       "      <td>0.819391</td>\n",
       "      <td>0.905697</td>\n",
       "      <td>0.005099</td>\n",
       "      <td>0.045234</td>\n",
       "      <td>0.022823</td>\n",
       "      <td>0.000000</td>\n",
       "      <td>0.076430</td>\n",
       "    </tr>\n",
       "    <tr>\n",
       "      <th>75%</th>\n",
       "      <td>8.000000</td>\n",
       "      <td>0.005922</td>\n",
       "      <td>0.000000</td>\n",
       "      <td>0.283824</td>\n",
       "      <td>0.419908</td>\n",
       "      <td>0.235735</td>\n",
       "      <td>0.275298</td>\n",
       "      <td>1.000000</td>\n",
       "      <td>0.334641</td>\n",
       "      <td>0.866125</td>\n",
       "      <td>...</td>\n",
       "      <td>0.155517</td>\n",
       "      <td>0.798529</td>\n",
       "      <td>0.744017</td>\n",
       "      <td>0.875764</td>\n",
       "      <td>0.938556</td>\n",
       "      <td>0.009667</td>\n",
       "      <td>0.074085</td>\n",
       "      <td>0.064651</td>\n",
       "      <td>0.000000</td>\n",
       "      <td>0.159716</td>\n",
       "    </tr>\n",
       "    <tr>\n",
       "      <th>max</th>\n",
       "      <td>10.000000</td>\n",
       "      <td>1.000000</td>\n",
       "      <td>1.000000</td>\n",
       "      <td>1.000000</td>\n",
       "      <td>1.000000</td>\n",
       "      <td>1.000000</td>\n",
       "      <td>1.000000</td>\n",
       "      <td>1.000000</td>\n",
       "      <td>1.000000</td>\n",
       "      <td>1.000000</td>\n",
       "      <td>...</td>\n",
       "      <td>1.000000</td>\n",
       "      <td>1.000000</td>\n",
       "      <td>1.000000</td>\n",
       "      <td>1.000000</td>\n",
       "      <td>1.000000</td>\n",
       "      <td>1.000000</td>\n",
       "      <td>1.000000</td>\n",
       "      <td>1.000000</td>\n",
       "      <td>1.000000</td>\n",
       "      <td>1.000000</td>\n",
       "    </tr>\n",
       "  </tbody>\n",
       "</table>\n",
       "<p>8 rows × 99 columns</p>\n",
       "</div>"
      ],
      "text/plain": [
       "              fold          pop         race     pct12-21     pct12-29  \\\n",
       "count  1594.000000  1594.000000  1594.000000  1594.000000  1594.000000   \n",
       "mean      5.515056     0.007309     0.031995     0.266962     0.398600   \n",
       "std       2.912637     0.030287     0.176042     0.084005     0.090329   \n",
       "min       1.000000     0.001368     0.000000     0.084191     0.134635   \n",
       "25%       3.000000     0.001943     0.000000     0.225230     0.350689   \n",
       "50%       5.000000     0.003035     0.000000     0.250919     0.385173   \n",
       "75%       8.000000     0.005922     0.000000     0.283824     0.419908   \n",
       "max      10.000000     1.000000     1.000000     1.000000     1.000000   \n",
       "\n",
       "          pct16-24      pct65up     pctUrban    medIncome     pctWwage  ...  \\\n",
       "count  1594.000000  1594.000000  1594.000000  1594.000000  1594.000000  ...   \n",
       "mean      0.230577     0.226739     0.695383     0.272795     0.808877  ...   \n",
       "std       0.098553     0.091256     0.445105     0.108972     0.081297  ...   \n",
       "min       0.075644     0.031457     0.000000     0.104413     0.327882  ...   \n",
       "25%       0.185238     0.167614     0.000000     0.190973     0.759677  ...   \n",
       "50%       0.205575     0.223138     1.000000     0.249509     0.813755  ...   \n",
       "75%       0.235735     0.275298     1.000000     0.334641     0.866125  ...   \n",
       "max       1.000000     1.000000     1.000000     1.000000     1.000000  ...   \n",
       "\n",
       "       pctForeignBorn  pctBornStateResid  pctSameHouse-5  pctSameCounty-5  \\\n",
       "count     1594.000000        1594.000000     1594.000000      1594.000000   \n",
       "mean         0.126063           0.649191        0.651699         0.796561   \n",
       "std          0.144243           0.183083        0.135358         0.112796   \n",
       "min          0.003182           0.072472        0.150586         0.289367   \n",
       "25%          0.035541           0.525016        0.566446         0.743167   \n",
       "50%          0.075352           0.669369        0.658096         0.819391   \n",
       "75%          0.155517           0.798529        0.744017         0.875764   \n",
       "max          1.000000           1.000000        1.000000         1.000000   \n",
       "\n",
       "       pctSameState-5     landArea   popDensity  pctUsePubTrans  \\\n",
       "count     1594.000000  1594.000000  1594.000000     1594.000000   \n",
       "mean         0.886649     0.009499     0.062829        0.057092   \n",
       "std          0.077034     0.028955     0.065060        0.092881   \n",
       "min          0.332187     0.000335     0.000226        0.000000   \n",
       "25%          0.854675     0.002754     0.026280        0.006672   \n",
       "50%          0.905697     0.005099     0.045234        0.022823   \n",
       "75%          0.938556     0.009667     0.074085        0.064651   \n",
       "max          1.000000     1.000000     1.000000        1.000000   \n",
       "\n",
       "       pctOfficDrugUnit  violentPerPop  \n",
       "count       1594.000000    1594.000000  \n",
       "mean           0.021317       0.118508  \n",
       "std            0.061344       0.123444  \n",
       "min            0.000000       0.001097  \n",
       "25%            0.000000       0.032800  \n",
       "50%            0.000000       0.076430  \n",
       "75%            0.000000       0.159716  \n",
       "max            1.000000       1.000000  \n",
       "\n",
       "[8 rows x 99 columns]"
      ]
     },
     "execution_count": 5,
     "metadata": {},
     "output_type": "execute_result"
    }
   ],
   "source": [
    "tr = sdata.iloc[:tr_sep]\n",
    "ts = sdata.iloc[tr_sep:]\n",
    "tr.describe()"
   ]
  },
  {
   "cell_type": "markdown",
   "metadata": {
    "slideshow": {
     "slide_type": "subslide"
    }
   },
   "source": [
    "## Baseline\n",
    "\n",
    "**Let's establish a baseline by tackling the task via Linear Regression**"
   ]
  },
  {
   "cell_type": "code",
   "execution_count": 6,
   "metadata": {},
   "outputs": [
    {
     "name": "stderr",
     "output_type": "stream",
     "text": [
      "2022-07-02 06:48:54.621897: I tensorflow/core/platform/cpu_feature_guard.cc:151] This TensorFlow binary is optimized with oneAPI Deep Neural Network Library (oneDNN) to use the following CPU instructions in performance-critical operations:  AVX2 FMA\n",
      "To enable them in other operations, rebuild TensorFlow with the appropriate compiler flags.\n"
     ]
    },
    {
     "data": {
      "application/vnd.jupyter.widget-view+json": {
       "model_id": "85ea6f3f769641b58d9510c39c09e6de",
       "version_major": 2,
       "version_minor": 0
      },
      "image/png": "[encoded data removed]",
      "text/html": [
       "\n",
       "            <div style=\"display: inline-block;\">\n",
       "                <div class=\"jupyter-widgets widget-label\" style=\"text-align: center;\">\n",
       "                    Figure\n",
       "                </div>\n",
       "                <img src='data:image/png;base64,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' width=900.0/>\n",
       "            </div>\n",
       "        "
      ],
      "text/plain": [
       "Canvas(toolbar=Toolbar(toolitems=[('Home', 'Reset original view', 'home', 'home'), ('Back', 'Back to previous …"
      ]
     },
     "metadata": {},
     "output_type": "display_data"
    },
    {
     "name": "stdout",
     "output_type": "stream",
     "text": [
      "Model loss: 0.0053 (training)\n"
     ]
    }
   ],
   "source": [
    "nn = util.build_ml_model(input_size=len(attributes), output_size=1, hidden=[])\n",
    "history = util.train_ml_model(nn, tr[attributes], tr[target], validation_split=0.,\n",
    "                              epochs=200)\n",
    "util.plot_training_history(history, figsize=figsize)"
   ]
  },
  {
   "cell_type": "markdown",
   "metadata": {
    "slideshow": {
     "slide_type": "subslide"
    }
   },
   "source": [
    "## Baseline Evaluation\n",
    "\n",
    "**...And let's check the results**"
   ]
  },
  {
   "cell_type": "code",
   "execution_count": 7,
   "metadata": {},
   "outputs": [
    {
     "name": "stdout",
     "output_type": "stream",
     "text": [
      "R2 score: 0.66 (training), 0.60 (test)\n"
     ]
    }
   ],
   "source": [
    "tr_pred = nn.predict(tr[attributes])\n",
    "r2_tr = r2_score(tr[target], tr_pred)\n",
    "\n",
    "ts_pred = nn.predict(ts[attributes])\n",
    "r2_ts = r2_score(ts[target], ts_pred)\n",
    "\n",
    "print(f'R2 score: {r2_tr:.2f} (training), {r2_ts:.2f} (test)')"
   ]
  },
  {
   "cell_type": "markdown",
   "metadata": {},
   "source": [
    "* They are not super (definitely not [PreCrime](https://en.wikipedia.org/wiki/The_Minority_Report) level), but not alwful either\n",
    "* Some improvements (not much) can be obtained with a Deeper model\n",
    "\n",
    "**We will keep Linear Regression as a baseline**"
   ]
  },
  {
   "cell_type": "markdown",
   "metadata": {
    "slideshow": {
     "slide_type": "subslide"
    }
   },
   "source": [
    "## Discrimination Indexes\n",
    "\n",
    "**Discrimination can be linked to _disparate treatment_**\n",
    "\n",
    "* \"race\" _may not be even among the input attributes_\n",
    "* ...And yet it may be taken into account implicitly (i.e. via correlates)\n",
    "\n",
    "**But we can check whether the model _treats differently different groups_:**\n"
   ]
  },
  {
   "cell_type": "code",
   "execution_count": 8,
   "metadata": {},
   "outputs": [
    {
     "data": {
      "application/vnd.jupyter.widget-view+json": {
       "model_id": "3a977e69e095476d9a8b32cc495ddd1f",
       "version_major": 2,
       "version_minor": 0
      },
      "image/png": "[encoded data removed]",
      "text/html": [
       "\n",
       "            <div style=\"display: inline-block;\">\n",
       "                <div class=\"jupyter-widgets widget-label\" style=\"text-align: center;\">\n",
       "                    Figure\n",
       "                </div>\n",
       "                <img src='data:image/png;base64,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' width=900.0/>\n",
       "            </div>\n",
       "        "
      ],
      "text/plain": [
       "Canvas(toolbar=Toolbar(toolitems=[('Home', 'Reset original view', 'home', 'home'), ('Back', 'Back to previous …"
      ]
     },
     "metadata": {},
     "output_type": "display_data"
    }
   ],
   "source": [
    "protected = {'race': (0, 1)}\n",
    "util.plot_pred_by_protected(tr, tr_pred, protected, figsize=(figsize[0], 0.6*figsize[1]))"
   ]
  },
  {
   "cell_type": "markdown",
   "metadata": {},
   "source": [
    "Indeed, our model has a significant degree of discrimination"
   ]
  },
  {
   "cell_type": "markdown",
   "metadata": {
    "slideshow": {
     "slide_type": "subslide"
    }
   },
   "source": [
    "## Discrimination Indexes\n",
    "\n",
    "**A number of _discrimination indexes_ attempt to measure discrimination**\n",
    "\n",
    "* Whether ethics itself can be measured is _highly debatable_!\n",
    "* ...But even if imperfect, this currently the best we can do\n",
    "\n",
    "**We will use the [Disparate Impact Discrimination Index](https://www.aaai.org/ojs/index.php/AAAI/article/download/3943/3821)**\n",
    "\n",
    "* Given a set of categorical _protected attribute (indexes) $J_p$_\n",
    "* ...The regression for of the regression form of the index ($\\text{DIDI}_r$) is given by:\n",
    "\n",
    "$$\n",
    "\\sum_{j \\in J_p} \\sum_{v \\in D_{j}} \\left|\\frac{1}{m} \\sum_{i=1}^m y_i - \\frac{1}{|I_{j,v}|} \\sum_{i \\in I_{j,v}} y_{i}\\right|\n",
    "$$\n",
    "\n",
    "* Where $D_j$ is the domain of attribute $j$\n",
    "* ...And $I_{j,v}$ is the set of example such that attribute $j$ has value $v$\n",
    "\n",
    "\n"
   ]
  },
  {
   "cell_type": "markdown",
   "metadata": {
    "slideshow": {
     "slide_type": "subslide"
    }
   },
   "source": [
    "## DIDI\n",
    "\n",
    "**Let's make some intuitive sense of the $\\text{DIDI}_r$ formula**\n",
    "\n",
    "$$\n",
    "\\sum_{j \\in J_p} \\sum_{v \\in D_{j}} \\left|\\frac{1}{m} \\sum_{i=1}^m y_i - \\frac{1}{|I_{j,v}|} \\sum_{i \\in I_{j,v}} y_{i}\\right|\n",
    "$$\n",
    "\n",
    "* $\\frac{1}{m} \\sum_{i=1}^m y_i$ is just the average predicted value\n",
    "* The protected attribute defines social groups\n",
    "* $\\frac{1}{|I_{j,v}|} \\sum_{i \\in I_{j,v}} y_{i}$ is the average prediction for a social group\n",
    "\n",
    "**We penalize _deviations from the global average_**\n",
    "\n",
    "* Obviously this is not necessarily the best definition, but it is something\n",
    "* In general, different tasks will call for different discrimination indexes\n",
    "\n",
    "...And don't forget the whole \"can we actually measure ethics\" issue ;-)"
   ]
  },
  {
   "cell_type": "markdown",
   "metadata": {
    "slideshow": {
     "slide_type": "subslide"
    }
   },
   "source": [
    "## DIDI\n",
    "\n",
    "**We can compute the DIDI via the following function**\n",
    "\n",
    "```python\n",
    "def DIDI_r(data, pred, protected):\n",
    "    res, avg = 0, np.mean(pred)\n",
    "    for aname, dom in protected.items():\n",
    "        for val in dom:\n",
    "            mask = (data[aname] == val)\n",
    "            res += abs(avg - np.mean(pred[mask]))\n",
    "    return res\n",
    "```\n",
    "\n",
    "* `protected` contains the protected attribute names with their domain\n",
    "\n",
    "**For our original Linear Regression model, we get**"
   ]
  },
  {
   "cell_type": "code",
   "execution_count": 9,
   "metadata": {},
   "outputs": [
    {
     "name": "stdout",
     "output_type": "stream",
     "text": [
      "DIDI: 0.26 (training), 0.28 (test)\n"
     ]
    }
   ],
   "source": [
    "tr_DIDI = util.DIDI_r(tr, tr_pred, protected)\n",
    "ts_DIDI = util.DIDI_r(ts, ts_pred, protected)\n",
    "print(f'DIDI: {tr_DIDI:.2f} (training), {ts_DIDI:.2f} (test)')"
   ]
  },
  {
   "cell_type": "markdown",
   "metadata": {
    "slideshow": {
     "slide_type": "subslide"
    }
   },
   "source": [
    "## Fairness Constraints\n",
    "\n",
    "**Discrimination indexes can be used to state fairness constraints**\n",
    "\n",
    "For example, we may require:\n",
    "$$\n",
    "\\text{DIDI}_r(y) \\leq \\theta\n",
    "$$\n",
    "\n",
    "**If the chosen index is _differentiable_...**\n",
    "\n",
    "...Then we may try to inject the constraint in a NN via a _semantic regularizer_\n",
    "\n",
    "* For example, we may use a loss function in the form:\n",
    "$$\n",
    "L(y, \\hat{y}) + \\lambda \\max(0, \\text{DIDI}_r(y) - \\theta)\n",
    "$$\n",
    "\n",
    "For non-differentiable indexes (e.g. those found in classification), we can:\n",
    "\n",
    "* Use a differentiable approximation (with some care!)\n",
    "* Use an approach that does not require differentiability, e.g. [this](https://arxiv.org/abs/2002.10766) or [that](https://link.springer.com/content/pdf/10.1007/s10115-011-0463-8.pdf)\n",
    "\n"
   ]
  },
  {
   "cell_type": "markdown",
   "metadata": {
    "slideshow": {
     "slide_type": "subslide"
    }
   },
   "source": [
    "## Fairness as a Semantic Regularizer\n",
    "\n",
    "**We can once again use a custom Keras model**\n",
    "\n",
    "```python\n",
    "class CstDIDIRegressor(keras.Model):\n",
    "    def __init__(self, base_pred, attributes, protected, alpha, thr): ...\n",
    "\n",
    "    def train_step(self, data): ...\n",
    "\n",
    "    @property\n",
    "    def metrics(self): ...\n",
    "```\n",
    "\n",
    "The full code can be found in the support module\n",
    "\n",
    "* We subclass `keras.Model` and we provide a custom training step\n",
    "* `alpha` is the regularizer weight\n",
    "* `thr` is the DIDI threshold\n",
    "\n",
    "In this case, we do not need a custom batch generator"
   ]
  },
  {
   "cell_type": "markdown",
   "metadata": {
    "slideshow": {
     "slide_type": "subslide"
    }
   },
   "source": [
    "## Fairness as a Semantic Regularizer\n",
    "\n",
    "**The main logic is in the first half of the `train_step` method:**\n",
    "\n",
    "```python\n",
    "def train_step(self, data):\n",
    "    x, y_true = data # unpacking the mini-batch\n",
    "    with tf.GradientTape() as tape:\n",
    "        y_pred = self.based_pred(x, training=True) # obtain predictions\n",
    "        mse = self.compiled_loss(y_true, y_pred) # base loss (kept external)\n",
    "        ymean = k.mean(y_pred) # avg prediction\n",
    "        didi = 0 # DIDI computation\n",
    "        for aidx, dom in self.protected.items():\n",
    "            for val in dom:\n",
    "                mask = (x[:, aidx] == val)\n",
    "                didi += k.abs(ymean - k.mean(y_pred[mask]))\n",
    "        cst = k.maximum(0.0, didi - self.thr) # Regularizer\n",
    "        loss = mse + self.alpha * cst\n",
    "```\n",
    "\n",
    "* The main loss is defined when calling `compile`"
   ]
  },
  {
   "cell_type": "markdown",
   "metadata": {
    "slideshow": {
     "slide_type": "subslide"
    }
   },
   "source": [
    "## Training the Constrained Model\n",
    "\n",
    "**Let's try and train the model, trying to _roughly halve_ the DIDI**\n",
    "\n",
    "* Important: it will be a good idea to need to keep all examples in every batch\n",
    "* Mini-batches can be used, but make constraint satisfaction (more) stochastic"
   ]
  },
  {
   "cell_type": "code",
   "execution_count": 10,
   "metadata": {},
   "outputs": [
    {
     "data": {
      "application/vnd.jupyter.widget-view+json": {
       "model_id": "47678fcbd4874a9fba960794f0cb61e0",
       "version_major": 2,
       "version_minor": 0
      },
      "image/png": "[encoded data removed]",
      "text/html": [
       "\n",
       "            <div style=\"display: inline-block;\">\n",
       "                <div class=\"jupyter-widgets widget-label\" style=\"text-align: center;\">\n",
       "                    Figure\n",
       "                </div>\n",
       "                <img src='data:image/png;base64,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' width=900.0/>\n",
       "            </div>\n",
       "        "
      ],
      "text/plain": [
       "Canvas(toolbar=Toolbar(toolitems=[('Home', 'Reset original view', 'home', 'home'), ('Back', 'Back to previous …"
      ]
     },
     "metadata": {},
     "output_type": "display_data"
    },
    {
     "name": "stdout",
     "output_type": "stream",
     "text": [
      "Model loss: 0.0094 (training)\n"
     ]
    }
   ],
   "source": [
    "didi_thr = 0.13\n",
    "base_pred = util.build_ml_model(input_size=len(attributes), output_size=1, hidden=[])\n",
    "nn2 = util.CstDIDIModel(base_pred, attributes, protected, alpha=5, thr=didi_thr)\n",
    "history = util.train_ml_model(nn2, tr[attributes], tr[target], validation_split=0., epochs=2000, batch_size=len(tr))\n",
    "util.plot_training_history(history, figsize=figsize)"
   ]
  },
  {
   "cell_type": "markdown",
   "metadata": {
    "slideshow": {
     "slide_type": "subslide"
    }
   },
   "source": [
    "## Constrained Model Evaluation\n",
    "\n",
    "**Let's check both the prediction quality and the DIDI**"
   ]
  },
  {
   "cell_type": "code",
   "execution_count": 11,
   "metadata": {},
   "outputs": [
    {
     "name": "stdout",
     "output_type": "stream",
     "text": [
      "R2 score: 0.38 (training), 0.25 (test)\n",
      "DIDI: 0.12 (training), 0.11 (test)\n"
     ]
    }
   ],
   "source": [
    "tr_pred2 = nn2.predict(tr[attributes])\n",
    "r2_tr2 = r2_score(tr[target], tr_pred2)\n",
    "ts_pred2 = nn2.predict(ts[attributes])\n",
    "r2_ts2 = r2_score(ts[target], ts_pred2)\n",
    "tr_DIDI2 = util.DIDI_r(tr, tr_pred2, protected)\n",
    "ts_DIDI2 = util.DIDI_r(ts, ts_pred2, protected)\n",
    "\n",
    "print(f'R2 score: {r2_tr2:.2f} (training), {r2_ts2:.2f} (test)')\n",
    "print(f'DIDI: {tr_DIDI2:.2f} (training), {ts_DIDI2:.2f} (test)')"
   ]
  },
  {
   "cell_type": "markdown",
   "metadata": {},
   "source": [
    "The constraint is satisfied _with some slack_, leading to reduced performance\n",
    "\n",
    "* A large $\\lambda$ (what we have here) slows down training \n",
    "* ...But a small $\\lambda$ may lead to significant constraint violation"
   ]
  },
  {
   "cell_type": "markdown",
   "metadata": {
    "slideshow": {
     "slide_type": "slide"
    }
   },
   "source": [
    "# Lagrangian Dual Framework"
   ]
  },
  {
   "cell_type": "markdown",
   "metadata": {
    "slideshow": {
     "slide_type": "subslide"
    }
   },
   "source": [
    "## Penalty Method\n",
    "\n",
    "**We can think of increasing $\\lambda$ gradually**\n",
    "\n",
    "...Which leads to the classical _penalty method_\n",
    "\n",
    "* $\\lambda^{(0)} = 1$\n",
    "* $\\omega^{(0)} = \\arg\\min_{\\omega} \\left\\{ L(y) + \\lambda^{(0)T} \\max(0, g(y)) \\right\\} \\text{ with: } y = f(\\hat{x}; \\omega)$\n",
    "* For $k = 1..n$\n",
    "  - If $g(y) \\leq 0$, stop\n",
    "  - Otherwise $\\lambda^{(k)} = r\\lambda^{(k)}$, with $r \\in (1, \\infty)$\n",
    "  - $\\omega^{(k)} = \\arg\\min_{\\omega} \\left\\{ L(y) + \\lambda^{(k)T} \\max(0, g(y)) \\right\\} \\text{ with: } y = f(\\hat{x}; \\omega)$\n",
    "\n",
    "**This is a simple, but flexible approach for constrained (numeric) optimization**\n",
    "\n",
    "* It works even with non differentiable constraints\n",
    "* ...If your training engine can handle them, that is"
   ]
  },
  {
   "cell_type": "markdown",
   "metadata": {
    "slideshow": {
     "slide_type": "subslide"
    }
   },
   "source": [
    "## Drawbacks of the Penalty Method\n",
    "\n",
    "**The penalty method can be quite effective, but it has some _drawbacks_:**\n",
    "\n",
    "1. You need an optimal solver\n",
    "   * Without one, you only get approximate results (no guarantees)\n",
    "2. The $\\max$ (or square) is important\n",
    "   * Without that, penalties turn into rewards for satisfied constraints\n",
    "3. You may need arbitrarily large weights (and there is no way around this)\n",
    "\n",
    "<center><img src=\"assets/pm_fail.png\" width=\"550px\"/></center>"
   ]
  },
  {
   "cell_type": "markdown",
   "metadata": {
    "slideshow": {
     "slide_type": "subslide"
    }
   },
   "source": [
    "## Lagrangian Dual Approach\n",
    "\n",
    "**A nice compromise is provided by the [Lagrangian Dual approach](https://arxiv.org/pdf/2001.09394)**\n",
    "\n",
    "We start from the fact that solving:\n",
    "$$\n",
    "\\min_{\\omega} \\left\\{ L(y) + \\lambda^T \\max(0, g(y)) \\right\\} \\text{ with: } y = f(\\hat{x}; \\omega)\n",
    "$$\n",
    "...Always provides a _lower bound_ on the true constrained optimum\n",
    "\n",
    "* The reason is that on the original feasible space, all penalty terms are 0\n",
    "* ...And therefore the minimum cannot be worse than the original one\n",
    "\n",
    "**Therefore, it makes sense to pick $\\lambda$ so as to _maximize this bound_**\n",
    "\n",
    "$$\n",
    "\\text{argmax}_{\\lambda} \\min_{\\omega} \\left\\{ L(y) + \\lambda^T \\max(0, g(y)) \\right\\} \\text{ with: } y = f(\\hat{x}; \\omega)\n",
    "$$\n",
    "\n",
    "Solving this problem given the best possible lower bound"
   ]
  },
  {
   "cell_type": "markdown",
   "metadata": {
    "slideshow": {
     "slide_type": "subslide"
    }
   },
   "source": [
    "## Lagrangian Dual Approach\n",
    "\n",
    "**Now, let's look more carefully at our problem:**\n",
    "\n",
    "$$\\begin{align}\n",
    "& \\text{argmax}_{\\lambda} \\min_\\omega \\mathcal{L(\\lambda, \\omega)} \\\\\n",
    "\\text{where: } & \\mathcal{L(\\lambda, \\omega)} = L(y) + \\lambda^T \\max(0, g(y)) \\\\\n",
    "\\text{ with: } & y = f(\\hat{x}; \\omega)\n",
    "\\end{align}$$\n",
    "\n",
    "**This is a _bi-level optimization problem_**\n",
    "\n",
    "It can be proved that it is _concave in $\\lambda$_\n",
    "\n",
    "* Therefore, it can be solved via _sub-gradient_ descent\n",
    "* ...Even for non-differentiable $L$, $g$, and $f$\n",
    "\n",
    "**By doing so, we increase $\\lambda$ only _when and where_ it is needed**\n",
    "\n",
    "* It is a _strong mitigation_ for the issues of the penalty method \n"
   ]
  },
  {
   "cell_type": "markdown",
   "metadata": {
    "slideshow": {
     "slide_type": "subslide"
    }
   },
   "source": [
    "## Lagrangian Dual Approach\n",
    "\n",
    "**If additionally $\\mathcal{L}(\\lambda, \\omega)$ is differentiable in $\\omega$**\n",
    "\n",
    "...Then we can solve the problem via alternate _gradient descent/ascent_:\n",
    "\n",
    "* $\\lambda^{(0)} = 0$\n",
    "* $\\omega^{(0)} = \\arg \\min_\\theta \\mathcal{L}(\\lambda^{(0)}, \\omega)$\n",
    "* For $k = 1..n$ (or until convergence):\n",
    "  - Obtain $\\lambda^{(k)}$ via an ascent step with sub-gradient $\\nabla_{\\lambda} \\mathcal{L}(\\lambda, \\omega^{(k-1)})$\n",
    "  - Obtain $\\omega^{(k)}$ via a descent step with sub-gradient $\\nabla_{\\omega} \\mathcal{L}(\\lambda^{(k)}, \\omega)$\n",
    "\n",
    "**The approach is easy to implement in tensorflow/PyTorch**\n",
    "\n",
    "We just need to use two optimization steps\n",
    "\n",
    "* It works since small changes to $\\lambda$\n",
    "* ...Usually require small changes to $\\omega$\n",
    "* Hence, we can maintain the two vectors approximately optimal "
   ]
  },
  {
   "cell_type": "markdown",
   "metadata": {
    "slideshow": {
     "slide_type": "subslide"
    }
   },
   "source": [
    "## Implementing the Lagrangian Dual Approach\n",
    "\n",
    "**We will implement the Lagrangian dual approach via another custom model**\n",
    "\n",
    "```python\n",
    "class LagDualDIDIRegressor(MLPRegressor):\n",
    "    def __init__(self, base_pred, attributes, protected, thr):\n",
    "        super(LagDualDIDIRegressor, self).__init__()\n",
    "        self.alpha = tf.Variable(0., name='alpha')\n",
    "        ...\n",
    "\n",
    "    def __custom_loss(self, x, y_true, sign=1): ...\n",
    "\n",
    "    def train_step(self, data): ...\n",
    "        \n",
    "    def metrics(self): ...\n",
    "```\n",
    "\n",
    "* We no longer pass a fixed `alpha` weight/multiplier\n",
    "* Instead we use a _trainable variable_"
   ]
  },
  {
   "cell_type": "markdown",
   "metadata": {
    "slideshow": {
     "slide_type": "subslide"
    }
   },
   "source": [
    "## Implementing the Lagrangian Dual Approach\n",
    "\n",
    "**In the `__custom_loss` method we compute the Lagrangian/regularized loss**\n",
    "\n",
    "```python\n",
    "def __custom_loss(self, x, y_true, sign=1):\n",
    "    y_pred = self.base_pred(x, training=True) # obtain the predictions\n",
    "    mse = self.compiled_loss(y_true, y_pred) # main loss\n",
    "    ymean = tf.math.reduce_mean(y_pred) # average prediction\n",
    "    didi = 0 # DIDI computation\n",
    "    for aidx, dom in self.protected.items():\n",
    "        for val in dom:\n",
    "            mask = (x[:, aidx] == val)\n",
    "            didi += tf.math.abs(ymean - tf.math.reduce_mean(y_pred[mask]))\n",
    "    cst = tf.math.maximum(0.0, didi - self.thr) # regularizer\n",
    "    loss = mse + self.alpha * cst\n",
    "    return sign*loss, mse, cst\n",
    "```\n",
    "\n",
    "* The code is the same as before\n",
    "* ...Except that we can flip the loss sign via a function argument (i.e. `sign`)"
   ]
  },
  {
   "cell_type": "markdown",
   "metadata": {
    "slideshow": {
     "slide_type": "subslide"
    }
   },
   "source": [
    "## Implementing the Lagrangian Dual Approach\n",
    "\n",
    "**In the training method, we make _two distinct gradient steps:_**\n",
    "\n",
    "```python\n",
    "    def train_step(self, data):\n",
    "        x, y_true = data # unpacking\n",
    "        with tf.GradientTape() as tape: # first loss (minimization)\n",
    "            loss, mse, cst = self.__custom_loss(x, y_true, sign=1)\n",
    "        tr_vars = self.trainable_variables\n",
    "        wgt_vars = tr_vars[:-1] # network weights\n",
    "        mul_vars = tr_vars[-1:] # multiplier\n",
    "        grads = tape.gradient(loss, wgt_vars) # adjust the network weights\n",
    "        self.optimizer.apply_gradients(zip(grads, wgt_vars))\n",
    "        with tf.GradientTape() as tape: # second loss (maximization)\n",
    "            loss, mse, cst = self.__custom_loss(x, y_true, sign=-1)\n",
    "        grads = tape.gradient(loss, mul_vars) # adjust lambda\n",
    "        self.optimizer.apply_gradients(zip(grads, mul_vars))\n",
    "```\n",
    "\n",
    "* In principle, we could even have used two distinct optimizers\n",
    "* That would allow to keep (e.g.) separate momentum vectors"
   ]
  },
  {
   "cell_type": "markdown",
   "metadata": {
    "slideshow": {
     "slide_type": "subslide"
    }
   },
   "source": [
    "## Training the Lagrangian Dual Approach\n",
    "\n",
    "**The new approach leads less oscillations at training time**"
   ]
  },
  {
   "cell_type": "code",
   "execution_count": 12,
   "metadata": {},
   "outputs": [
    {
     "data": {
      "application/vnd.jupyter.widget-view+json": {
       "model_id": "21258d18a2344a3ca924dfe9a1c53415",
       "version_major": 2,
       "version_minor": 0
      },
      "image/png": "[encoded data removed]",
      "text/html": [
       "\n",
       "            <div style=\"display: inline-block;\">\n",
       "                <div class=\"jupyter-widgets widget-label\" style=\"text-align: center;\">\n",
       "                    Figure\n",
       "                </div>\n",
       "                <img src='data:image/png;base64,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' width=900.0/>\n",
       "            </div>\n",
       "        "
      ],
      "text/plain": [
       "Canvas(toolbar=Toolbar(toolitems=[('Home', 'Reset original view', 'home', 'home'), ('Back', 'Back to previous …"
      ]
     },
     "metadata": {},
     "output_type": "display_data"
    },
    {
     "name": "stdout",
     "output_type": "stream",
     "text": [
      "Model loss: -0.0058 (training)\n"
     ]
    }
   ],
   "source": [
    "base_pred = util.build_ml_model(input_size=len(attributes), output_size=1, hidden=[])\n",
    "nn3 = util.LagDualDIDIModel(base_pred, attributes, protected, thr=didi_thr)\n",
    "history = util.train_ml_model(nn3, tr[attributes], tr[target], validation_split=0.,\n",
    "                              epochs=2000, batch_size=len(tr))\n",
    "util.plot_training_history(history, figsize=figsize)"
   ]
  },
  {
   "cell_type": "markdown",
   "metadata": {
    "slideshow": {
     "slide_type": "subslide"
    }
   },
   "source": [
    "## Lagrangian Dual Evaluation\n",
    "\n",
    "**Let's check the new results**"
   ]
  },
  {
   "cell_type": "code",
   "execution_count": 13,
   "metadata": {},
   "outputs": [
    {
     "name": "stdout",
     "output_type": "stream",
     "text": [
      "R2 score: 0.62 (training), 0.55 (test)\n",
      "DIDI: 0.13 (training), 0.14 (test)\n"
     ]
    }
   ],
   "source": [
    "tr_pred3 = nn3.predict(tr[attributes])\n",
    "r2_tr3 = r2_score(tr[target], tr_pred3)\n",
    "ts_pred3 = nn3.predict(ts[attributes])\n",
    "r2_ts3 = r2_score(ts[target], ts_pred3)\n",
    "tr_DIDI3 = util.DIDI_r(tr, tr_pred3, protected)\n",
    "ts_DIDI3 = util.DIDI_r(ts, ts_pred3, protected)\n",
    "\n",
    "\n",
    "print(f'R2 score: {r2_tr3:.2f} (training), {r2_ts3:.2f} (test)')\n",
    "print(f'DIDI: {tr_DIDI3:.2f} (training), {ts_DIDI3:.2f} (test)')"
   ]
  },
  {
   "cell_type": "markdown",
   "metadata": {},
   "source": [
    "* The DIDI has the desired value (on the test set, this is only roughly true)\n",
    "* ...And the prediction quality is _much higher than before_!"
   ]
  },
  {
   "cell_type": "markdown",
   "metadata": {
    "slideshow": {
     "slide_type": "subslide"
    }
   },
   "source": [
    "## Some References\n",
    "\n",
    "* Boyd, Stephen, Stephen P. Boyd, and Lieven Vandenberghe. Convex optimization. Cambridge university press, 2004.\n",
    "* Andrew Cotter, Heinrich Jiang, Maya R. Gupta, Serena Wang, Taman Narayan, Seungil You, Karthik Sridharan: Optimization with Non-Differentiable Constraints with Applications to Fairness, Recall, Churn, and Other Goals. J. Mach. Learn. Res. 20: 172:1-172:59 (2019)\n",
    "* Ferdinando Fioretto, Pascal Van Hentenryck, Terrence W. K. Mak, Cuong Tran, Federico Baldo, Michele Lombardi: Lagrangian Duality for Constrained Deep Learning. ECML/PKDD (5) 2020: 118-135\n",
    "* Berk, R.; Heidari, H.; Jabbari, S.; Joseph, M.; Kearns, M. J.; Morgenstern, J.; Neel, S.; and Roth, A. 2017. A Convex Framework for Fair Regression. CoRR abs/1706.02409. URL http://arxiv.org/abs/1706.02409"
   ]
  }
 ],
 "metadata": {
  "celltoolbar": "Slideshow",
  "kernelspec": {
   "display_name": "Python 3 (ipykernel)",
   "language": "python",
   "name": "python3"
  },
  "language_info": {
   "codemirror_mode": {
    "name": "ipython",
    "version": 3
   },
   "file_extension": ".py",
   "mimetype": "text/x-python",
   "name": "python",
   "nbconvert_exporter": "python",
   "pygments_lexer": "ipython3",
   "version": "3.8.10"
  },
  "rise": {
   "center": false,
   "transition": "fade"
  }
 },
 "nbformat": 4,
 "nbformat_minor": 4
}
