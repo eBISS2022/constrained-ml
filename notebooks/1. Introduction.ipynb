{
 "cells": [
  {
   "cell_type": "markdown",
   "metadata": {
    "slideshow": {
     "slide_type": "slide"
    }
   },
   "source": [
    "# Constraints in Machine Learning"
   ]
  },
  {
   "cell_type": "markdown",
   "metadata": {
    "slideshow": {
     "slide_type": "subslide"
    }
   },
   "source": [
    "## Acknowledging a Fact\n",
    "\n",
    "**ML techniques have reached superhuman performance on many tasks**\n",
    "\n",
    "<center>\n",
    "<img src=\"assets/superman.png\" width=70%/>\n",
    "</center>"
   ]
  },
  {
   "cell_type": "markdown",
   "metadata": {
    "slideshow": {
     "slide_type": "subslide"
    }
   },
   "source": [
    "## ...All the Facts, Actually\n",
    "\n",
    "**Modern ML method excel at tacking advantage of _available data_**\n",
    "\n",
    "* They can are robust w.r.t. to noise\n",
    "* They can approximate highly non-linear relations\n",
    "* They can handle very large datasets\n",
    "* ...\n",
    "\n",
    "However, this is all about _implicit information_\n",
    "\n",
    "**What about _explicit_ information? E.g.:** \n",
    "\n",
    "* Locality\n",
    "* Known physical laws\n",
    "* Regulations\n",
    "* Intuitive relations\n",
    "* ..."
   ]
  },
  {
   "cell_type": "markdown",
   "metadata": {
    "slideshow": {
     "slide_type": "subslide"
    }
   },
   "source": [
    "## Success Stories\n",
    "\n",
    "**Some of the most successful ML methods are based on explicit knowledge**\n",
    "\n",
    "Think of:\n",
    "\n",
    "* Convolutional networks\n",
    "* Attention-based architectures (e.g. Tranformers)\n",
    "* Graph Neural Networks\n",
    "* ...\n",
    "\n",
    "**They all rely on explict knowledge about the _structure_ of the problem**\n",
    "\n",
    "* Locality for CNNs\n",
    "* Relevance maps for attention\n",
    "* Known connections for GNNs\n",
    "* ..."
   ]
  },
  {
   "cell_type": "markdown",
   "metadata": {
    "slideshow": {
     "slide_type": "subslide"
    }
   },
   "source": [
    "## ...And Open Problems\n",
    "\n",
    "**Where things become trickier is with _symbolic_ information**\n",
    "\n",
    "...Which is typically encoded in the form of (soft of hard) _constraints_\n",
    "\n",
    "<center>\n",
    "<img src=\"assets/luthor.png\" width=60%/>\n",
    "</center>\n",
    "\n",
    "**Let's make a few examples...**"
   ]
  },
  {
   "cell_type": "markdown",
   "metadata": {
    "slideshow": {
     "slide_type": "subslide"
    }
   },
   "source": [
    "## Constrained Machine Learning\n",
    "\n",
    "**Example 1: logical _rules_**\n",
    "\n",
    "E.g. hiearchies in multi-class classification (\"A dog is also an animal\"):\n",
    "$$\n",
    "y_{i,dog} \\leq y_{i,animal}\n",
    "$$\n",
    "* This constraint is defined over _individual examples_\n",
    "\n",
    "**Example 2: _shape_ constraints**\n",
    "\n",
    "E.g. input $x_j$ cannot cause the output to decrease (monotonicity)\n",
    "$$\n",
    "y_{i} \\leq y_{k} \\quad \\forall i, k : x_{i,j} \\leq x_{k,j} \\wedge x_{i,h} = x_{k,h} \\forall h \\neq j\n",
    "$$\n",
    "* This is a _relational constraint_, i.e. defined over multiple examples"
   ]
  },
  {
   "cell_type": "markdown",
   "metadata": {
    "slideshow": {
     "slide_type": "subslide"
    }
   },
   "source": [
    "## Constrained Machine Learning\n",
    "\n",
    "**Historically, constrained ML has received limited interest**\n",
    "\n",
    "...But things are changing!\n",
    "\n",
    "* Symbolic knowledge is available for many practical problems\n",
    "* Fairness in ML can be though of as a constraints\n",
    "* Safety in ML can also be stated by means of constraints\n",
    "* ...\n",
    "\n",
    "**Mainstream conferences now often host sessions on related topics:**\n",
    "\n",
    "* Neuro-symbolic AI\n",
    "* Fairness and trustworthiness in AI\n",
    "* Hybrid ML-optimization approaches\n",
    "* ..."
   ]
  },
  {
   "cell_type": "markdown",
   "metadata": {
    "slideshow": {
     "slide_type": "subslide"
    }
   },
   "source": [
    "## About this Lecture\n",
    "\n",
    "**Constraints ML can be taken into account by acting on:**\n",
    "\n",
    "* The architecture\n",
    "* The training algorithm\n",
    "* The data\n",
    "\n",
    "**This lecture will contains a few relevant examples of such approaches**\n",
    "\n",
    "The lecture consists of a set of _tutorials_\n",
    "\n",
    "* We will use (semi) practical examples to discuss the techniques\n",
    "* Everything is a jupyter notebook (and executable)\n",
    "\n",
    "> **The lecture is available at: https://github.com/eBISS2022/constrained-ml**"
   ]
  }
 ],
 "metadata": {
  "celltoolbar": "Slideshow",
  "kernelspec": {
   "display_name": "Python 3 (ipykernel)",
   "language": "python",
   "name": "python3"
  },
  "language_info": {
   "codemirror_mode": {
    "name": "ipython",
    "version": 3
   },
   "file_extension": ".py",
   "mimetype": "text/x-python",
   "name": "python",
   "nbconvert_exporter": "python",
   "pygments_lexer": "ipython3",
   "version": "3.8.10"
  },
  "rise": {
   "center": false,
   "transition": "fade"
  }
 },
 "nbformat": 4,
 "nbformat_minor": 4
}
