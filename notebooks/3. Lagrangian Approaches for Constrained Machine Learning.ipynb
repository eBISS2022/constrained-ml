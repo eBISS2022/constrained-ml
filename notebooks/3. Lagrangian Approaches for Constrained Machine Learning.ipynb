{
 "cells": [
  {
   "cell_type": "code",
   "execution_count": 2,
   "metadata": {
    "slideshow": {
     "slide_type": "skip"
    }
   },
   "outputs": [
    {
     "name": "stdout",
     "output_type": "stream",
     "text": [
      "The autoreload extension is already loaded. To reload it, use:\n",
      "  %reload_ext autoreload\n"
     ]
    }
   ],
   "source": [
    "# ============================================================\n",
    "# Notebook setup\n",
    "# ============================================================\n",
    "\n",
    "%load_ext autoreload\n",
    "%autoreload 2\n",
    "\n",
    "# Control figure size\n",
    "interactive_figures = True\n",
    "if interactive_figures:\n",
    "    # Normal behavior\n",
    "    %matplotlib widget\n",
    "    figsize=(9, 3)\n",
    "else:\n",
    "    # PDF export behavior\n",
    "    figsize=(14, 5)\n",
    "\n",
    "from util import util\n",
    "import numpy as np\n",
    "from sklearn.preprocessing import MinMaxScaler, StandardScaler\n",
    "import pandas as pd\n",
    "from sklearn.metrics import r2_score\n",
    "\n",
    "# Load data\n",
    "data_folder = '../data'"
   ]
  },
  {
   "cell_type": "markdown",
   "metadata": {
    "slideshow": {
     "slide_type": "slide"
    }
   },
   "source": [
    "# Lagrangian Approaches for Constrained ML"
   ]
  },
  {
   "cell_type": "markdown",
   "metadata": {
    "slideshow": {
     "slide_type": "subslide"
    }
   },
   "source": [
    "## Constrained Machine Learning\n",
    "\n",
    "**Let's consider ML problems with _constrained output_**\n",
    "\n",
    "In particular, let's focus on problems in the form:\n",
    "$$\n",
    "\\text{argmin}_{\\theta} \\left\\{ L(y) \\mid g(y) \\leq 0 \\right\\} \\text{ with: } y = f(\\hat{x}, \\omega)\n",
    "$$\n",
    "Where:\n",
    "* $L$ is the loss\n",
    "* $\\hat{x}$ is the training input\n",
    "* $y$ is the ML model output, i.e. $f(x, \\omega)$\n",
    "* $\\omega$ is the parameter vector (we assume a parameterized model)\n",
    "* $g$ is a constraint function\n",
    "\n",
    "Equality csts. can be viewed as double-inequalities (but they admit simplifications)\n"
   ]
  },
  {
   "cell_type": "markdown",
   "metadata": {
    "slideshow": {
     "slide_type": "subslide"
    }
   },
   "source": [
    "## Lagrangian Relaxations for Constrained ML\n",
    "\n",
    "**One way to deal with this problem is to rely on a _Lagrangian Relaxation_**\n",
    "\n",
    "Main idea: we turn the constraints into _penalty terms_:\n",
    "$$\n",
    "\\text{argmin}_{\\theta} L(y) + \\lambda^T \\max(0, g(y)) \\quad \\text{ with: } y = f(\\hat{x}, \\omega)\n",
    "$$\n",
    "Or, alternatively:\n",
    "$$\n",
    "\\text{argmin}_{\\theta} L(y) + \\lambda^T \\max(0, g(y))^2 \\quad \\text{ with: } y = f(\\hat{x}, \\omega)\n",
    "$$\n",
    "\n",
    "* We use a vector of _multipliers_ $\\lambda$ to weight the constraint violations\n",
    "\n",
    "**This is a popular approach for ML with constraints**\n",
    "\n",
    "* One of the first occurrences as [Semantic Based Regularization](https://www.sciencedirect.com/science/article/pii/S0004370215001344)\n",
    "* The constraints are \"distilled\" in the model parameters\n",
    "\n"
   ]
  },
  {
   "cell_type": "markdown",
   "metadata": {
    "slideshow": {
     "slide_type": "subslide"
    }
   },
   "source": [
    "## Lagrangian Relaxations for Constrained ML\n",
    "\n",
    "**Equality constraints can be treated as double inequalities**\n",
    "\n",
    "...Or via the simplified form:\n",
    "$$\n",
    "\\arg\\min_{\\theta} \\left\\{ L(y) + \\lambda^T g(y)^2 \\right\\} \\text{ with: } y = f(\\hat{x}; \\theta)\n",
    "$$\n",
    "\n",
    "**Intuitively, for a large enough $\\lambda$ it should be possible to approach feasibility**\n",
    "\n",
    "* It will be _approximate_ in general\n",
    "* Any guarantee will apply only to the training set\n",
    "\n",
    "...But we get our constraints!"
   ]
  },
  {
   "cell_type": "markdown",
   "metadata": {
    "slideshow": {
     "slide_type": "subslide"
    }
   },
   "source": [
    "## A Case Study: Fairness in ML Models\n",
    "\n",
    "**As a case study, say we want to estimate the risk of violent crimes**\n",
    "\n",
    "<center><img src=\"assets/minority-report.jpg\" width=800px/></center>\n",
    "\n",
    "* This is obviously a very _ethically sensitive (and questionable) task_\n",
    "* Our model may easily end up discriminating some social groups"
   ]
  },
  {
   "cell_type": "markdown",
   "metadata": {
    "slideshow": {
     "slide_type": "subslide"
    }
   },
   "source": [
    "## Loading and Preparing the Dataset\n",
    "\n",
    "**We will start by loading the [\"crime\" UCI dataset](https://archive.ics.uci.edu/ml/datasets/Communities+and+Crime)**\n",
    "\n",
    "We will use a pre-processed version:"
   ]
  },
  {
   "cell_type": "code",
   "execution_count": 3,
   "metadata": {
    "scrolled": false
   },
   "outputs": [
    {
     "data": {
      "text/html": [
       "<div>\n",
       "<style scoped>\n",
       "    .dataframe tbody tr th:only-of-type {\n",
       "        vertical-align: middle;\n",
       "    }\n",
       "\n",
       "    .dataframe tbody tr th {\n",
       "        vertical-align: top;\n",
       "    }\n",
       "\n",
       "    .dataframe thead th {\n",
       "        text-align: right;\n",
       "    }\n",
       "</style>\n",
       "<table border=\"1\" class=\"dataframe\">\n",
       "  <thead>\n",
       "    <tr style=\"text-align: right;\">\n",
       "      <th></th>\n",
       "      <th>communityname</th>\n",
       "      <th>state</th>\n",
       "      <th>fold</th>\n",
       "      <th>pop</th>\n",
       "      <th>race</th>\n",
       "      <th>pct12-21</th>\n",
       "      <th>pct12-29</th>\n",
       "      <th>pct16-24</th>\n",
       "      <th>pct65up</th>\n",
       "      <th>pctUrban</th>\n",
       "      <th>...</th>\n",
       "      <th>pctForeignBorn</th>\n",
       "      <th>pctBornStateResid</th>\n",
       "      <th>pctSameHouse-5</th>\n",
       "      <th>pctSameCounty-5</th>\n",
       "      <th>pctSameState-5</th>\n",
       "      <th>landArea</th>\n",
       "      <th>popDensity</th>\n",
       "      <th>pctUsePubTrans</th>\n",
       "      <th>pctOfficDrugUnit</th>\n",
       "      <th>violentPerPop</th>\n",
       "    </tr>\n",
       "  </thead>\n",
       "  <tbody>\n",
       "    <tr>\n",
       "      <th>1008</th>\n",
       "      <td>EastLampetertownship</td>\n",
       "      <td>PA</td>\n",
       "      <td>5</td>\n",
       "      <td>11999</td>\n",
       "      <td>0</td>\n",
       "      <td>0.1203</td>\n",
       "      <td>0.2544</td>\n",
       "      <td>0.1208</td>\n",
       "      <td>0.1302</td>\n",
       "      <td>0.5776</td>\n",
       "      <td>...</td>\n",
       "      <td>0.0288</td>\n",
       "      <td>0.8132</td>\n",
       "      <td>0.6033</td>\n",
       "      <td>0.8597</td>\n",
       "      <td>0.9219</td>\n",
       "      <td>20.7</td>\n",
       "      <td>580.7</td>\n",
       "      <td>0.0103</td>\n",
       "      <td>0.0000</td>\n",
       "      <td>147.49</td>\n",
       "    </tr>\n",
       "    <tr>\n",
       "      <th>1271</th>\n",
       "      <td>EastProvidencecity</td>\n",
       "      <td>RI</td>\n",
       "      <td>6</td>\n",
       "      <td>50380</td>\n",
       "      <td>0</td>\n",
       "      <td>0.1171</td>\n",
       "      <td>0.2459</td>\n",
       "      <td>0.1159</td>\n",
       "      <td>0.1660</td>\n",
       "      <td>1.0000</td>\n",
       "      <td>...</td>\n",
       "      <td>0.1474</td>\n",
       "      <td>0.6561</td>\n",
       "      <td>0.6557</td>\n",
       "      <td>0.8929</td>\n",
       "      <td>0.9252</td>\n",
       "      <td>13.9</td>\n",
       "      <td>3629.0</td>\n",
       "      <td>0.0357</td>\n",
       "      <td>0.0000</td>\n",
       "      <td>150.88</td>\n",
       "    </tr>\n",
       "    <tr>\n",
       "      <th>1936</th>\n",
       "      <td>Betheltown</td>\n",
       "      <td>CT</td>\n",
       "      <td>9</td>\n",
       "      <td>17541</td>\n",
       "      <td>0</td>\n",
       "      <td>0.1356</td>\n",
       "      <td>0.2507</td>\n",
       "      <td>0.1138</td>\n",
       "      <td>0.0804</td>\n",
       "      <td>0.8514</td>\n",
       "      <td>...</td>\n",
       "      <td>0.0853</td>\n",
       "      <td>0.4878</td>\n",
       "      <td>0.5953</td>\n",
       "      <td>0.8485</td>\n",
       "      <td>0.8689</td>\n",
       "      <td>17.4</td>\n",
       "      <td>1008.2</td>\n",
       "      <td>0.0252</td>\n",
       "      <td>0.0000</td>\n",
       "      <td>95.47</td>\n",
       "    </tr>\n",
       "    <tr>\n",
       "      <th>1601</th>\n",
       "      <td>Crowleycity</td>\n",
       "      <td>LA</td>\n",
       "      <td>8</td>\n",
       "      <td>13983</td>\n",
       "      <td>0</td>\n",
       "      <td>0.1506</td>\n",
       "      <td>0.2587</td>\n",
       "      <td>0.1234</td>\n",
       "      <td>0.1302</td>\n",
       "      <td>0.0000</td>\n",
       "      <td>...</td>\n",
       "      <td>0.0029</td>\n",
       "      <td>0.9314</td>\n",
       "      <td>0.5898</td>\n",
       "      <td>0.9219</td>\n",
       "      <td>0.9769</td>\n",
       "      <td>4.7</td>\n",
       "      <td>2957.5</td>\n",
       "      <td>0.0098</td>\n",
       "      <td>0.0000</td>\n",
       "      <td>1029.02</td>\n",
       "    </tr>\n",
       "    <tr>\n",
       "      <th>293</th>\n",
       "      <td>Pawtucketcity</td>\n",
       "      <td>RI</td>\n",
       "      <td>2</td>\n",
       "      <td>72644</td>\n",
       "      <td>0</td>\n",
       "      <td>0.1230</td>\n",
       "      <td>0.2725</td>\n",
       "      <td>0.1276</td>\n",
       "      <td>0.1464</td>\n",
       "      <td>1.0000</td>\n",
       "      <td>...</td>\n",
       "      <td>0.1771</td>\n",
       "      <td>0.6363</td>\n",
       "      <td>0.5807</td>\n",
       "      <td>0.8805</td>\n",
       "      <td>0.8906</td>\n",
       "      <td>9.1</td>\n",
       "      <td>8027.0</td>\n",
       "      <td>0.0318</td>\n",
       "      <td>0.1103</td>\n",
       "      <td>458.28</td>\n",
       "    </tr>\n",
       "  </tbody>\n",
       "</table>\n",
       "<p>5 rows × 101 columns</p>\n",
       "</div>"
      ],
      "text/plain": [
       "             communityname state  fold    pop  race  pct12-21  pct12-29  \\\n",
       "1008  EastLampetertownship    PA     5  11999     0    0.1203    0.2544   \n",
       "1271    EastProvidencecity    RI     6  50380     0    0.1171    0.2459   \n",
       "1936            Betheltown    CT     9  17541     0    0.1356    0.2507   \n",
       "1601           Crowleycity    LA     8  13983     0    0.1506    0.2587   \n",
       "293          Pawtucketcity    RI     2  72644     0    0.1230    0.2725   \n",
       "\n",
       "      pct16-24  pct65up  pctUrban  ...  pctForeignBorn  pctBornStateResid  \\\n",
       "1008    0.1208   0.1302    0.5776  ...          0.0288             0.8132   \n",
       "1271    0.1159   0.1660    1.0000  ...          0.1474             0.6561   \n",
       "1936    0.1138   0.0804    0.8514  ...          0.0853             0.4878   \n",
       "1601    0.1234   0.1302    0.0000  ...          0.0029             0.9314   \n",
       "293     0.1276   0.1464    1.0000  ...          0.1771             0.6363   \n",
       "\n",
       "      pctSameHouse-5  pctSameCounty-5  pctSameState-5  landArea  popDensity  \\\n",
       "1008          0.6033           0.8597          0.9219      20.7       580.7   \n",
       "1271          0.6557           0.8929          0.9252      13.9      3629.0   \n",
       "1936          0.5953           0.8485          0.8689      17.4      1008.2   \n",
       "1601          0.5898           0.9219          0.9769       4.7      2957.5   \n",
       "293           0.5807           0.8805          0.8906       9.1      8027.0   \n",
       "\n",
       "      pctUsePubTrans  pctOfficDrugUnit  violentPerPop  \n",
       "1008          0.0103            0.0000         147.49  \n",
       "1271          0.0357            0.0000         150.88  \n",
       "1936          0.0252            0.0000          95.47  \n",
       "1601          0.0098            0.0000        1029.02  \n",
       "293           0.0318            0.1103         458.28  \n",
       "\n",
       "[5 rows x 101 columns]"
      ]
     },
     "execution_count": 3,
     "metadata": {},
     "output_type": "execute_result"
    }
   ],
   "source": [
    "data = util.load_communities_data(data_folder)\n",
    "attributes = data.columns[3:-1]\n",
    "target = data.columns[-1]\n",
    "data.head()"
   ]
  },
  {
   "cell_type": "markdown",
   "metadata": {},
   "source": [
    "The target is \"violentPerPop\" (number of violent offenders per 100K people)"
   ]
  },
  {
   "cell_type": "markdown",
   "metadata": {
    "slideshow": {
     "slide_type": "subslide"
    }
   },
   "source": [
    "## Loading and Preparing the Dataset\n",
    "\n",
    "**We prepare for normalizing all numeric attributes**\n",
    "\n",
    "* The only categorical input is \"race\" (0 = primarily \"white\", 1 = primarily \"black\")\n",
    "* Incidentally, \"race\" is _a natural focus to check for discrimination_\n",
    "\n",
    "**We define the train-test divide and we identify the numerical inputs**"
   ]
  },
  {
   "cell_type": "code",
   "execution_count": 4,
   "metadata": {},
   "outputs": [],
   "source": [
    "tr_frac = 0.8 # 80% data for training\n",
    "tr_sep = int(len(data) * tr_frac)\n",
    "nf = [a for a in attributes if a != 'race'] + [target]"
   ]
  },
  {
   "cell_type": "markdown",
   "metadata": {},
   "source": [
    "We normalize the data and convert to float32 (to make TensorFlow happier)"
   ]
  },
  {
   "cell_type": "code",
   "execution_count": 5,
   "metadata": {},
   "outputs": [],
   "source": [
    "tmp = data.iloc[:tr_sep]\n",
    "scale = tmp[nf].max()\n",
    "sdata = data.copy()\n",
    "sdata[nf] /= scale[nf]\n",
    "\n",
    "sdata[attributes] = sdata[attributes].astype(np.float32)\n",
    "sdata[target] = sdata[target].astype(np.float32)"
   ]
  },
  {
   "cell_type": "markdown",
   "metadata": {
    "slideshow": {
     "slide_type": "subslide"
    }
   },
   "source": [
    "## Loading and Preparing the Dataset\n",
    "\n",
    "**Finally we can separate the training and test set**"
   ]
  },
  {
   "cell_type": "code",
   "execution_count": 6,
   "metadata": {},
   "outputs": [
    {
     "data": {
      "text/html": [
       "<div>\n",
       "<style scoped>\n",
       "    .dataframe tbody tr th:only-of-type {\n",
       "        vertical-align: middle;\n",
       "    }\n",
       "\n",
       "    .dataframe tbody tr th {\n",
       "        vertical-align: top;\n",
       "    }\n",
       "\n",
       "    .dataframe thead th {\n",
       "        text-align: right;\n",
       "    }\n",
       "</style>\n",
       "<table border=\"1\" class=\"dataframe\">\n",
       "  <thead>\n",
       "    <tr style=\"text-align: right;\">\n",
       "      <th></th>\n",
       "      <th>fold</th>\n",
       "      <th>pop</th>\n",
       "      <th>race</th>\n",
       "      <th>pct12-21</th>\n",
       "      <th>pct12-29</th>\n",
       "      <th>pct16-24</th>\n",
       "      <th>pct65up</th>\n",
       "      <th>pctUrban</th>\n",
       "      <th>medIncome</th>\n",
       "      <th>pctWwage</th>\n",
       "      <th>...</th>\n",
       "      <th>pctForeignBorn</th>\n",
       "      <th>pctBornStateResid</th>\n",
       "      <th>pctSameHouse-5</th>\n",
       "      <th>pctSameCounty-5</th>\n",
       "      <th>pctSameState-5</th>\n",
       "      <th>landArea</th>\n",
       "      <th>popDensity</th>\n",
       "      <th>pctUsePubTrans</th>\n",
       "      <th>pctOfficDrugUnit</th>\n",
       "      <th>violentPerPop</th>\n",
       "    </tr>\n",
       "  </thead>\n",
       "  <tbody>\n",
       "    <tr>\n",
       "      <th>count</th>\n",
       "      <td>1594.000000</td>\n",
       "      <td>1594.000000</td>\n",
       "      <td>1594.000000</td>\n",
       "      <td>1594.000000</td>\n",
       "      <td>1594.000000</td>\n",
       "      <td>1594.000000</td>\n",
       "      <td>1594.000000</td>\n",
       "      <td>1594.000000</td>\n",
       "      <td>1594.000000</td>\n",
       "      <td>1594.000000</td>\n",
       "      <td>...</td>\n",
       "      <td>1594.000000</td>\n",
       "      <td>1594.000000</td>\n",
       "      <td>1594.000000</td>\n",
       "      <td>1594.000000</td>\n",
       "      <td>1594.000000</td>\n",
       "      <td>1594.000000</td>\n",
       "      <td>1594.000000</td>\n",
       "      <td>1594.000000</td>\n",
       "      <td>1594.000000</td>\n",
       "      <td>1594.000000</td>\n",
       "    </tr>\n",
       "    <tr>\n",
       "      <th>mean</th>\n",
       "      <td>5.515056</td>\n",
       "      <td>0.007309</td>\n",
       "      <td>0.031995</td>\n",
       "      <td>0.266962</td>\n",
       "      <td>0.398600</td>\n",
       "      <td>0.230577</td>\n",
       "      <td>0.226739</td>\n",
       "      <td>0.695383</td>\n",
       "      <td>0.272795</td>\n",
       "      <td>0.808877</td>\n",
       "      <td>...</td>\n",
       "      <td>0.126063</td>\n",
       "      <td>0.649191</td>\n",
       "      <td>0.651699</td>\n",
       "      <td>0.796561</td>\n",
       "      <td>0.886649</td>\n",
       "      <td>0.009499</td>\n",
       "      <td>0.062829</td>\n",
       "      <td>0.057092</td>\n",
       "      <td>0.021317</td>\n",
       "      <td>0.118508</td>\n",
       "    </tr>\n",
       "    <tr>\n",
       "      <th>std</th>\n",
       "      <td>2.912637</td>\n",
       "      <td>0.030287</td>\n",
       "      <td>0.176042</td>\n",
       "      <td>0.084005</td>\n",
       "      <td>0.090329</td>\n",
       "      <td>0.098553</td>\n",
       "      <td>0.091256</td>\n",
       "      <td>0.445105</td>\n",
       "      <td>0.108972</td>\n",
       "      <td>0.081297</td>\n",
       "      <td>...</td>\n",
       "      <td>0.144243</td>\n",
       "      <td>0.183083</td>\n",
       "      <td>0.135358</td>\n",
       "      <td>0.112796</td>\n",
       "      <td>0.077034</td>\n",
       "      <td>0.028955</td>\n",
       "      <td>0.065060</td>\n",
       "      <td>0.092881</td>\n",
       "      <td>0.061344</td>\n",
       "      <td>0.123444</td>\n",
       "    </tr>\n",
       "    <tr>\n",
       "      <th>min</th>\n",
       "      <td>1.000000</td>\n",
       "      <td>0.001368</td>\n",
       "      <td>0.000000</td>\n",
       "      <td>0.084191</td>\n",
       "      <td>0.134635</td>\n",
       "      <td>0.075644</td>\n",
       "      <td>0.031457</td>\n",
       "      <td>0.000000</td>\n",
       "      <td>0.104413</td>\n",
       "      <td>0.327882</td>\n",
       "      <td>...</td>\n",
       "      <td>0.003182</td>\n",
       "      <td>0.072472</td>\n",
       "      <td>0.150586</td>\n",
       "      <td>0.289367</td>\n",
       "      <td>0.332187</td>\n",
       "      <td>0.000335</td>\n",
       "      <td>0.000226</td>\n",
       "      <td>0.000000</td>\n",
       "      <td>0.000000</td>\n",
       "      <td>0.001097</td>\n",
       "    </tr>\n",
       "    <tr>\n",
       "      <th>25%</th>\n",
       "      <td>3.000000</td>\n",
       "      <td>0.001943</td>\n",
       "      <td>0.000000</td>\n",
       "      <td>0.225230</td>\n",
       "      <td>0.350689</td>\n",
       "      <td>0.185238</td>\n",
       "      <td>0.167614</td>\n",
       "      <td>0.000000</td>\n",
       "      <td>0.190973</td>\n",
       "      <td>0.759677</td>\n",
       "      <td>...</td>\n",
       "      <td>0.035541</td>\n",
       "      <td>0.525016</td>\n",
       "      <td>0.566446</td>\n",
       "      <td>0.743167</td>\n",
       "      <td>0.854675</td>\n",
       "      <td>0.002754</td>\n",
       "      <td>0.026280</td>\n",
       "      <td>0.006672</td>\n",
       "      <td>0.000000</td>\n",
       "      <td>0.032800</td>\n",
       "    </tr>\n",
       "    <tr>\n",
       "      <th>50%</th>\n",
       "      <td>5.000000</td>\n",
       "      <td>0.003035</td>\n",
       "      <td>0.000000</td>\n",
       "      <td>0.250919</td>\n",
       "      <td>0.385173</td>\n",
       "      <td>0.205575</td>\n",
       "      <td>0.223138</td>\n",
       "      <td>1.000000</td>\n",
       "      <td>0.249509</td>\n",
       "      <td>0.813755</td>\n",
       "      <td>...</td>\n",
       "      <td>0.075352</td>\n",
       "      <td>0.669369</td>\n",
       "      <td>0.658096</td>\n",
       "      <td>0.819391</td>\n",
       "      <td>0.905697</td>\n",
       "      <td>0.005099</td>\n",
       "      <td>0.045234</td>\n",
       "      <td>0.022823</td>\n",
       "      <td>0.000000</td>\n",
       "      <td>0.076430</td>\n",
       "    </tr>\n",
       "    <tr>\n",
       "      <th>75%</th>\n",
       "      <td>8.000000</td>\n",
       "      <td>0.005922</td>\n",
       "      <td>0.000000</td>\n",
       "      <td>0.283824</td>\n",
       "      <td>0.419908</td>\n",
       "      <td>0.235735</td>\n",
       "      <td>0.275298</td>\n",
       "      <td>1.000000</td>\n",
       "      <td>0.334641</td>\n",
       "      <td>0.866125</td>\n",
       "      <td>...</td>\n",
       "      <td>0.155517</td>\n",
       "      <td>0.798529</td>\n",
       "      <td>0.744017</td>\n",
       "      <td>0.875764</td>\n",
       "      <td>0.938556</td>\n",
       "      <td>0.009667</td>\n",
       "      <td>0.074085</td>\n",
       "      <td>0.064651</td>\n",
       "      <td>0.000000</td>\n",
       "      <td>0.159716</td>\n",
       "    </tr>\n",
       "    <tr>\n",
       "      <th>max</th>\n",
       "      <td>10.000000</td>\n",
       "      <td>1.000000</td>\n",
       "      <td>1.000000</td>\n",
       "      <td>1.000000</td>\n",
       "      <td>1.000000</td>\n",
       "      <td>1.000000</td>\n",
       "      <td>1.000000</td>\n",
       "      <td>1.000000</td>\n",
       "      <td>1.000000</td>\n",
       "      <td>1.000000</td>\n",
       "      <td>...</td>\n",
       "      <td>1.000000</td>\n",
       "      <td>1.000000</td>\n",
       "      <td>1.000000</td>\n",
       "      <td>1.000000</td>\n",
       "      <td>1.000000</td>\n",
       "      <td>1.000000</td>\n",
       "      <td>1.000000</td>\n",
       "      <td>1.000000</td>\n",
       "      <td>1.000000</td>\n",
       "      <td>1.000000</td>\n",
       "    </tr>\n",
       "  </tbody>\n",
       "</table>\n",
       "<p>8 rows × 99 columns</p>\n",
       "</div>"
      ],
      "text/plain": [
       "              fold          pop         race     pct12-21     pct12-29  \\\n",
       "count  1594.000000  1594.000000  1594.000000  1594.000000  1594.000000   \n",
       "mean      5.515056     0.007309     0.031995     0.266962     0.398600   \n",
       "std       2.912637     0.030287     0.176042     0.084005     0.090329   \n",
       "min       1.000000     0.001368     0.000000     0.084191     0.134635   \n",
       "25%       3.000000     0.001943     0.000000     0.225230     0.350689   \n",
       "50%       5.000000     0.003035     0.000000     0.250919     0.385173   \n",
       "75%       8.000000     0.005922     0.000000     0.283824     0.419908   \n",
       "max      10.000000     1.000000     1.000000     1.000000     1.000000   \n",
       "\n",
       "          pct16-24      pct65up     pctUrban    medIncome     pctWwage  ...  \\\n",
       "count  1594.000000  1594.000000  1594.000000  1594.000000  1594.000000  ...   \n",
       "mean      0.230577     0.226739     0.695383     0.272795     0.808877  ...   \n",
       "std       0.098553     0.091256     0.445105     0.108972     0.081297  ...   \n",
       "min       0.075644     0.031457     0.000000     0.104413     0.327882  ...   \n",
       "25%       0.185238     0.167614     0.000000     0.190973     0.759677  ...   \n",
       "50%       0.205575     0.223138     1.000000     0.249509     0.813755  ...   \n",
       "75%       0.235735     0.275298     1.000000     0.334641     0.866125  ...   \n",
       "max       1.000000     1.000000     1.000000     1.000000     1.000000  ...   \n",
       "\n",
       "       pctForeignBorn  pctBornStateResid  pctSameHouse-5  pctSameCounty-5  \\\n",
       "count     1594.000000        1594.000000     1594.000000      1594.000000   \n",
       "mean         0.126063           0.649191        0.651699         0.796561   \n",
       "std          0.144243           0.183083        0.135358         0.112796   \n",
       "min          0.003182           0.072472        0.150586         0.289367   \n",
       "25%          0.035541           0.525016        0.566446         0.743167   \n",
       "50%          0.075352           0.669369        0.658096         0.819391   \n",
       "75%          0.155517           0.798529        0.744017         0.875764   \n",
       "max          1.000000           1.000000        1.000000         1.000000   \n",
       "\n",
       "       pctSameState-5     landArea   popDensity  pctUsePubTrans  \\\n",
       "count     1594.000000  1594.000000  1594.000000     1594.000000   \n",
       "mean         0.886649     0.009499     0.062829        0.057092   \n",
       "std          0.077034     0.028955     0.065060        0.092881   \n",
       "min          0.332187     0.000335     0.000226        0.000000   \n",
       "25%          0.854675     0.002754     0.026280        0.006672   \n",
       "50%          0.905697     0.005099     0.045234        0.022823   \n",
       "75%          0.938556     0.009667     0.074085        0.064651   \n",
       "max          1.000000     1.000000     1.000000        1.000000   \n",
       "\n",
       "       pctOfficDrugUnit  violentPerPop  \n",
       "count       1594.000000    1594.000000  \n",
       "mean           0.021317       0.118508  \n",
       "std            0.061344       0.123444  \n",
       "min            0.000000       0.001097  \n",
       "25%            0.000000       0.032800  \n",
       "50%            0.000000       0.076430  \n",
       "75%            0.000000       0.159716  \n",
       "max            1.000000       1.000000  \n",
       "\n",
       "[8 rows x 99 columns]"
      ]
     },
     "execution_count": 6,
     "metadata": {},
     "output_type": "execute_result"
    }
   ],
   "source": [
    "tr = sdata.iloc[:tr_sep]\n",
    "ts = sdata.iloc[tr_sep:]\n",
    "tr.describe()"
   ]
  },
  {
   "cell_type": "markdown",
   "metadata": {
    "slideshow": {
     "slide_type": "subslide"
    }
   },
   "source": [
    "## Baseline\n",
    "\n",
    "**Let's establish a baseline by tackling the task via Linear Regression**"
   ]
  },
  {
   "cell_type": "code",
   "execution_count": 7,
   "metadata": {},
   "outputs": [
    {
     "name": "stderr",
     "output_type": "stream",
     "text": [
      "2022-07-04 08:15:45.006058: I tensorflow/core/platform/cpu_feature_guard.cc:151] This TensorFlow binary is optimized with oneAPI Deep Neural Network Library (oneDNN) to use the following CPU instructions in performance-critical operations:  AVX2 FMA\n",
      "To enable them in other operations, rebuild TensorFlow with the appropriate compiler flags.\n"
     ]
    },
    {
     "data": {
      "application/vnd.jupyter.widget-view+json": {
       "model_id": "aecb820cdd3d43fcbc7a905edb99026f",
       "version_major": 2,
       "version_minor": 0
      },
      "image/png": "[encoded data removed]",
      "text/html": [
       "\n",
       "            <div style=\"display: inline-block;\">\n",
       "                <div class=\"jupyter-widgets widget-label\" style=\"text-align: center;\">\n",
       "                    Figure\n",
       "                </div>\n",
       "                <img src='data:image/png;base64,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' width=900.0/>\n",
       "            </div>\n",
       "        "
      ],
      "text/plain": [
       "Canvas(toolbar=Toolbar(toolitems=[('Home', 'Reset original view', 'home', 'home'), ('Back', 'Back to previous …"
      ]
     },
     "metadata": {},
     "output_type": "display_data"
    },
    {
     "name": "stdout",
     "output_type": "stream",
     "text": [
      "Model loss: 0.0051 (training)\n"
     ]
    }
   ],
   "source": [
    "nn = util.build_ml_model(input_size=len(attributes), output_size=1, hidden=[])\n",
    "history = util.train_ml_model(nn, tr[attributes], tr[target], validation_split=0.,\n",
    "                              epochs=200)\n",
    "util.plot_training_history(history, figsize=figsize)"
   ]
  },
  {
   "cell_type": "markdown",
   "metadata": {
    "slideshow": {
     "slide_type": "subslide"
    }
   },
   "source": [
    "## Baseline Evaluation\n",
    "\n",
    "**...And let's check the results**"
   ]
  },
  {
   "cell_type": "code",
   "execution_count": 8,
   "metadata": {},
   "outputs": [
    {
     "name": "stdout",
     "output_type": "stream",
     "text": [
      "R2 score: 0.65 (training), 0.60 (test)\n"
     ]
    }
   ],
   "source": [
    "tr_pred = nn.predict(tr[attributes])\n",
    "r2_tr = r2_score(tr[target], tr_pred)\n",
    "\n",
    "ts_pred = nn.predict(ts[attributes])\n",
    "r2_ts = r2_score(ts[target], ts_pred)\n",
    "\n",
    "print(f'R2 score: {r2_tr:.2f} (training), {r2_ts:.2f} (test)')"
   ]
  },
  {
   "cell_type": "markdown",
   "metadata": {},
   "source": [
    "* They are not super (definitely not [PreCrime](https://en.wikipedia.org/wiki/The_Minority_Report) level), but not alwful either\n",
    "* Some improvements (not much) can be obtained with a Deeper model\n",
    "\n",
    "**We will keep Linear Regression as a baseline**"
   ]
  },
  {
   "cell_type": "markdown",
   "metadata": {
    "slideshow": {
     "slide_type": "subslide"
    }
   },
   "source": [
    "## Discrimination Indexes\n",
    "\n",
    "**Discrimination can be linked to _disparate treatment_**\n",
    "\n",
    "* \"race\" _may not be even among the input attributes_\n",
    "* ...And yet it may be taken into account implicitly (i.e. via correlates)\n",
    "\n",
    "**But we can check whether the model _treats differently different groups_:**\n"
   ]
  },
  {
   "cell_type": "code",
   "execution_count": 9,
   "metadata": {},
   "outputs": [
    {
     "data": {
      "application/vnd.jupyter.widget-view+json": {
       "model_id": "954a743901a3427f91feff9d8d442c3b",
       "version_major": 2,
       "version_minor": 0
      },
      "image/png": "[encoded data removed]",
      "text/html": [
       "\n",
       "            <div style=\"display: inline-block;\">\n",
       "                <div class=\"jupyter-widgets widget-label\" style=\"text-align: center;\">\n",
       "                    Figure\n",
       "                </div>\n",
       "                <img src='data:image/png;base64,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' width=900.0/>\n",
       "            </div>\n",
       "        "
      ],
      "text/plain": [
       "Canvas(toolbar=Toolbar(toolitems=[('Home', 'Reset original view', 'home', 'home'), ('Back', 'Back to previous …"
      ]
     },
     "metadata": {},
     "output_type": "display_data"
    }
   ],
   "source": [
    "protected = {'race': (0, 1)}\n",
    "util.plot_pred_by_protected(tr, tr_pred, protected, figsize=(figsize[0], 0.6*figsize[1]))"
   ]
  },
  {
   "cell_type": "markdown",
   "metadata": {},
   "source": [
    "Indeed, our model has a significant degree of discrimination"
   ]
  },
  {
   "cell_type": "markdown",
   "metadata": {
    "slideshow": {
     "slide_type": "subslide"
    }
   },
   "source": [
    "## Discrimination Indexes\n",
    "\n",
    "**A number of _discrimination indexes_ attempt to measure discrimination**\n",
    "\n",
    "* Whether ethics itself can be measured is _highly debatable_!\n",
    "* ...But even if imperfect, this currently the best we can do\n",
    "\n",
    "**We will use the [Disparate Impact Discrimination Index](https://www.aaai.org/ojs/index.php/AAAI/article/download/3943/3821)**\n",
    "\n",
    "* Given a set of categorical _protected attribute (indexes) $J_p$_\n",
    "* ...The regression for of the regression form of the index ($\\text{DIDI}_r$) is given by:\n",
    "\n",
    "$$\n",
    "\\sum_{j \\in J_p} \\sum_{v \\in D_{j}} \\left|\\frac{1}{m} \\sum_{i=1}^m y_i - \\frac{1}{|I_{j,v}|} \\sum_{i \\in I_{j,v}} y_{i}\\right|\n",
    "$$\n",
    "\n",
    "* Where $D_j$ is the domain of attribute $j$\n",
    "* ...And $I_{j,v}$ is the set of example such that attribute $j$ has value $v$\n",
    "\n",
    "\n"
   ]
  },
  {
   "cell_type": "markdown",
   "metadata": {
    "slideshow": {
     "slide_type": "subslide"
    }
   },
   "source": [
    "## DIDI\n",
    "\n",
    "**Let's make some intuitive sense of the $\\text{DIDI}_r$ formula**\n",
    "\n",
    "$$\n",
    "\\sum_{j \\in J_p} \\sum_{v \\in D_{j}} \\left|\\frac{1}{m} \\sum_{i=1}^m y_i - \\frac{1}{|I_{j,v}|} \\sum_{i \\in I_{j,v}} y_{i}\\right|\n",
    "$$\n",
    "\n",
    "* $\\frac{1}{m} \\sum_{i=1}^m y_i$ is just the average predicted value\n",
    "* The protected attribute defines social groups\n",
    "* $\\frac{1}{|I_{j,v}|} \\sum_{i \\in I_{j,v}} y_{i}$ is the average prediction for a social group\n",
    "\n",
    "**We penalize _deviations from the global average_**\n",
    "\n",
    "* Obviously this is not necessarily the best definition, but it is something\n",
    "* In general, different tasks will call for different discrimination indexes\n",
    "\n",
    "...And don't forget the whole \"can we actually measure ethics\" issue ;-)"
   ]
  },
  {
   "cell_type": "markdown",
   "metadata": {
    "slideshow": {
     "slide_type": "subslide"
    }
   },
   "source": [
    "## DIDI\n",
    "\n",
    "**We can compute the DIDI via the following function**\n",
    "\n",
    "```python\n",
    "def DIDI_r(data, pred, protected):\n",
    "    res, avg = 0, np.mean(pred)\n",
    "    for aname, dom in protected.items():\n",
    "        for val in dom:\n",
    "            mask = (data[aname] == val)\n",
    "            res += abs(avg - np.mean(pred[mask]))\n",
    "    return res\n",
    "```\n",
    "\n",
    "* `protected` contains the protected attribute names with their domain\n",
    "\n",
    "**For our original Linear Regression model, we get**"
   ]
  },
  {
   "cell_type": "code",
   "execution_count": 10,
   "metadata": {},
   "outputs": [
    {
     "name": "stdout",
     "output_type": "stream",
     "text": [
      "DIDI: 0.26 (training), 0.28 (test)\n"
     ]
    }
   ],
   "source": [
    "tr_DIDI = util.DIDI_r(tr, tr_pred, protected)\n",
    "ts_DIDI = util.DIDI_r(ts, ts_pred, protected)\n",
    "print(f'DIDI: {tr_DIDI:.2f} (training), {ts_DIDI:.2f} (test)')"
   ]
  },
  {
   "cell_type": "markdown",
   "metadata": {
    "slideshow": {
     "slide_type": "subslide"
    }
   },
   "source": [
    "## Fairness Constraints\n",
    "\n",
    "**Discrimination indexes can be used to state fairness constraints**\n",
    "\n",
    "For example, we may require:\n",
    "$$\n",
    "\\text{DIDI}_r(y) \\leq \\theta\n",
    "$$\n",
    "\n",
    "**If the chosen index is _differentiable_...**\n",
    "\n",
    "...Then we may try to inject the constraint in a NN via a _semantic regularizer_\n",
    "\n",
    "* For example, we may use a loss function in the form:\n",
    "$$\n",
    "L(y, \\hat{y}) + \\lambda \\max(0, \\text{DIDI}_r(y) - \\theta)\n",
    "$$\n",
    "\n",
    "For non-differentiable indexes (e.g. those found in classification), we can:\n",
    "\n",
    "* Use a differentiable approximation (with some care!)\n",
    "* Use an approach that does not require differentiability, e.g. [this](https://arxiv.org/abs/2002.10766) or [that](https://link.springer.com/content/pdf/10.1007/s10115-011-0463-8.pdf)\n",
    "\n"
   ]
  },
  {
   "cell_type": "markdown",
   "metadata": {
    "slideshow": {
     "slide_type": "subslide"
    }
   },
   "source": [
    "## Fairness as a Semantic Regularizer\n",
    "\n",
    "**We can once again use a custom Keras model**\n",
    "\n",
    "```python\n",
    "class CstDIDIRegressor(keras.Model):\n",
    "    def __init__(self, base_pred, attributes, protected, alpha, thr): ...\n",
    "\n",
    "    def train_step(self, data): ...\n",
    "\n",
    "    @property\n",
    "    def metrics(self): ...\n",
    "```\n",
    "\n",
    "The full code can be found in the support module\n",
    "\n",
    "* We subclass `keras.Model` and we provide a custom training step\n",
    "* `alpha` is the regularizer weight\n",
    "* `thr` is the DIDI threshold\n",
    "\n",
    "In this case, we do not need a custom batch generator"
   ]
  },
  {
   "cell_type": "markdown",
   "metadata": {
    "slideshow": {
     "slide_type": "subslide"
    }
   },
   "source": [
    "## Fairness as a Semantic Regularizer\n",
    "\n",
    "**The main logic is in the first half of the `train_step` method:**\n",
    "\n",
    "```python\n",
    "def train_step(self, data):\n",
    "    x, y_true = data # unpacking the mini-batch\n",
    "    with tf.GradientTape() as tape:\n",
    "        y_pred = self.based_pred(x, training=True) # obtain predictions\n",
    "        mse = self.compiled_loss(y_true, y_pred) # base loss (kept external)\n",
    "        ymean = k.mean(y_pred) # avg prediction\n",
    "        didi = 0 # DIDI computation\n",
    "        for aidx, dom in self.protected.items():\n",
    "            for val in dom:\n",
    "                mask = (x[:, aidx] == val)\n",
    "                didi += k.abs(ymean - k.mean(y_pred[mask]))\n",
    "        cst = k.maximum(0.0, didi - self.thr) # Regularizer\n",
    "        loss = mse + self.alpha * cst\n",
    "```\n",
    "\n",
    "* The main loss is defined when calling `compile`"
   ]
  },
  {
   "cell_type": "markdown",
   "metadata": {
    "slideshow": {
     "slide_type": "subslide"
    }
   },
   "source": [
    "## Training the Constrained Model\n",
    "\n",
    "**Let's try and train the model, trying to _roughly halve_ the DIDI**\n",
    "\n",
    "* Important: it will be a good idea to need to keep all examples in every batch\n",
    "* Mini-batches can be used, but make constraint satisfaction (more) stochastic"
   ]
  },
  {
   "cell_type": "code",
   "execution_count": 13,
   "metadata": {},
   "outputs": [
    {
     "data": {
      "application/vnd.jupyter.widget-view+json": {
       "model_id": "78ba83d93c144c02acc60b7ed6330cfa",
       "version_major": 2,
       "version_minor": 0
      },
      "image/png": "[encoded data removed]",
      "text/html": [
       "\n",
       "            <div style=\"display: inline-block;\">\n",
       "                <div class=\"jupyter-widgets widget-label\" style=\"text-align: center;\">\n",
       "                    Figure\n",
       "                </div>\n",
       "                <img src='data:image/png;base64,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' width=900.0/>\n",
       "            </div>\n",
       "        "
      ],
      "text/plain": [
       "Canvas(toolbar=Toolbar(toolitems=[('Home', 'Reset original view', 'home', 'home'), ('Back', 'Back to previous …"
      ]
     },
     "metadata": {},
     "output_type": "display_data"
    },
    {
     "name": "stdout",
     "output_type": "stream",
     "text": [
      "Model loss: 0.0100 (training)\n"
     ]
    }
   ],
   "source": [
    "didi_thr = 0.13\n",
    "base_pred = util.build_ml_model(input_size=len(attributes), output_size=1, hidden=[])\n",
    "nn2 = util.CstDIDIModel(base_pred, attributes, protected, alpha=5, thr=didi_thr)\n",
    "history = util.train_ml_model(nn2, tr[attributes], tr[target], validation_split=0., epochs=2000, batch_size=len(tr))\n",
    "util.plot_training_history(history, figsize=figsize)"
   ]
  },
  {
   "cell_type": "markdown",
   "metadata": {
    "slideshow": {
     "slide_type": "subslide"
    }
   },
   "source": [
    "## Constrained Model Evaluation\n",
    "\n",
    "**Let's check both the prediction quality and the DIDI**"
   ]
  },
  {
   "cell_type": "code",
   "execution_count": 14,
   "metadata": {},
   "outputs": [
    {
     "name": "stdout",
     "output_type": "stream",
     "text": [
      "R2 score: 0.35 (training), 0.24 (test)\n",
      "DIDI: 0.11 (training), 0.10 (test)\n"
     ]
    }
   ],
   "source": [
    "tr_pred2 = nn2.predict(tr[attributes])\n",
    "r2_tr2 = r2_score(tr[target], tr_pred2)\n",
    "ts_pred2 = nn2.predict(ts[attributes])\n",
    "r2_ts2 = r2_score(ts[target], ts_pred2)\n",
    "tr_DIDI2 = util.DIDI_r(tr, tr_pred2, protected)\n",
    "ts_DIDI2 = util.DIDI_r(ts, ts_pred2, protected)\n",
    "\n",
    "print(f'R2 score: {r2_tr2:.2f} (training), {r2_ts2:.2f} (test)')\n",
    "print(f'DIDI: {tr_DIDI2:.2f} (training), {ts_DIDI2:.2f} (test)')"
   ]
  },
  {
   "cell_type": "markdown",
   "metadata": {},
   "source": [
    "The constraint is satisfied _with some slack_, leading to reduced performance\n",
    "\n",
    "* A large $\\lambda$ (what we have here) slows down training \n",
    "* ...But a small $\\lambda$ may lead to significant constraint violation"
   ]
  },
  {
   "cell_type": "markdown",
   "metadata": {
    "slideshow": {
     "slide_type": "slide"
    }
   },
   "source": [
    "# Lagrangian Dual Framework"
   ]
  },
  {
   "cell_type": "markdown",
   "metadata": {
    "slideshow": {
     "slide_type": "subslide"
    }
   },
   "source": [
    "## Penalty Method\n",
    "\n",
    "**We can think of increasing $\\lambda$ gradually**\n",
    "\n",
    "...Which leads to the classical _penalty method_\n",
    "\n",
    "* $\\lambda^{(0)} = 1$\n",
    "* $\\omega^{(0)} = \\arg\\min_{\\omega} \\left\\{ L(y) + \\lambda^{(0)T} \\max(0, g(y)) \\right\\} \\text{ with: } y = f(\\hat{x}; \\omega)$\n",
    "* For $k = 1..n$\n",
    "  - If $g(y) \\leq 0$, stop\n",
    "  - Otherwise $\\lambda^{(k)} = r\\lambda^{(k)}$, with $r \\in (1, \\infty)$\n",
    "  - $\\omega^{(k)} = \\arg\\min_{\\omega} \\left\\{ L(y) + \\lambda^{(k)T} \\max(0, g(y)) \\right\\} \\text{ with: } y = f(\\hat{x}; \\omega)$\n",
    "\n",
    "**This is a simple, but flexible approach for constrained (numeric) optimization**\n",
    "\n",
    "* It works even with non differentiable constraints\n",
    "* ...If your training engine can handle them, that is"
   ]
  },
  {
   "cell_type": "markdown",
   "metadata": {
    "slideshow": {
     "slide_type": "subslide"
    }
   },
   "source": [
    "## Drawbacks of the Penalty Method\n",
    "\n",
    "**The penalty method can be quite effective, but it has some _drawbacks_:**\n",
    "\n",
    "1. You need an optimal solver\n",
    "   * Without one, you only get approximate results (no guarantees)\n",
    "2. The $\\max$ (or square) is important\n",
    "   * Without that, penalties turn into rewards for satisfied constraints\n",
    "3. You may need arbitrarily large weights (and there is no way around this)\n",
    "\n",
    "<center><img src=\"assets/pm_fail.png\" width=\"550px\"/></center>"
   ]
  },
  {
   "cell_type": "markdown",
   "metadata": {
    "slideshow": {
     "slide_type": "subslide"
    }
   },
   "source": [
    "## Lagrangian Dual Approach\n",
    "\n",
    "**A nice compromise is provided by the [Lagrangian Dual approach](https://arxiv.org/pdf/2001.09394)**\n",
    "\n",
    "We start from the fact that solving:\n",
    "$$\n",
    "\\min_{\\omega} \\left\\{ L(y) + \\lambda^T \\max(0, g(y)) \\right\\} \\text{ with: } y = f(\\hat{x}; \\omega)\n",
    "$$\n",
    "...Always provides a _lower bound_ on the true constrained optimum\n",
    "\n",
    "* The reason is that on the original feasible space, all penalty terms are 0\n",
    "* ...And therefore the minimum cannot be worse than the original one\n",
    "\n",
    "**Therefore, it makes sense to pick $\\lambda$ so as to _maximize this bound_**\n",
    "\n",
    "$$\n",
    "\\text{argmax}_{\\lambda} \\min_{\\omega} \\left\\{ L(y) + \\lambda^T \\max(0, g(y)) \\right\\} \\text{ with: } y = f(\\hat{x}; \\omega)\n",
    "$$\n",
    "\n",
    "Solving this problem given the best possible lower bound"
   ]
  },
  {
   "cell_type": "markdown",
   "metadata": {
    "slideshow": {
     "slide_type": "subslide"
    }
   },
   "source": [
    "## Lagrangian Dual Approach\n",
    "\n",
    "**Now, let's look more carefully at our problem:**\n",
    "\n",
    "$$\\begin{align}\n",
    "& \\text{argmax}_{\\lambda} \\min_\\omega \\mathcal{L(\\lambda, \\omega)} \\\\\n",
    "\\text{where: } & \\mathcal{L(\\lambda, \\omega)} = L(y) + \\lambda^T \\max(0, g(y)) \\\\\n",
    "\\text{ with: } & y = f(\\hat{x}; \\omega)\n",
    "\\end{align}$$\n",
    "\n",
    "**This is a _bi-level optimization problem_**\n",
    "\n",
    "It can be proved that it is _concave in $\\lambda$_\n",
    "\n",
    "* Therefore, it can be solved via _sub-gradient_ descent\n",
    "* ...Even for non-differentiable $L$, $g$, and $f$\n",
    "\n",
    "**By doing so, we increase $\\lambda$ only _when and where_ it is needed**\n",
    "\n",
    "* It is a _strong mitigation_ for the issues of the penalty method \n"
   ]
  },
  {
   "cell_type": "markdown",
   "metadata": {
    "slideshow": {
     "slide_type": "subslide"
    }
   },
   "source": [
    "## Lagrangian Dual Approach\n",
    "\n",
    "**If additionally $\\mathcal{L}(\\lambda, \\omega)$ is differentiable in $\\omega$**\n",
    "\n",
    "...Then we can solve the problem via alternate _gradient descent/ascent_:\n",
    "\n",
    "* $\\lambda^{(0)} = 0$\n",
    "* $\\omega^{(0)} = \\arg \\min_\\theta \\mathcal{L}(\\lambda^{(0)}, \\omega)$\n",
    "* For $k = 1..n$ (or until convergence):\n",
    "  - Obtain $\\lambda^{(k)}$ via an ascent step with sub-gradient $\\nabla_{\\lambda} \\mathcal{L}(\\lambda, \\omega^{(k-1)})$\n",
    "  - Obtain $\\omega^{(k)}$ via a descent step with sub-gradient $\\nabla_{\\omega} \\mathcal{L}(\\lambda^{(k)}, \\omega)$\n",
    "\n",
    "**The approach is easy to implement in tensorflow/PyTorch**\n",
    "\n",
    "We just need to use two optimization steps\n",
    "\n",
    "* It works since small changes to $\\lambda$\n",
    "* ...Usually require small changes to $\\omega$\n",
    "* Hence, we can maintain the two vectors approximately optimal "
   ]
  },
  {
   "cell_type": "markdown",
   "metadata": {
    "slideshow": {
     "slide_type": "subslide"
    }
   },
   "source": [
    "## Implementing the Lagrangian Dual Approach\n",
    "\n",
    "**We will implement the Lagrangian dual approach via another custom model**\n",
    "\n",
    "```python\n",
    "class LagDualDIDIRegressor(MLPRegressor):\n",
    "    def __init__(self, base_pred, attributes, protected, thr):\n",
    "        super(LagDualDIDIRegressor, self).__init__()\n",
    "        self.alpha = tf.Variable(0., name='alpha')\n",
    "        ...\n",
    "\n",
    "    def __custom_loss(self, x, y_true, sign=1): ...\n",
    "\n",
    "    def train_step(self, data): ...\n",
    "        \n",
    "    def metrics(self): ...\n",
    "```\n",
    "\n",
    "* We no longer pass a fixed `alpha` weight/multiplier\n",
    "* Instead we use a _trainable variable_"
   ]
  },
  {
   "cell_type": "markdown",
   "metadata": {
    "slideshow": {
     "slide_type": "subslide"
    }
   },
   "source": [
    "## Implementing the Lagrangian Dual Approach\n",
    "\n",
    "**In the `__custom_loss` method we compute the Lagrangian/regularized loss**\n",
    "\n",
    "```python\n",
    "def __custom_loss(self, x, y_true, sign=1):\n",
    "    y_pred = self.base_pred(x, training=True) # obtain the predictions\n",
    "    mse = self.compiled_loss(y_true, y_pred) # main loss\n",
    "    ymean = tf.math.reduce_mean(y_pred) # average prediction\n",
    "    didi = 0 # DIDI computation\n",
    "    for aidx, dom in self.protected.items():\n",
    "        for val in dom:\n",
    "            mask = (x[:, aidx] == val)\n",
    "            didi += tf.math.abs(ymean - tf.math.reduce_mean(y_pred[mask]))\n",
    "    cst = tf.math.maximum(0.0, didi - self.thr) # regularizer\n",
    "    loss = mse + self.alpha * cst\n",
    "    return sign*loss, mse, cst\n",
    "```\n",
    "\n",
    "* The code is the same as before\n",
    "* ...Except that we can flip the loss sign via a function argument (i.e. `sign`)"
   ]
  },
  {
   "cell_type": "markdown",
   "metadata": {
    "slideshow": {
     "slide_type": "subslide"
    }
   },
   "source": [
    "## Implementing the Lagrangian Dual Approach\n",
    "\n",
    "**In the training method, we make _two distinct gradient steps:_**\n",
    "\n",
    "```python\n",
    "    def train_step(self, data):\n",
    "        x, y_true = data # unpacking\n",
    "        with tf.GradientTape() as tape: # first loss (minimization)\n",
    "            loss, mse, cst = self.__custom_loss(x, y_true, sign=1)\n",
    "        tr_vars = self.trainable_variables\n",
    "        wgt_vars = tr_vars[:-1] # network weights\n",
    "        mul_vars = tr_vars[-1:] # multiplier\n",
    "        grads = tape.gradient(loss, wgt_vars) # adjust the network weights\n",
    "        self.optimizer.apply_gradients(zip(grads, wgt_vars))\n",
    "        with tf.GradientTape() as tape: # second loss (maximization)\n",
    "            loss, mse, cst = self.__custom_loss(x, y_true, sign=-1)\n",
    "        grads = tape.gradient(loss, mul_vars) # adjust lambda\n",
    "        self.optimizer.apply_gradients(zip(grads, mul_vars))\n",
    "```\n",
    "\n",
    "* In principle, we could even have used two distinct optimizers\n",
    "* That would allow to keep (e.g.) separate momentum vectors"
   ]
  },
  {
   "cell_type": "markdown",
   "metadata": {
    "slideshow": {
     "slide_type": "subslide"
    }
   },
   "source": [
    "## Training the Lagrangian Dual Approach\n",
    "\n",
    "**The new approach leads less oscillations at training time**"
   ]
  },
  {
   "cell_type": "code",
   "execution_count": 17,
   "metadata": {},
   "outputs": [
    {
     "data": {
      "application/vnd.jupyter.widget-view+json": {
       "model_id": "e162532c91e64e028b2cbbf15cc4ebe0",
       "version_major": 2,
       "version_minor": 0
      },
      "image/png": "[encoded data removed]",
      "text/html": [
       "\n",
       "            <div style=\"display: inline-block;\">\n",
       "                <div class=\"jupyter-widgets widget-label\" style=\"text-align: center;\">\n",
       "                    Figure\n",
       "                </div>\n",
       "                <img src='data:image/png;base64,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' width=900.0/>\n",
       "            </div>\n",
       "        "
      ],
      "text/plain": [
       "Canvas(toolbar=Toolbar(toolitems=[('Home', 'Reset original view', 'home', 'home'), ('Back', 'Back to previous …"
      ]
     },
     "metadata": {},
     "output_type": "display_data"
    },
    {
     "name": "stdout",
     "output_type": "stream",
     "text": [
      "Model loss: -0.0065 (training)\n"
     ]
    }
   ],
   "source": [
    "base_pred = util.build_ml_model(input_size=len(attributes), output_size=1, hidden=[])\n",
    "nn3 = util.LagDualDIDIModel(base_pred, attributes, protected, thr=didi_thr)\n",
    "history = util.train_ml_model(nn3, tr[attributes], tr[target], validation_split=0.,\n",
    "                              epochs=2000, batch_size=len(tr))\n",
    "util.plot_training_history(history, figsize=figsize)"
   ]
  },
  {
   "cell_type": "markdown",
   "metadata": {
    "slideshow": {
     "slide_type": "subslide"
    }
   },
   "source": [
    "## Lagrangian Dual Evaluation\n",
    "\n",
    "**Let's check the new results**"
   ]
  },
  {
   "cell_type": "code",
   "execution_count": 18,
   "metadata": {},
   "outputs": [
    {
     "name": "stdout",
     "output_type": "stream",
     "text": [
      "R2 score: 0.58 (training), 0.53 (test)\n",
      "DIDI: 0.13 (training), 0.13 (test)\n"
     ]
    }
   ],
   "source": [
    "tr_pred3 = nn3.predict(tr[attributes])\n",
    "r2_tr3 = r2_score(tr[target], tr_pred3)\n",
    "ts_pred3 = nn3.predict(ts[attributes])\n",
    "r2_ts3 = r2_score(ts[target], ts_pred3)\n",
    "tr_DIDI3 = util.DIDI_r(tr, tr_pred3, protected)\n",
    "ts_DIDI3 = util.DIDI_r(ts, ts_pred3, protected)\n",
    "\n",
    "\n",
    "print(f'R2 score: {r2_tr3:.2f} (training), {r2_ts3:.2f} (test)')\n",
    "print(f'DIDI: {tr_DIDI3:.2f} (training), {ts_DIDI3:.2f} (test)')"
   ]
  },
  {
   "cell_type": "markdown",
   "metadata": {},
   "source": [
    "* The DIDI has the desired value (on the test set, this is only roughly true)\n",
    "* ...And the prediction quality is _much higher than before_!"
   ]
  },
  {
   "cell_type": "markdown",
   "metadata": {
    "slideshow": {
     "slide_type": "subslide"
    }
   },
   "source": [
    "## Some References\n",
    "\n",
    "* Michelangelo Diligenti, Marco Gori, Claudio Saccà: Semantic-based regularization for learning and inference. Artif. Intell. 244: 143-165 (2017)\n",
    "* Francesco Giannini, Michelangelo Diligenti, Marco Gori, Marco Maggini: On a Convex Logic Fragment for Learning and Reasoning. IEEE Trans. Fuzzy Syst. 27(7): 1407-1416 (2019)\n",
    "* Badreddine, Samy, et al. \"Logic tensor networks.\" Artificial Intelligence 303 (2022): 103649.\n",
    "* Serafini, Luciano, and Artur d'Avila Garcez. \"Logic tensor networks: Deep learning and logical reasoning from data and knowledge.\" arXiv preprint arXiv:1606.04422 (2016).\n",
    "* Mattia Silvestri, Michele Lombardi, Michela Milano: Injecting Domain Knowledge in Neural Networks: A Controlled Experiment on a Constrained Problem. CPAIOR 2021: 266-282"
   ]
  },
  {
   "cell_type": "markdown",
   "metadata": {
    "slideshow": {
     "slide_type": "subslide"
    }
   },
   "source": [
    "## Some References\n",
    "\n",
    "* Boyd, Stephen, Stephen P. Boyd, and Lieven Vandenberghe. Convex optimization. Cambridge university press, 2004.\n",
    "* Andrew Cotter, Heinrich Jiang, Maya R. Gupta, Serena Wang, Taman Narayan, Seungil You, Karthik Sridharan: Optimization with Non-Differentiable Constraints with Applications to Fairness, Recall, Churn, and Other Goals. J. Mach. Learn. Res. 20: 172:1-172:59 (2019)\n",
    "* Ferdinando Fioretto, Pascal Van Hentenryck, Terrence W. K. Mak, Cuong Tran, Federico Baldo, Michele Lombardi: Lagrangian Duality for Constrained Deep Learning. ECML/PKDD (5) 2020: 118-135\n",
    "* Berk, R.; Heidari, H.; Jabbari, S.; Joseph, M.; Kearns, M. J.; Morgenstern, J.; Neel, S.; and Roth, A. 2017. A Convex Framework for Fair Regression. CoRR abs/1706.02409. URL http://arxiv.org/abs/1706.02409"
   ]
  }
 ],
 "metadata": {
  "celltoolbar": "Slideshow",
  "kernelspec": {
   "display_name": "Python 3 (ipykernel)",
   "language": "python",
   "name": "python3"
  },
  "language_info": {
   "codemirror_mode": {
    "name": "ipython",
    "version": 3
   },
   "file_extension": ".py",
   "mimetype": "text/x-python",
   "name": "python",
   "nbconvert_exporter": "python",
   "pygments_lexer": "ipython3",
   "version": "3.8.10"
  },
  "rise": {
   "center": false,
   "transition": "fade"
  }
 },
 "nbformat": 4,
 "nbformat_minor": 4
}
